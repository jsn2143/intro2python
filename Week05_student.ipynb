{
 "cells": [
  {
   "cell_type": "markdown",
   "id": "10ea1bb4",
   "metadata": {},
   "source": [
    "# **Python for Neuro:** Week 5\n",
    "\n",
    "Today, we'll review functions and learn how to use numpy!"
   ]
  },
  {
   "cell_type": "markdown",
   "id": "d3ea7636",
   "metadata": {},
   "source": [
    "## Exercise\n",
    "\n",
    "Write a function (called `collatz`) that takes in a starting value and prints out each value of the Collatz sequence. As a reminder, the rule was:\n",
    "- if the previous value $n$ was even, the next value is $n/2$.\n",
    "- if the previous value was odd, the next value is $3n+1$.\n",
    "Let the function end when the value taken is $1$."
   ]
  },
  {
   "cell_type": "code",
   "execution_count": 1,
   "id": "c8bd261c",
   "metadata": {},
   "outputs": [],
   "source": [
    "def collatz(number):\n",
    "    while(number != 1): # 'while' loop is useful when you want to iterate indefinitely\n",
    "        if number%2==0:\n",
    "            number = number/2\n",
    "        else:\n",
    "            number = number*3+1\n",
    "        print(number) "
   ]
  },
  {
   "cell_type": "code",
   "execution_count": 4,
   "id": "2fe0d941",
   "metadata": {},
   "outputs": [
    {
     "name": "stdout",
     "output_type": "stream",
     "text": [
      "150.0\n",
      "75.0\n",
      "226.0\n",
      "113.0\n",
      "340.0\n",
      "170.0\n",
      "85.0\n",
      "256.0\n",
      "128.0\n",
      "64.0\n",
      "32.0\n",
      "16.0\n",
      "8.0\n",
      "4.0\n",
      "2.0\n",
      "1.0\n"
     ]
    }
   ],
   "source": [
    "collatz(300)"
   ]
  },
  {
   "cell_type": "markdown",
   "id": "5e78a433",
   "metadata": {},
   "source": [
    "## return\n",
    "\n",
    "The return sequence leaves the function and returns any variable coming afterwards."
   ]
  },
  {
   "cell_type": "code",
   "execution_count": 5,
   "id": "f2fd7a1e",
   "metadata": {},
   "outputs": [],
   "source": [
    "def fib_return (n):\n",
    "  \"\"\"\n",
    "  Print fibonnacci series up to n.\n",
    "  Args:\n",
    "      n (int): Maximum value of the fibonacci series to return.\n",
    "  Returns:\n",
    "      list: List of fibonacci sequence values\n",
    "  \"\"\"\n",
    "\n",
    "  fib_list = []\n",
    "  a,b = 0, 1\n",
    "  while a <n:\n",
    "    fib_list.append(a)\n",
    "    next= a+b\n",
    "    a = b\n",
    "    b = next\n",
    "  return fib_list"
   ]
  },
  {
   "cell_type": "code",
   "execution_count": 6,
   "id": "f6c05bac",
   "metadata": {},
   "outputs": [
    {
     "data": {
      "text/plain": [
       "[0, 1, 1, 2, 3, 5, 8, 13, 21, 34, 55, 89, 144, 233, 377, 610, 987]"
      ]
     },
     "execution_count": 6,
     "metadata": {},
     "output_type": "execute_result"
    }
   ],
   "source": [
    "fib_return(1000)"
   ]
  },
  {
   "cell_type": "code",
   "execution_count": 7,
   "id": "b4e343c6",
   "metadata": {},
   "outputs": [],
   "source": [
    "my_fib_list = fib_return(1000) # assign to a variable so you can then do things with the output from the function (in this case, it's a list)"
   ]
  },
  {
   "cell_type": "code",
   "execution_count": 8,
   "id": "ce5504b1",
   "metadata": {},
   "outputs": [
    {
     "data": {
      "text/plain": [
       "[0, 1, 1, 2, 3, 5, 8, 13, 21, 34, 55, 89, 144, 233, 377, 610, 987]"
      ]
     },
     "execution_count": 8,
     "metadata": {},
     "output_type": "execute_result"
    }
   ],
   "source": [
    "my_fib_list"
   ]
  },
  {
   "cell_type": "markdown",
   "id": "caca852c",
   "metadata": {},
   "source": [
    "## Default arguments"
   ]
  },
  {
   "cell_type": "code",
   "execution_count": 9,
   "id": "8b486e32",
   "metadata": {},
   "outputs": [
    {
     "ename": "TypeError",
     "evalue": "fib_return() missing 1 required positional argument: 'n'",
     "output_type": "error",
     "traceback": [
      "\u001b[31m---------------------------------------------------------------------------\u001b[39m",
      "\u001b[31mTypeError\u001b[39m                                 Traceback (most recent call last)",
      "\u001b[36mCell\u001b[39m\u001b[36m \u001b[39m\u001b[32mIn[9]\u001b[39m\u001b[32m, line 2\u001b[39m\n\u001b[32m      1\u001b[39m \u001b[38;5;66;03m# We cannot run fib_return without specifying n:\u001b[39;00m\n\u001b[32m----> \u001b[39m\u001b[32m2\u001b[39m \u001b[43mfib_return\u001b[49m\u001b[43m(\u001b[49m\u001b[43m)\u001b[49m\n",
      "\u001b[31mTypeError\u001b[39m: fib_return() missing 1 required positional argument: 'n'"
     ]
    }
   ],
   "source": [
    "# We cannot run fib_return without specifying n:\n",
    "fib_return()"
   ]
  },
  {
   "cell_type": "code",
   "execution_count": 10,
   "id": "c7fdf911",
   "metadata": {},
   "outputs": [],
   "source": [
    "# Default arguments can be specified but don't have to be:\n",
    "def fib_return (n=1):\n",
    "  \"\"\"\n",
    "  Print fibonnacci series up to n.\n",
    "  Args:\n",
    "      n (int): Maximum value of the fibonacci series to return. Default value is 1.\n",
    "  Returns:\n",
    "      list: List of fibonacci sequence values\n",
    "  \"\"\"\n",
    "  # setting the default is equivalent to setting n=1 inside the function\n",
    "  fib_list = []\n",
    "  a,b = 0, 1\n",
    "  while a <n:\n",
    "    fib_list.append(a)\n",
    "    next= a+b\n",
    "    a = b\n",
    "    b = next\n",
    "  return fib_list"
   ]
  },
  {
   "cell_type": "code",
   "execution_count": 11,
   "id": "bb99b73b",
   "metadata": {},
   "outputs": [
    {
     "data": {
      "text/plain": [
       "[0]"
      ]
     },
     "execution_count": 11,
     "metadata": {},
     "output_type": "execute_result"
    }
   ],
   "source": [
    "fib_return()"
   ]
  },
  {
   "cell_type": "code",
   "execution_count": 12,
   "id": "1cbcfc66",
   "metadata": {},
   "outputs": [
    {
     "data": {
      "text/plain": [
       "[0, 1, 1, 2, 3, 5, 8]"
      ]
     },
     "execution_count": 12,
     "metadata": {},
     "output_type": "execute_result"
    }
   ],
   "source": [
    "fib_return(10)"
   ]
  },
  {
   "cell_type": "markdown",
   "id": "3efded5d",
   "metadata": {},
   "source": [
    "## Warning about default arguments\n",
    "\n",
    "Your default arguments should never be mutable. Otherwise repeated function calls can interact with each other."
   ]
  },
  {
   "cell_type": "code",
   "execution_count": 13,
   "id": "12422370",
   "metadata": {},
   "outputs": [
    {
     "name": "stdout",
     "output_type": "stream",
     "text": [
      "[1]\n",
      "[1, 2]\n",
      "[1, 2, 3]\n"
     ]
    }
   ],
   "source": [
    "# mutable arguments\n",
    "\n",
    "def f(a, L=[]):\n",
    "    L.append(a)\n",
    "    return L\n",
    "\n",
    "print(f(1)) # predict what will happen?\n",
    "print(f(2))\n",
    "print(f(3))"
   ]
  },
  {
   "cell_type": "code",
   "execution_count": 14,
   "id": "ca63ead4",
   "metadata": {},
   "outputs": [],
   "source": [
    "# Which data types are mutable -> dictionaries and lists"
   ]
  },
  {
   "cell_type": "code",
   "execution_count": 15,
   "id": "0299015f",
   "metadata": {},
   "outputs": [
    {
     "name": "stdout",
     "output_type": "stream",
     "text": [
      "[1]\n",
      "[2]\n",
      "[3]\n"
     ]
    }
   ],
   "source": [
    "# Solution\n",
    "def f(a, L=None):\n",
    "    if L is None: # None now provides a marker that we would like to use the default argument.\n",
    "        L = []\n",
    "    L.append(a)\n",
    "    return L\n",
    "\n",
    "print(f(1))\n",
    "print(f(2))\n",
    "print(f(3))"
   ]
  },
  {
   "cell_type": "markdown",
   "id": "ba341f8f",
   "metadata": {},
   "source": [
    "## Exercise\n",
    "\n",
    "Modify your ```collatz``` function so that it returns a list containing the sequence instead of printing it. Set the default argument to 100."
   ]
  },
  {
   "cell_type": "code",
   "execution_count": 18,
   "id": "bf92e8b0",
   "metadata": {},
   "outputs": [],
   "source": [
    "def collatz(number=100):\n",
    "    coll_list = [] # create an empty list so that you can return it later\n",
    "    while(number != 1): \n",
    "        if number%2==0:\n",
    "            number = number/2\n",
    "            #coll_list.append(number) <- this also works (without coll_list.append(number) outside of the if/else)\n",
    "        else:\n",
    "            number = number*3+1\n",
    "            # coll_list.append(number) <- this also works (without coll_list.append(number) outside of the if/else)\n",
    "        coll_list.append(number)\n",
    "    \n",
    "    return coll_list"
   ]
  },
  {
   "cell_type": "code",
   "execution_count": 24,
   "id": "995ce0de",
   "metadata": {},
   "outputs": [],
   "source": [
    "myseq = collatz()"
   ]
  },
  {
   "cell_type": "code",
   "execution_count": 25,
   "id": "161075da",
   "metadata": {},
   "outputs": [
    {
     "data": {
      "text/plain": [
       "[50.0,\n",
       " 25.0,\n",
       " 76.0,\n",
       " 38.0,\n",
       " 19.0,\n",
       " 58.0,\n",
       " 29.0,\n",
       " 88.0,\n",
       " 44.0,\n",
       " 22.0,\n",
       " 11.0,\n",
       " 34.0,\n",
       " 17.0,\n",
       " 52.0,\n",
       " 26.0,\n",
       " 13.0,\n",
       " 40.0,\n",
       " 20.0,\n",
       " 10.0,\n",
       " 5.0,\n",
       " 16.0,\n",
       " 8.0,\n",
       " 4.0,\n",
       " 2.0,\n",
       " 1.0]"
      ]
     },
     "execution_count": 25,
     "metadata": {},
     "output_type": "execute_result"
    }
   ],
   "source": [
    "myseq"
   ]
  },
  {
   "cell_type": "markdown",
   "id": "e4c34254",
   "metadata": {},
   "source": [
    "## Numpy!\n",
    "\n",
    "Often times, we want to work with collectons of data. The simplest rendition of this is a list:"
   ]
  },
  {
   "cell_type": "code",
   "execution_count": 26,
   "id": "ea97e56e",
   "metadata": {},
   "outputs": [],
   "source": [
    "lst_1 = [25, 20, 40, 5]"
   ]
  },
  {
   "cell_type": "markdown",
   "id": "985c6d59",
   "metadata": {},
   "source": [
    "But these lists are missing a lot of functionality that we find useful for handling numerical data. (You may be used to these from Matlab or R.) For example, suppose you want to multiply each number by 2. We may want the following command to work:"
   ]
  },
  {
   "cell_type": "code",
   "execution_count": 27,
   "id": "f89b1076",
   "metadata": {},
   "outputs": [
    {
     "data": {
      "text/plain": [
       "[25, 20, 40, 5, 25, 20, 40, 5]"
      ]
     },
     "execution_count": 27,
     "metadata": {},
     "output_type": "execute_result"
    }
   ],
   "source": [
    "2*lst_1 # made 2 lists and put them together (doesn't multiply all values in a list by 2) - lists are not vectorized."
   ]
  },
  {
   "cell_type": "markdown",
   "id": "2cbf7d79",
   "metadata": {},
   "source": [
    "Yet its output is not what we are looking for. This is because lists are not *vectorized*: they do not assume that operations should be applied elementwise. Instead we would have to use a command like the one below:"
   ]
  },
  {
   "cell_type": "code",
   "execution_count": 28,
   "id": "5bd63723",
   "metadata": {},
   "outputs": [
    {
     "data": {
      "text/plain": [
       "[50, 40, 80, 10]"
      ]
     },
     "execution_count": 28,
     "metadata": {},
     "output_type": "execute_result"
    }
   ],
   "source": [
    "lst_2 = [lst_1[i]*2 for i in range(4)]\n",
    "lst_2"
   ]
  },
  {
   "cell_type": "markdown",
   "id": "973c8477",
   "metadata": {},
   "source": [
    "To address this and other issue that arise in handling numerical data in Python, we can use `numpy`, which stands for numerical data in Python.\n",
    "\n",
    "So far, we have exclusively used Python's base functionality. `numpy` is the first example of a package that has been contributed by external users and has to be installed manually. It is, however, integral to Python for basically anyone working with numerical data."
   ]
  },
  {
   "cell_type": "code",
   "execution_count": 29,
   "id": "f2cd1458",
   "metadata": {},
   "outputs": [],
   "source": [
    "import numpy as np \n",
    "\n",
    "# np = alias (abbreviation for numpy)"
   ]
  },
  {
   "cell_type": "markdown",
   "id": "c699fc1e",
   "metadata": {},
   "source": [
    "## One-dimensional arrays: Vectors\n",
    "The central object of interest for numpy is an *array*, which refers to rectangular data (more on this later). The simplest case of an array is a one-dimensional one, a vector. You can create a vector from a list:"
   ]
  },
  {
   "cell_type": "code",
   "execution_count": 30,
   "id": "50e5f263",
   "metadata": {},
   "outputs": [],
   "source": [
    "lst_1 = [25, 20, 40, 5]\n",
    "vec_1 = np.array(lst_1)"
   ]
  },
  {
   "cell_type": "code",
   "execution_count": 31,
   "id": "ce97e26b",
   "metadata": {},
   "outputs": [
    {
     "data": {
      "text/plain": [
       "array([25, 20, 40,  5])"
      ]
     },
     "execution_count": 31,
     "metadata": {},
     "output_type": "execute_result"
    }
   ],
   "source": [
    "vec_1\n",
    "\n",
    "# array() tells us that we're dealing with a numpy array"
   ]
  },
  {
   "cell_type": "code",
   "execution_count": 32,
   "id": "4c01f27a",
   "metadata": {},
   "outputs": [
    {
     "data": {
      "text/plain": [
       "numpy.ndarray"
      ]
     },
     "execution_count": 32,
     "metadata": {},
     "output_type": "execute_result"
    }
   ],
   "source": [
    "type(vec_1)"
   ]
  },
  {
   "cell_type": "markdown",
   "id": "8fbea275",
   "metadata": {},
   "source": [
    "We can also turn a vector back into a list:"
   ]
  },
  {
   "cell_type": "code",
   "execution_count": 33,
   "id": "1765cb9b",
   "metadata": {},
   "outputs": [
    {
     "data": {
      "text/plain": [
       "[np.int64(25), np.int64(20), np.int64(40), np.int64(5)]"
      ]
     },
     "execution_count": 33,
     "metadata": {},
     "output_type": "execute_result"
    }
   ],
   "source": [
    "list(vec_1) ### CHECK ON THIS: ASK QUESTION"
   ]
  },
  {
   "cell_type": "markdown",
   "id": "f79d554f",
   "metadata": {},
   "source": [
    "Using the numpy array, we can now perform mathematical operations in the way we would like (and perhaps expect from e.g. Matlab)."
   ]
  },
  {
   "cell_type": "code",
   "execution_count": 34,
   "id": "25ced9db",
   "metadata": {},
   "outputs": [
    {
     "data": {
      "text/plain": [
       "array([50, 40, 80, 10])"
      ]
     },
     "execution_count": 34,
     "metadata": {},
     "output_type": "execute_result"
    }
   ],
   "source": [
    "vec_2 = 2*vec_1\n",
    "vec_2"
   ]
  },
  {
   "cell_type": "code",
   "execution_count": 35,
   "id": "0a681e82",
   "metadata": {},
   "outputs": [
    {
     "data": {
      "text/plain": [
       "array([ 75,  60, 120,  15])"
      ]
     },
     "execution_count": 35,
     "metadata": {},
     "output_type": "execute_result"
    }
   ],
   "source": [
    "vec_1+vec_2"
   ]
  },
  {
   "cell_type": "markdown",
   "id": "7fc829c7",
   "metadata": {},
   "source": [
    "In contrast, what happens if we add two lists?"
   ]
  },
  {
   "cell_type": "code",
   "execution_count": 36,
   "id": "98d9e9c4",
   "metadata": {},
   "outputs": [
    {
     "data": {
      "text/plain": [
       "[25, 20, 40, 5, 50, 40, 80, 10]"
      ]
     },
     "execution_count": 36,
     "metadata": {},
     "output_type": "execute_result"
    }
   ],
   "source": [
    "lst_1 + lst_2"
   ]
  },
  {
   "cell_type": "markdown",
   "id": "1eecf096",
   "metadata": {},
   "source": [
    "### Differences between lists and vectors\n",
    "Both lists and vectors can be indexed and we can easily transform an array into a list and vice versa. What are some of their differences?\n",
    "#### Elementwise operations\n",
    "We have already covered that arrays have elementwise operations whereas lists do not.\n",
    "#### Each element must have the same type\n",
    "Lists can consist of elements with different types:"
   ]
  },
  {
   "cell_type": "code",
   "execution_count": 37,
   "id": "09f99a3e",
   "metadata": {},
   "outputs": [
    {
     "data": {
      "text/plain": [
       "['a', 5]"
      ]
     },
     "execution_count": 37,
     "metadata": {},
     "output_type": "execute_result"
    }
   ],
   "source": [
    "lst_3 = ['a', 5]\n",
    "lst_3"
   ]
  },
  {
   "cell_type": "markdown",
   "id": "b404bcb9",
   "metadata": {},
   "source": [
    "An array, on the other hand, will always have the same data type for each of its elements. If a list with unequal types is converted to an array all its elements are converted to the same data type."
   ]
  },
  {
   "cell_type": "code",
   "execution_count": 38,
   "id": "e43e9e7d",
   "metadata": {},
   "outputs": [
    {
     "data": {
      "text/plain": [
       "array(['a', '5'], dtype='<U21')"
      ]
     },
     "execution_count": 38,
     "metadata": {},
     "output_type": "execute_result"
    }
   ],
   "source": [
    "vec_3 = np.array(lst_3) # why is dtype='u21' and not 'u11'?\n",
    "vec_3"
   ]
  },
  {
   "cell_type": "markdown",
   "id": "3029433d",
   "metadata": {},
   "source": [
    "<U21 is the data type corresponding to strings. You usually don't want to rely on this automatic casting functionality and should try to avoid it."
   ]
  },
  {
   "cell_type": "code",
   "execution_count": 39,
   "id": "7a00184c",
   "metadata": {},
   "outputs": [
    {
     "data": {
      "text/plain": [
       "numpy.ndarray"
      ]
     },
     "execution_count": 39,
     "metadata": {},
     "output_type": "execute_result"
    }
   ],
   "source": [
    "type(vec_3)"
   ]
  },
  {
   "cell_type": "markdown",
   "id": "7dc18483",
   "metadata": {},
   "source": [
    "How can you print out the type of this vector? Note that `type(vec_3)` gives you the type of the entire object which is a numpy array. Rather you want the type of the individual elements. Try using the autocomplete function to find out.\n",
    "\n",
    "*Hint* look at what the type information was called above."
   ]
  },
  {
   "cell_type": "code",
   "execution_count": 42,
   "id": "08ae402f",
   "metadata": {},
   "outputs": [
    {
     "name": "stdout",
     "output_type": "stream",
     "text": [
      "\u001b[31mType:\u001b[39m        ndarray\n",
      "\u001b[31mString form:\u001b[39m ['a' '5']\n",
      "\u001b[31mLength:\u001b[39m      2\n",
      "\u001b[31mFile:\u001b[39m        ~/miniforge3/envs/intropython/lib/python3.13/site-packages/numpy/__init__.py\n",
      "\u001b[31mDocstring:\u001b[39m  \n",
      "ndarray(shape, dtype=float, buffer=None, offset=0,\n",
      "        strides=None, order=None)\n",
      "\n",
      "An array object represents a multidimensional, homogeneous array\n",
      "of fixed-size items.  An associated data-type object describes the\n",
      "format of each element in the array (its byte-order, how many bytes it\n",
      "occupies in memory, whether it is an integer, a floating point number,\n",
      "or something else, etc.)\n",
      "\n",
      "Arrays should be constructed using `array`, `zeros` or `empty` (refer\n",
      "to the See Also section below).  The parameters given here refer to\n",
      "a low-level method (`ndarray(...)`) for instantiating an array.\n",
      "\n",
      "For more information, refer to the `numpy` module and examine the\n",
      "methods and attributes of an array.\n",
      "\n",
      "Parameters\n",
      "----------\n",
      "(for the __new__ method; see Notes below)\n",
      "\n",
      "shape : tuple of ints\n",
      "    Shape of created array.\n",
      "dtype : data-type, optional\n",
      "    Any object that can be interpreted as a numpy data type.\n",
      "buffer : object exposing buffer interface, optional\n",
      "    Used to fill the array with data.\n",
      "offset : int, optional\n",
      "    Offset of array data in buffer.\n",
      "strides : tuple of ints, optional\n",
      "    Strides of data in memory.\n",
      "order : {'C', 'F'}, optional\n",
      "    Row-major (C-style) or column-major (Fortran-style) order.\n",
      "\n",
      "Attributes\n",
      "----------\n",
      "T : ndarray\n",
      "    Transpose of the array.\n",
      "data : buffer\n",
      "    The array's elements, in memory.\n",
      "dtype : dtype object\n",
      "    Describes the format of the elements in the array.\n",
      "flags : dict\n",
      "    Dictionary containing information related to memory use, e.g.,\n",
      "    'C_CONTIGUOUS', 'OWNDATA', 'WRITEABLE', etc.\n",
      "flat : numpy.flatiter object\n",
      "    Flattened version of the array as an iterator.  The iterator\n",
      "    allows assignments, e.g., ``x.flat = 3`` (See `ndarray.flat` for\n",
      "    assignment examples; TODO).\n",
      "imag : ndarray\n",
      "    Imaginary part of the array.\n",
      "real : ndarray\n",
      "    Real part of the array.\n",
      "size : int\n",
      "    Number of elements in the array.\n",
      "itemsize : int\n",
      "    The memory use of each array element in bytes.\n",
      "nbytes : int\n",
      "    The total number of bytes required to store the array data,\n",
      "    i.e., ``itemsize * size``.\n",
      "ndim : int\n",
      "    The array's number of dimensions.\n",
      "shape : tuple of ints\n",
      "    Shape of the array.\n",
      "strides : tuple of ints\n",
      "    The step-size required to move from one element to the next in\n",
      "    memory. For example, a contiguous ``(3, 4)`` array of type\n",
      "    ``int16`` in C-order has strides ``(8, 2)``.  This implies that\n",
      "    to move from element to element in memory requires jumps of 2 bytes.\n",
      "    To move from row-to-row, one needs to jump 8 bytes at a time\n",
      "    (``2 * 4``).\n",
      "ctypes : ctypes object\n",
      "    Class containing properties of the array needed for interaction\n",
      "    with ctypes.\n",
      "base : ndarray\n",
      "    If the array is a view into another array, that array is its `base`\n",
      "    (unless that array is also a view).  The `base` array is where the\n",
      "    array data is actually stored.\n",
      "\n",
      "See Also\n",
      "--------\n",
      "array : Construct an array.\n",
      "zeros : Create an array, each element of which is zero.\n",
      "empty : Create an array, but leave its allocated memory unchanged (i.e.,\n",
      "        it contains \"garbage\").\n",
      "dtype : Create a data-type.\n",
      "numpy.typing.NDArray : An ndarray alias :term:`generic <generic type>`\n",
      "                       w.r.t. its `dtype.type <numpy.dtype.type>`.\n",
      "\n",
      "Notes\n",
      "-----\n",
      "There are two modes of creating an array using ``__new__``:\n",
      "\n",
      "1. If `buffer` is None, then only `shape`, `dtype`, and `order`\n",
      "   are used.\n",
      "2. If `buffer` is an object exposing the buffer interface, then\n",
      "   all keywords are interpreted.\n",
      "\n",
      "No ``__init__`` method is needed because the array is fully initialized\n",
      "after the ``__new__`` method.\n",
      "\n",
      "Examples\n",
      "--------\n",
      "These examples illustrate the low-level `ndarray` constructor.  Refer\n",
      "to the `See Also` section above for easier ways of constructing an\n",
      "ndarray.\n",
      "\n",
      "First mode, `buffer` is None:\n",
      "\n",
      ">>> import numpy as np\n",
      ">>> np.ndarray(shape=(2,2), dtype=float, order='F')\n",
      "array([[0.0e+000, 0.0e+000], # random\n",
      "       [     nan, 2.5e-323]])\n",
      "\n",
      "Second mode:\n",
      "\n",
      ">>> np.ndarray((2,), buffer=np.array([1,2,3]),\n",
      "...            offset=np.int_().itemsize,\n",
      "...            dtype=int) # offset = 1*itemsize, i.e. skip first element\n",
      "array([2, 3])"
     ]
    }
   ],
   "source": [
    "vec_3?"
   ]
  },
  {
   "cell_type": "code",
   "execution_count": 43,
   "id": "bc3a3b0c",
   "metadata": {},
   "outputs": [
    {
     "data": {
      "text/plain": [
       "dtype('<U21')"
      ]
     },
     "execution_count": 43,
     "metadata": {},
     "output_type": "execute_result"
    }
   ],
   "source": [
    "vec_3.dtype"
   ]
  },
  {
   "cell_type": "markdown",
   "id": "c788f848",
   "metadata": {},
   "source": [
    "We do we not need parentheses after `dtype`? This is because `dtype` is not function, but rather a new type of Python object called an *attribute*. These are like variables, but are limited in scope to specific objects. We will get to know them in more depth in a later lesson."
   ]
  },
  {
   "cell_type": "markdown",
   "id": "cf4b9d70",
   "metadata": {},
   "source": [
    "### Question 1\n",
    "\n",
    "- Create a numpy array with the elements 3, 7, 10 and divide each element by two\n",
    "- Create a new array `vec_4` that is the elementwise multiplication of `vec_1` and `vec_2`.\n",
    "- Create an array `vec_5` that has a `True` value wherever `vec_1` is smaller than or equal to `20` and a `False` value otherwise. *Hint:* This should be possible in a one liner."
   ]
  },
  {
   "cell_type": "code",
   "execution_count": 46,
   "id": "33b55614",
   "metadata": {},
   "outputs": [
    {
     "data": {
      "text/plain": [
       "array([1.5, 3.5, 4.5])"
      ]
     },
     "execution_count": 46,
     "metadata": {},
     "output_type": "execute_result"
    }
   ],
   "source": [
    "my_vec_1 = np.array([3,7,9])\n",
    "my_vec_2 = my_vec_1/2\n",
    "my_vec_2"
   ]
  },
  {
   "cell_type": "code",
   "execution_count": 45,
   "id": "69c3a9dd",
   "metadata": {},
   "outputs": [
    {
     "data": {
      "text/plain": [
       "array([1250,  800, 3200,   50])"
      ]
     },
     "execution_count": 45,
     "metadata": {},
     "output_type": "execute_result"
    }
   ],
   "source": [
    "vec_4 = vec_1*vec_2\n",
    "vec_4"
   ]
  },
  {
   "cell_type": "code",
   "execution_count": 47,
   "id": "0783fb3d",
   "metadata": {},
   "outputs": [
    {
     "data": {
      "text/plain": [
       "array([False,  True, False,  True])"
      ]
     },
     "execution_count": 47,
     "metadata": {},
     "output_type": "execute_result"
    }
   ],
   "source": [
    "vec_5 = vec_1 <= 20\n",
    "vec_5"
   ]
  },
  {
   "cell_type": "markdown",
   "id": "13e488d9",
   "metadata": {},
   "source": [
    "## Two-dimensional arrays: Matrices\n",
    "Rectangular data in two dimensions is often called a matrix: it consists of observations organized by rows and columns. Basic Python would allow us to store such data using a list of lists:"
   ]
  },
  {
   "cell_type": "code",
   "execution_count": 48,
   "id": "be7a14de",
   "metadata": {},
   "outputs": [
    {
     "data": {
      "text/plain": [
       "[[1, 2], [3, 4], [5, 6]]"
      ]
     },
     "execution_count": 48,
     "metadata": {},
     "output_type": "execute_result"
    }
   ],
   "source": [
    "lst_1 = [\n",
    "    [1, 2],\n",
    "    [3, 4],\n",
    "    [5, 6]\n",
    "]\n",
    "lst_1"
   ]
  },
  {
   "cell_type": "markdown",
   "id": "f4454248",
   "metadata": {},
   "source": [
    "Yet the already tedious process of computing elementwise operations quickly becomes infeasible in this context. If wanted to multiply each element by two we would have to iterate over the outer list and then the inner set of lists."
   ]
  },
  {
   "cell_type": "code",
   "execution_count": 49,
   "id": "f180ca23",
   "metadata": {},
   "outputs": [
    {
     "data": {
      "text/plain": [
       "[[2, 4], [6, 8], [10, 12]]"
      ]
     },
     "execution_count": 49,
     "metadata": {},
     "output_type": "execute_result"
    }
   ],
   "source": [
    "lst_2 = [\n",
    "    [2*it2 for it2 in it] for it in lst_1\n",
    "]\n",
    "lst_2"
   ]
  },
  {
   "cell_type": "markdown",
   "id": "3c30db2d",
   "metadata": {},
   "source": [
    "Again we can turn the list of lists into a matrix simply by applying `np.array`:"
   ]
  },
  {
   "cell_type": "code",
   "execution_count": 50,
   "id": "4620477d",
   "metadata": {},
   "outputs": [
    {
     "data": {
      "text/plain": [
       "array([[1, 2],\n",
       "       [3, 4],\n",
       "       [5, 6]])"
      ]
     },
     "execution_count": 50,
     "metadata": {},
     "output_type": "execute_result"
    }
   ],
   "source": [
    "mat_1 = np.array(lst_1)\n",
    "mat_1"
   ]
  },
  {
   "cell_type": "markdown",
   "id": "9ab17186",
   "metadata": {},
   "source": [
    "Now we can apply vectorized operations as previously:"
   ]
  },
  {
   "cell_type": "code",
   "execution_count": 51,
   "id": "1a3587c5",
   "metadata": {},
   "outputs": [
    {
     "data": {
      "text/plain": [
       "array([[ 2,  4],\n",
       "       [ 6,  8],\n",
       "       [10, 12]])"
      ]
     },
     "execution_count": 51,
     "metadata": {},
     "output_type": "execute_result"
    }
   ],
   "source": [
    "mat_2 = 2*mat_1\n",
    "mat_2"
   ]
  },
  {
   "cell_type": "markdown",
   "id": "2ef55254",
   "metadata": {},
   "source": [
    "How can you find out the number of rows and columns of the matrix? Try googling or exploring the methods using the autocomplete function."
   ]
  },
  {
   "cell_type": "code",
   "execution_count": 52,
   "id": "b65b0d2d",
   "metadata": {},
   "outputs": [
    {
     "data": {
      "text/plain": [
       "(3, 2)"
      ]
     },
     "execution_count": 52,
     "metadata": {},
     "output_type": "execute_result"
    }
   ],
   "source": [
    "mat_1.shape\n",
    "\n",
    "# (rows, columns)"
   ]
  },
  {
   "cell_type": "markdown",
   "id": "6f964343",
   "metadata": {},
   "source": [
    "Importantly, numpy, by default, uses elementwise computations. So `*` results in elementwise multiplication, not matrix multiplication."
   ]
  },
  {
   "cell_type": "code",
   "execution_count": 53,
   "id": "f9e81988",
   "metadata": {},
   "outputs": [
    {
     "data": {
      "text/plain": [
       "array([[ 2,  8],\n",
       "       [18, 32],\n",
       "       [50, 72]])"
      ]
     },
     "execution_count": 53,
     "metadata": {},
     "output_type": "execute_result"
    }
   ],
   "source": [
    "mat_1*mat_2"
   ]
  },
  {
   "cell_type": "markdown",
   "id": "893fd512",
   "metadata": {},
   "source": [
    "You can run matrix multiplication by using the `@` operator."
   ]
  },
  {
   "cell_type": "code",
   "execution_count": 54,
   "id": "5096855d",
   "metadata": {},
   "outputs": [
    {
     "data": {
      "text/plain": [
       "array([[ 7, 10],\n",
       "       [15, 22],\n",
       "       [23, 34]])"
      ]
     },
     "execution_count": 54,
     "metadata": {},
     "output_type": "execute_result"
    }
   ],
   "source": [
    "mat_3 = np.array([[1,2],[3,4]])\n",
    "mat_1@mat_3 # mat_1 and mat_3 are different shapes. For matrix multiplication, use '@'"
   ]
  },
  {
   "cell_type": "markdown",
   "id": "313ad66b",
   "metadata": {},
   "source": [
    "### Saving arrays\n",
    "We can save arrays using `np.save`."
   ]
  },
  {
   "cell_type": "code",
   "execution_count": 55,
   "id": "da2ca311",
   "metadata": {},
   "outputs": [],
   "source": [
    "np.save('mat_1.npy', mat_1) # saves it to disc"
   ]
  },
  {
   "cell_type": "code",
   "execution_count": 56,
   "id": "461e3442",
   "metadata": {},
   "outputs": [],
   "source": [
    "mat_1_copy = np.load('mat_1.npy')"
   ]
  },
  {
   "cell_type": "code",
   "execution_count": 57,
   "id": "51fb10fb",
   "metadata": {},
   "outputs": [
    {
     "data": {
      "text/plain": [
       "array([[1, 2],\n",
       "       [3, 4],\n",
       "       [5, 6]])"
      ]
     },
     "execution_count": 57,
     "metadata": {},
     "output_type": "execute_result"
    }
   ],
   "source": [
    "mat_1_copy"
   ]
  },
  {
   "cell_type": "markdown",
   "id": "c7d0c5b0",
   "metadata": {},
   "source": [
    "## Higher-dimensional arrays"
   ]
  },
  {
   "cell_type": "markdown",
   "id": "adf98280",
   "metadata": {},
   "source": [
    "We now load some simulated data, which is stored in the file `ex_array.npy`. Try assigning the data in that file to the variable `arr`."
   ]
  },
  {
   "cell_type": "code",
   "execution_count": 61,
   "id": "7f037ff1",
   "metadata": {},
   "outputs": [],
   "source": [
    "arr = np.load('ex_array.npy', allow_pickle=True)"
   ]
  },
  {
   "cell_type": "markdown",
   "id": "925d022a",
   "metadata": {},
   "source": [
    "Suppose you know that what is stored in this data are spike rates of fifty different neurons for two different conditions and ten repeated measurements. Spike rates are recorded every second for 2000 seconds. How can you figure out how this data is represented in the array?"
   ]
  },
  {
   "cell_type": "code",
   "execution_count": 62,
   "id": "c1e8ea60",
   "metadata": {},
   "outputs": [
    {
     "data": {
      "text/plain": [
       "(2, 10, 50, 2000)"
      ]
     },
     "execution_count": 62,
     "metadata": {},
     "output_type": "execute_result"
    }
   ],
   "source": [
    "arr.shape\n",
    "\n",
    "# (2 conditions, 10 trials, 50 neurons, 2000 timepoints)"
   ]
  },
  {
   "cell_type": "code",
   "execution_count": 63,
   "id": "9b357988",
   "metadata": {},
   "outputs": [
    {
     "data": {
      "text/plain": [
       "4"
      ]
     },
     "execution_count": 63,
     "metadata": {},
     "output_type": "execute_result"
    }
   ],
   "source": [
    "arr.ndim"
   ]
  },
  {
   "cell_type": "markdown",
   "id": "49c42964",
   "metadata": {},
   "source": [
    "Whereas a vector has one dimension and a matrix has two dimensions, `arr` has four dimensions: the first one specifies the condition, the second one the trial, the third one the neuron, and the fourth one the timepoint. We can also create higher-dimensional arrays directly:"
   ]
  },
  {
   "cell_type": "code",
   "execution_count": 64,
   "id": "ec4ca4bc",
   "metadata": {},
   "outputs": [],
   "source": [
    "arr_2 = np.array([\n",
    "    [[2,4,6],\n",
    "     [1,3,5]],\n",
    "    [[0.5,1,2],\n",
    "     [0.75, 1, 1.25]]\n",
    "])"
   ]
  },
  {
   "cell_type": "markdown",
   "id": "4776313b",
   "metadata": {},
   "source": [
    "What is `arr_2.ndim` and `arr_2.shape`?"
   ]
  },
  {
   "cell_type": "code",
   "execution_count": 65,
   "id": "4fa2dc5f",
   "metadata": {},
   "outputs": [
    {
     "data": {
      "text/plain": [
       "3"
      ]
     },
     "execution_count": 65,
     "metadata": {},
     "output_type": "execute_result"
    }
   ],
   "source": [
    "arr_2.ndim # dimensions = number of brackets in the array (in prev codeblock)"
   ]
  },
  {
   "cell_type": "code",
   "execution_count": 66,
   "id": "6ba5e563",
   "metadata": {},
   "outputs": [
    {
     "data": {
      "text/plain": [
       "(2, 2, 3)"
      ]
     },
     "execution_count": 66,
     "metadata": {},
     "output_type": "execute_result"
    }
   ],
   "source": [
    "arr_2.shape"
   ]
  },
  {
   "cell_type": "markdown",
   "id": "6fe64519",
   "metadata": {},
   "source": [
    "### Data must be rectangular\n",
    "Importantly numpy only allows for rectangular data. What happens if you create an array from a list of lists with unequal length?"
   ]
  },
  {
   "cell_type": "code",
   "execution_count": 67,
   "id": "4264af42",
   "metadata": {},
   "outputs": [
    {
     "ename": "ValueError",
     "evalue": "setting an array element with a sequence. The requested array has an inhomogeneous shape after 1 dimensions. The detected shape was (2,) + inhomogeneous part.",
     "output_type": "error",
     "traceback": [
      "\u001b[31m---------------------------------------------------------------------------\u001b[39m",
      "\u001b[31mValueError\u001b[39m                                Traceback (most recent call last)",
      "\u001b[36mCell\u001b[39m\u001b[36m \u001b[39m\u001b[32mIn[67]\u001b[39m\u001b[32m, line 1\u001b[39m\n\u001b[32m----> \u001b[39m\u001b[32m1\u001b[39m mat = \u001b[43mnp\u001b[49m\u001b[43m.\u001b[49m\u001b[43marray\u001b[49m\u001b[43m(\u001b[49m\u001b[43m[\u001b[49m\u001b[43m[\u001b[49m\u001b[32;43m1\u001b[39;49m\u001b[43m,\u001b[49m\u001b[32;43m2\u001b[39;49m\u001b[43m]\u001b[49m\u001b[43m,\u001b[49m\u001b[43m[\u001b[49m\u001b[32;43m3\u001b[39;49m\u001b[43m]\u001b[49m\u001b[43m]\u001b[49m\u001b[43m)\u001b[49m\n",
      "\u001b[31mValueError\u001b[39m: setting an array element with a sequence. The requested array has an inhomogeneous shape after 1 dimensions. The detected shape was (2,) + inhomogeneous part."
     ]
    }
   ],
   "source": [
    "mat = np.array([[1,2],[3]]) # returns an error"
   ]
  },
  {
   "cell_type": "code",
   "execution_count": 68,
   "id": "64b0f3b4",
   "metadata": {},
   "outputs": [
    {
     "ename": "NameError",
     "evalue": "name 'mat' is not defined",
     "output_type": "error",
     "traceback": [
      "\u001b[31m---------------------------------------------------------------------------\u001b[39m",
      "\u001b[31mNameError\u001b[39m                                 Traceback (most recent call last)",
      "\u001b[36mCell\u001b[39m\u001b[36m \u001b[39m\u001b[32mIn[68]\u001b[39m\u001b[32m, line 1\u001b[39m\n\u001b[32m----> \u001b[39m\u001b[32m1\u001b[39m \u001b[43mmat\u001b[49m\n",
      "\u001b[31mNameError\u001b[39m: name 'mat' is not defined"
     ]
    }
   ],
   "source": [
    "mat"
   ]
  },
  {
   "cell_type": "markdown",
   "id": "1569b071",
   "metadata": {},
   "source": [
    "### Broadcasting"
   ]
  },
  {
   "cell_type": "markdown",
   "id": "393b2b4e",
   "metadata": {},
   "source": [
    "In general you cannot add two matrices with different shapes:"
   ]
  },
  {
   "cell_type": "code",
   "execution_count": 69,
   "id": "2f2c46a6",
   "metadata": {},
   "outputs": [
    {
     "data": {
      "text/plain": [
       "(3, 2)"
      ]
     },
     "execution_count": 69,
     "metadata": {},
     "output_type": "execute_result"
    }
   ],
   "source": [
    "mat_1.shape"
   ]
  },
  {
   "cell_type": "code",
   "execution_count": 70,
   "id": "dad400e6",
   "metadata": {},
   "outputs": [],
   "source": [
    "mat_3 = np.array([\n",
    "    [1,2,3],\n",
    "    [1,2,3]\n",
    "])"
   ]
  },
  {
   "cell_type": "code",
   "execution_count": 71,
   "id": "7d34f002",
   "metadata": {},
   "outputs": [
    {
     "ename": "ValueError",
     "evalue": "operands could not be broadcast together with shapes (3,2) (2,3) ",
     "output_type": "error",
     "traceback": [
      "\u001b[31m---------------------------------------------------------------------------\u001b[39m",
      "\u001b[31mValueError\u001b[39m                                Traceback (most recent call last)",
      "\u001b[36mCell\u001b[39m\u001b[36m \u001b[39m\u001b[32mIn[71]\u001b[39m\u001b[32m, line 1\u001b[39m\n\u001b[32m----> \u001b[39m\u001b[32m1\u001b[39m \u001b[43mmat_1\u001b[49m\u001b[43m+\u001b[49m\u001b[43mmat_3\u001b[49m\n",
      "\u001b[31mValueError\u001b[39m: operands could not be broadcast together with shapes (3,2) (2,3) "
     ]
    }
   ],
   "source": [
    "mat_1+mat_3 \n",
    "\n",
    "# returns an error - numpy doesn't know how to work with these"
   ]
  },
  {
   "cell_type": "markdown",
   "id": "a214dff8",
   "metadata": {},
   "source": [
    "Elementwise operations can work between two arrays with unequal shapes:\n",
    "- If they match everywhere except where one of them has a dimension of length 1\n",
    "- If they have an unequal number of dimensions, the array with fewer dimensions is appended dimensions of length 1 in the beginning."
   ]
  },
  {
   "cell_type": "code",
   "execution_count": 72,
   "id": "2b63d1c5",
   "metadata": {},
   "outputs": [
    {
     "data": {
      "text/plain": [
       "array([[2, 4],\n",
       "       [4, 6],\n",
       "       [6, 8]])"
      ]
     },
     "execution_count": 72,
     "metadata": {},
     "output_type": "execute_result"
    }
   ],
   "source": [
    "np.array([\n",
    "    [1,2]\n",
    "]) + np.array([\n",
    "    [1,2],\n",
    "    [3,4],\n",
    "    [5,6]\n",
    "])"
   ]
  },
  {
   "cell_type": "markdown",
   "id": "01bb168f",
   "metadata": {},
   "source": [
    "The same thing is true for matrices with one column or other elementwise operations."
   ]
  },
  {
   "cell_type": "code",
   "execution_count": 73,
   "id": "fc641db5",
   "metadata": {},
   "outputs": [],
   "source": [
    "divisor = np.array([[2], [1], [1]])"
   ]
  },
  {
   "cell_type": "code",
   "execution_count": 74,
   "id": "cfb0905d",
   "metadata": {},
   "outputs": [
    {
     "data": {
      "text/plain": [
       "(3, 1)"
      ]
     },
     "execution_count": 74,
     "metadata": {},
     "output_type": "execute_result"
    }
   ],
   "source": [
    "divisor.shape"
   ]
  },
  {
   "cell_type": "code",
   "execution_count": 75,
   "id": "c685f595",
   "metadata": {},
   "outputs": [
    {
     "data": {
      "text/plain": [
       "array([[1, 2],\n",
       "       [3, 4],\n",
       "       [5, 6]])"
      ]
     },
     "execution_count": 75,
     "metadata": {},
     "output_type": "execute_result"
    }
   ],
   "source": [
    "mat_1"
   ]
  },
  {
   "cell_type": "code",
   "execution_count": 76,
   "id": "c0a6b5c5",
   "metadata": {},
   "outputs": [
    {
     "data": {
      "text/plain": [
       "array([[0.5, 1. ],\n",
       "       [3. , 4. ],\n",
       "       [5. , 6. ]])"
      ]
     },
     "execution_count": 76,
     "metadata": {},
     "output_type": "execute_result"
    }
   ],
   "source": [
    "mat_1 / divisor"
   ]
  },
  {
   "cell_type": "code",
   "execution_count": 77,
   "id": "da91a5d2",
   "metadata": {},
   "outputs": [],
   "source": [
    "vec_4 = np.array([1, 2])"
   ]
  },
  {
   "cell_type": "code",
   "execution_count": 78,
   "id": "4b9d57a3",
   "metadata": {},
   "outputs": [
    {
     "data": {
      "text/plain": [
       "(2,)"
      ]
     },
     "execution_count": 78,
     "metadata": {},
     "output_type": "execute_result"
    }
   ],
   "source": [
    "vec_4.shape"
   ]
  },
  {
   "cell_type": "code",
   "execution_count": 79,
   "id": "2d88baf1",
   "metadata": {},
   "outputs": [
    {
     "data": {
      "text/plain": [
       "array([[1, 2],\n",
       "       [3, 4],\n",
       "       [5, 6]])"
      ]
     },
     "execution_count": 79,
     "metadata": {},
     "output_type": "execute_result"
    }
   ],
   "source": [
    "mat_1"
   ]
  },
  {
   "cell_type": "code",
   "execution_count": 80,
   "id": "57cde09f",
   "metadata": {},
   "outputs": [
    {
     "data": {
      "text/plain": [
       "array([[2, 4],\n",
       "       [4, 6],\n",
       "       [6, 8]])"
      ]
     },
     "execution_count": 80,
     "metadata": {},
     "output_type": "execute_result"
    }
   ],
   "source": [
    "vec_4+mat_1"
   ]
  },
  {
   "cell_type": "markdown",
   "id": "4ee1ced7",
   "metadata": {},
   "source": [
    "### Creating some arrays"
   ]
  },
  {
   "cell_type": "code",
   "execution_count": 81,
   "id": "c9c4adf1",
   "metadata": {},
   "outputs": [
    {
     "data": {
      "text/plain": [
       "array([0.  , 0.05, 0.1 , 0.15, 0.2 , 0.25, 0.3 , 0.35, 0.4 , 0.45, 0.5 ,\n",
       "       0.55, 0.6 , 0.65, 0.7 , 0.75, 0.8 , 0.85, 0.9 , 0.95, 1.  ])"
      ]
     },
     "execution_count": 81,
     "metadata": {},
     "output_type": "execute_result"
    }
   ],
   "source": [
    "np.linspace(0, 1, 21) # counts from 0 to 1 with 21 different steps in between "
   ]
  },
  {
   "cell_type": "code",
   "execution_count": 82,
   "id": "3c780cfc",
   "metadata": {},
   "outputs": [
    {
     "data": {
      "text/plain": [
       "array([0, 1, 2, 3, 4, 5, 6, 7, 8, 9])"
      ]
     },
     "execution_count": 82,
     "metadata": {},
     "output_type": "execute_result"
    }
   ],
   "source": [
    "np.arange(10)"
   ]
  },
  {
   "cell_type": "code",
   "execution_count": 83,
   "id": "96271d6a",
   "metadata": {},
   "outputs": [
    {
     "data": {
      "text/plain": [
       "array([1, 3, 5, 7, 9])"
      ]
     },
     "execution_count": 83,
     "metadata": {},
     "output_type": "execute_result"
    }
   ],
   "source": [
    "np.arange(1, 10, 2) # gives range of numbers from 1-10 that counts up in 2's"
   ]
  },
  {
   "cell_type": "code",
   "execution_count": 84,
   "id": "65466e63",
   "metadata": {},
   "outputs": [
    {
     "data": {
      "text/plain": [
       "array([[[1., 1., 1.],\n",
       "        [1., 1., 1.]],\n",
       "\n",
       "       [[1., 1., 1.],\n",
       "        [1., 1., 1.]],\n",
       "\n",
       "       [[1., 1., 1.],\n",
       "        [1., 1., 1.]],\n",
       "\n",
       "       [[1., 1., 1.],\n",
       "        [1., 1., 1.]]])"
      ]
     },
     "execution_count": 84,
     "metadata": {},
     "output_type": "execute_result"
    }
   ],
   "source": [
    "np.ones((4, 2, 3))"
   ]
  },
  {
   "cell_type": "markdown",
   "id": "2cf1d6c2",
   "metadata": {},
   "source": [
    "### Question 2\n",
    "\n",
    "Below we're creating arrays with different shapes. Try predicting for each if elementwise addition would work, what shape the resulting array would have, then try it out and see if you were correct."
   ]
  },
  {
   "cell_type": "code",
   "execution_count": 85,
   "id": "c3b954f6",
   "metadata": {},
   "outputs": [
    {
     "ename": "ValueError",
     "evalue": "operands could not be broadcast together with shapes (3,2) (2,3) ",
     "output_type": "error",
     "traceback": [
      "\u001b[31m---------------------------------------------------------------------------\u001b[39m",
      "\u001b[31mValueError\u001b[39m                                Traceback (most recent call last)",
      "\u001b[36mCell\u001b[39m\u001b[36m \u001b[39m\u001b[32mIn[85]\u001b[39m\u001b[32m, line 3\u001b[39m\n\u001b[32m      1\u001b[39m arr_1 = np.ones((\u001b[32m3\u001b[39m,\u001b[32m2\u001b[39m))\n\u001b[32m      2\u001b[39m arr_2 = np.ones((\u001b[32m2\u001b[39m,\u001b[32m3\u001b[39m))\n\u001b[32m----> \u001b[39m\u001b[32m3\u001b[39m \u001b[43marr_1\u001b[49m\u001b[43m \u001b[49m\u001b[43m+\u001b[49m\u001b[43m \u001b[49m\u001b[43marr_2\u001b[49m\n",
      "\u001b[31mValueError\u001b[39m: operands could not be broadcast together with shapes (3,2) (2,3) "
     ]
    }
   ],
   "source": [
    "arr_1 = np.ones((3,2))\n",
    "arr_2 = np.ones((2,3))\n",
    "\n",
    "arr_1 + arr_2 \n",
    "# doesn't work b/c they are diff shapes - the last elements don't line up"
   ]
  },
  {
   "cell_type": "code",
   "execution_count": 91,
   "id": "1e44419a",
   "metadata": {},
   "outputs": [
    {
     "data": {
      "text/plain": [
       "array([[[2., 2., 2., 2., 2.],\n",
       "        [2., 2., 2., 2., 2.],\n",
       "        [2., 2., 2., 2., 2.],\n",
       "        [2., 2., 2., 2., 2.],\n",
       "        [2., 2., 2., 2., 2.],\n",
       "        [2., 2., 2., 2., 2.]],\n",
       "\n",
       "       [[2., 2., 2., 2., 2.],\n",
       "        [2., 2., 2., 2., 2.],\n",
       "        [2., 2., 2., 2., 2.],\n",
       "        [2., 2., 2., 2., 2.],\n",
       "        [2., 2., 2., 2., 2.],\n",
       "        [2., 2., 2., 2., 2.]],\n",
       "\n",
       "       [[2., 2., 2., 2., 2.],\n",
       "        [2., 2., 2., 2., 2.],\n",
       "        [2., 2., 2., 2., 2.],\n",
       "        [2., 2., 2., 2., 2.],\n",
       "        [2., 2., 2., 2., 2.],\n",
       "        [2., 2., 2., 2., 2.]],\n",
       "\n",
       "       [[2., 2., 2., 2., 2.],\n",
       "        [2., 2., 2., 2., 2.],\n",
       "        [2., 2., 2., 2., 2.],\n",
       "        [2., 2., 2., 2., 2.],\n",
       "        [2., 2., 2., 2., 2.],\n",
       "        [2., 2., 2., 2., 2.]]])"
      ]
     },
     "execution_count": 91,
     "metadata": {},
     "output_type": "execute_result"
    }
   ],
   "source": [
    "arr_1 = np.ones((4,1,5))\n",
    "arr_2 = np.ones((4,6,5))\n",
    "\n",
    "arr_1 + arr_2 # works! - b/c the last numbers line up"
   ]
  },
  {
   "cell_type": "code",
   "execution_count": 92,
   "id": "ce0196eb",
   "metadata": {},
   "outputs": [
    {
     "data": {
      "text/plain": [
       "array([[[2., 2., 2., 2., 2.],\n",
       "        [2., 2., 2., 2., 2.],\n",
       "        [2., 2., 2., 2., 2.],\n",
       "        [2., 2., 2., 2., 2.],\n",
       "        [2., 2., 2., 2., 2.],\n",
       "        [2., 2., 2., 2., 2.]],\n",
       "\n",
       "       [[2., 2., 2., 2., 2.],\n",
       "        [2., 2., 2., 2., 2.],\n",
       "        [2., 2., 2., 2., 2.],\n",
       "        [2., 2., 2., 2., 2.],\n",
       "        [2., 2., 2., 2., 2.],\n",
       "        [2., 2., 2., 2., 2.]],\n",
       "\n",
       "       [[2., 2., 2., 2., 2.],\n",
       "        [2., 2., 2., 2., 2.],\n",
       "        [2., 2., 2., 2., 2.],\n",
       "        [2., 2., 2., 2., 2.],\n",
       "        [2., 2., 2., 2., 2.],\n",
       "        [2., 2., 2., 2., 2.]],\n",
       "\n",
       "       [[2., 2., 2., 2., 2.],\n",
       "        [2., 2., 2., 2., 2.],\n",
       "        [2., 2., 2., 2., 2.],\n",
       "        [2., 2., 2., 2., 2.],\n",
       "        [2., 2., 2., 2., 2.],\n",
       "        [2., 2., 2., 2., 2.]]])"
      ]
     },
     "execution_count": 92,
     "metadata": {},
     "output_type": "execute_result"
    }
   ],
   "source": [
    "arr_1 = np.ones((4,1,5))\n",
    "arr_2 = np.ones((4,6,1))\n",
    "\n",
    "arr_1 + arr_2 # does work - b/c \n",
    "\n",
    "# think volume?"
   ]
  },
  {
   "cell_type": "code",
   "execution_count": 93,
   "id": "3314420a",
   "metadata": {},
   "outputs": [
    {
     "data": {
      "text/plain": [
       "array([[[2., 2., 2., 2., 2.],\n",
       "        [2., 2., 2., 2., 2.],\n",
       "        [2., 2., 2., 2., 2.]],\n",
       "\n",
       "       [[2., 2., 2., 2., 2.],\n",
       "        [2., 2., 2., 2., 2.],\n",
       "        [2., 2., 2., 2., 2.]],\n",
       "\n",
       "       [[2., 2., 2., 2., 2.],\n",
       "        [2., 2., 2., 2., 2.],\n",
       "        [2., 2., 2., 2., 2.]],\n",
       "\n",
       "       [[2., 2., 2., 2., 2.],\n",
       "        [2., 2., 2., 2., 2.],\n",
       "        [2., 2., 2., 2., 2.]]])"
      ]
     },
     "execution_count": 93,
     "metadata": {},
     "output_type": "execute_result"
    }
   ],
   "source": [
    "arr_1 = np.ones((4,3,5))\n",
    "arr_2 = np.ones((3,5))\n",
    "\n",
    "arr_1 + arr_2 # does work"
   ]
  },
  {
   "cell_type": "code",
   "execution_count": 94,
   "id": "d28dd86a",
   "metadata": {},
   "outputs": [
    {
     "ename": "ValueError",
     "evalue": "operands could not be broadcast together with shapes (4,3,5) (4,3) ",
     "output_type": "error",
     "traceback": [
      "\u001b[31m---------------------------------------------------------------------------\u001b[39m",
      "\u001b[31mValueError\u001b[39m                                Traceback (most recent call last)",
      "\u001b[36mCell\u001b[39m\u001b[36m \u001b[39m\u001b[32mIn[94]\u001b[39m\u001b[32m, line 4\u001b[39m\n\u001b[32m      1\u001b[39m arr_1 = np.ones((\u001b[32m4\u001b[39m,\u001b[32m3\u001b[39m,\u001b[32m5\u001b[39m))\n\u001b[32m      2\u001b[39m arr_2 = np.ones((\u001b[32m4\u001b[39m,\u001b[32m3\u001b[39m))\n\u001b[32m----> \u001b[39m\u001b[32m4\u001b[39m \u001b[43marr_1\u001b[49m\u001b[43m \u001b[49m\u001b[43m+\u001b[49m\u001b[43m \u001b[49m\u001b[43marr_2\u001b[49m\n",
      "\u001b[31mValueError\u001b[39m: operands could not be broadcast together with shapes (4,3,5) (4,3) "
     ]
    }
   ],
   "source": [
    "arr_1 = np.ones((4,3,5))\n",
    "arr_2 = np.ones((4,3))\n",
    "\n",
    "arr_1 + arr_2 # does not work "
   ]
  },
  {
   "cell_type": "markdown",
   "id": "ae9f981e",
   "metadata": {},
   "source": [
    "## Summary operations"
   ]
  },
  {
   "cell_type": "markdown",
   "id": "d5371d14",
   "metadata": {},
   "source": [
    "Summary operations allow you to collapse an array according to a certain summary statistic. For instance, we may want to compute the overall mean firing rate in our experimental data:"
   ]
  },
  {
   "cell_type": "code",
   "execution_count": null,
   "id": "dabc55a0",
   "metadata": {},
   "outputs": [],
   "source": [
    "arr.mean()"
   ]
  },
  {
   "cell_type": "markdown",
   "id": "fd428cee",
   "metadata": {},
   "source": [
    "You can also specify the axis along we want to average. For instance, maybe we want to average firing rates across individual trials:"
   ]
  },
  {
   "cell_type": "code",
   "execution_count": null,
   "id": "ff80264d",
   "metadata": {},
   "outputs": [],
   "source": [
    "arr.shape"
   ]
  },
  {
   "cell_type": "code",
   "execution_count": null,
   "id": "aa42e345",
   "metadata": {},
   "outputs": [],
   "source": [
    "arr_across_trials = arr.mean(axis=1)"
   ]
  },
  {
   "cell_type": "code",
   "execution_count": null,
   "id": "20683dcb",
   "metadata": {},
   "outputs": [],
   "source": [
    "arr_across_trials.shape"
   ]
  },
  {
   "cell_type": "markdown",
   "id": "a7426f68",
   "metadata": {},
   "source": [
    "The `keepdims` argument means that you don't remove the dimensions you're averaging over, but rather set their length to 1:"
   ]
  },
  {
   "cell_type": "code",
   "execution_count": null,
   "id": "bf82df97",
   "metadata": {},
   "outputs": [],
   "source": [
    "arr_across_trials = arr.mean(axis=1, keepdims=True)"
   ]
  },
  {
   "cell_type": "code",
   "execution_count": null,
   "id": "e6bff9c0",
   "metadata": {},
   "outputs": [],
   "source": [
    "arr_across_trials.shape"
   ]
  },
  {
   "cell_type": "markdown",
   "id": "24869eef",
   "metadata": {},
   "source": [
    "You can average across multiple axes as well. For instance, maybe you want to average across both trials and time:"
   ]
  },
  {
   "cell_type": "code",
   "execution_count": null,
   "id": "479a52e3",
   "metadata": {},
   "outputs": [],
   "source": [
    "arr_across_trials_and_time = arr.mean(axis=(1,3))"
   ]
  },
  {
   "cell_type": "code",
   "execution_count": null,
   "id": "136474ad",
   "metadata": {},
   "outputs": [],
   "source": [
    "arr_across_trials_and_time.shape"
   ]
  },
  {
   "cell_type": "markdown",
   "id": "85925aab",
   "metadata": {},
   "source": [
    "### Question 3\n",
    "\n",
    "- What is the average firing rate across all neurons, times, and trials for each condition?\n",
    "- (Advanced.) Subtract the average firing rate per time across all neurons, trials, and conditions from the original array."
   ]
  },
  {
   "cell_type": "code",
   "execution_count": null,
   "id": "3df034e6",
   "metadata": {},
   "outputs": [],
   "source": []
  },
  {
   "cell_type": "markdown",
   "id": "20615811",
   "metadata": {},
   "source": [
    "## Indexing"
   ]
  },
  {
   "cell_type": "markdown",
   "id": "a2662c91",
   "metadata": {},
   "source": [
    "Indexing in vectors works just as in lists:"
   ]
  },
  {
   "cell_type": "code",
   "execution_count": null,
   "id": "ff3cf082",
   "metadata": {},
   "outputs": [],
   "source": [
    "vec_1"
   ]
  },
  {
   "cell_type": "code",
   "execution_count": null,
   "id": "0ba1a8e6",
   "metadata": {},
   "outputs": [],
   "source": [
    "vec_1[0]"
   ]
  },
  {
   "cell_type": "markdown",
   "id": "9ad03e2b",
   "metadata": {},
   "source": [
    "For matrices and higher-dimensional arrays, a single index selects a single row:"
   ]
  },
  {
   "cell_type": "code",
   "execution_count": null,
   "id": "0678df0b",
   "metadata": {},
   "outputs": [],
   "source": [
    "mat_1"
   ]
  },
  {
   "cell_type": "code",
   "execution_count": null,
   "id": "d847617a",
   "metadata": {},
   "outputs": [],
   "source": [
    "mat_1[0]"
   ]
  },
  {
   "cell_type": "code",
   "execution_count": null,
   "id": "54e9989e",
   "metadata": {},
   "outputs": [],
   "source": [
    "mat_1[0][1]"
   ]
  },
  {
   "cell_type": "markdown",
   "id": "1e345857",
   "metadata": {},
   "source": [
    "Instead of using two brackets, you can also separate the row and column index by a comma:"
   ]
  },
  {
   "cell_type": "code",
   "execution_count": null,
   "id": "e841f98c",
   "metadata": {},
   "outputs": [],
   "source": [
    "# The following two lines of code are equivalent\n",
    "print(mat_1[0][0])\n",
    "print(mat_1[0,0])"
   ]
  },
  {
   "cell_type": "markdown",
   "id": "49269e1d",
   "metadata": {},
   "source": [
    "### Slicing"
   ]
  },
  {
   "cell_type": "markdown",
   "id": "714893d2",
   "metadata": {},
   "source": [
    "Slicing is a useful way of extracting more than one element. In particular, `j:k` extracts the elements j,...,k-1:"
   ]
  },
  {
   "cell_type": "code",
   "execution_count": null,
   "id": "1c50071b",
   "metadata": {},
   "outputs": [],
   "source": [
    "vec = np.arange(10)\n",
    "print(vec)"
   ]
  },
  {
   "cell_type": "code",
   "execution_count": null,
   "id": "a300aad7",
   "metadata": {},
   "outputs": [],
   "source": [
    "vec[3:7]"
   ]
  },
  {
   "cell_type": "markdown",
   "id": "3023f068",
   "metadata": {},
   "source": [
    "We can leave either end of the range away and it will default to the beginning and the end of the list, respectively."
   ]
  },
  {
   "cell_type": "code",
   "execution_count": null,
   "id": "631d3c1f",
   "metadata": {},
   "outputs": [],
   "source": [
    "vec[:7]"
   ]
  },
  {
   "cell_type": "code",
   "execution_count": null,
   "id": "55d679c7",
   "metadata": {},
   "outputs": [],
   "source": [
    "vec[3:]"
   ]
  },
  {
   "cell_type": "code",
   "execution_count": null,
   "id": "ca6e0981",
   "metadata": {},
   "outputs": [],
   "source": [
    "vec[:] # What do you think this will do?"
   ]
  },
  {
   "cell_type": "markdown",
   "id": "4ee96537",
   "metadata": {},
   "source": [
    "You can therefore also use the colon to select all rows of a matrix and specific columns."
   ]
  },
  {
   "cell_type": "code",
   "execution_count": null,
   "id": "24a6bd58",
   "metadata": {},
   "outputs": [],
   "source": [
    "mat_1"
   ]
  },
  {
   "cell_type": "code",
   "execution_count": null,
   "id": "148cb5ee",
   "metadata": {},
   "outputs": [],
   "source": [
    "mat_1[:,0]"
   ]
  },
  {
   "cell_type": "markdown",
   "id": "79e12b09",
   "metadata": {},
   "source": [
    "You can add another colon to specify a step size, similarly to how you would use these three arguments in `range`."
   ]
  },
  {
   "cell_type": "code",
   "execution_count": null,
   "id": "ef82435b",
   "metadata": {},
   "outputs": [],
   "source": [
    "vec[3:7:2]"
   ]
  },
  {
   "cell_type": "markdown",
   "id": "560fb253",
   "metadata": {},
   "source": [
    "We could still leave away the beginning or the end of the slice:"
   ]
  },
  {
   "cell_type": "code",
   "execution_count": null,
   "id": "4ed8b8a4",
   "metadata": {},
   "outputs": [],
   "source": [
    "vec[::2]"
   ]
  },
  {
   "cell_type": "markdown",
   "id": "a4bc0388",
   "metadata": {},
   "source": [
    "### Question 4\n",
    "Predict the output of the following commands:"
   ]
  },
  {
   "cell_type": "code",
   "execution_count": null,
   "id": "13f704d9",
   "metadata": {},
   "outputs": [],
   "source": [
    "vec[:4]"
   ]
  },
  {
   "cell_type": "code",
   "execution_count": null,
   "id": "ce972edd",
   "metadata": {},
   "outputs": [],
   "source": [
    "vec[5:9:2]"
   ]
  },
  {
   "cell_type": "code",
   "execution_count": null,
   "id": "b0732ede",
   "metadata": {},
   "outputs": [],
   "source": [
    "vec[:7:2]"
   ]
  },
  {
   "cell_type": "code",
   "execution_count": null,
   "id": "86cd25e2",
   "metadata": {},
   "outputs": [],
   "source": [
    "vec[2::2]"
   ]
  },
  {
   "cell_type": "markdown",
   "id": "5857d0c9",
   "metadata": {},
   "source": [
    "### Boolean indexing"
   ]
  },
  {
   "cell_type": "markdown",
   "id": "90109354",
   "metadata": {},
   "source": [
    "Do you remember how to create an array that is true if and only if `vec` is smaller than 5?"
   ]
  },
  {
   "cell_type": "code",
   "execution_count": null,
   "id": "b4c5a303",
   "metadata": {},
   "outputs": [],
   "source": [
    "vec = np.arange(10)\n",
    "vec"
   ]
  },
  {
   "cell_type": "code",
   "execution_count": null,
   "id": "98efc2f0",
   "metadata": {},
   "outputs": [],
   "source": [
    "selector = vec <= 5\n",
    "selector"
   ]
  },
  {
   "cell_type": "markdown",
   "id": "6399fcc4",
   "metadata": {},
   "source": [
    "You can use these boolean arrays to subset the corresponding true values."
   ]
  },
  {
   "cell_type": "code",
   "execution_count": null,
   "id": "2a50c4e9",
   "metadata": {},
   "outputs": [],
   "source": [
    "vec"
   ]
  },
  {
   "cell_type": "code",
   "execution_count": null,
   "id": "6ef78043",
   "metadata": {},
   "outputs": [],
   "source": [
    "vec[selector]"
   ]
  },
  {
   "cell_type": "code",
   "execution_count": null,
   "id": "da035748",
   "metadata": {},
   "outputs": [],
   "source": [
    "vec[vec<=5]"
   ]
  },
  {
   "cell_type": "markdown",
   "id": "e9f59263",
   "metadata": {},
   "source": [
    "You can do the same with matrices:"
   ]
  },
  {
   "cell_type": "code",
   "execution_count": null,
   "id": "f7736ada",
   "metadata": {},
   "outputs": [],
   "source": [
    "mat_1 = np.array([[1, 2],\n",
    "       [3, 4],\n",
    "       [5, 6]])"
   ]
  },
  {
   "cell_type": "code",
   "execution_count": null,
   "id": "95397056",
   "metadata": {},
   "outputs": [],
   "source": [
    "mat_1 >= 3"
   ]
  },
  {
   "cell_type": "code",
   "execution_count": null,
   "id": "ea696335",
   "metadata": {},
   "outputs": [],
   "source": [
    "mat_1[mat_1 >= 3]"
   ]
  },
  {
   "cell_type": "markdown",
   "id": "9ebcb2f5",
   "metadata": {},
   "source": [
    "### Questions 5\n",
    "- Consider the example matrix from above and subset all entries with values between 2 and 4. You can try to do this in one line or do it through multipel lines!"
   ]
  },
  {
   "cell_type": "code",
   "execution_count": null,
   "id": "b972d21a",
   "metadata": {},
   "outputs": [],
   "source": []
  },
  {
   "cell_type": "code",
   "execution_count": null,
   "id": "562659ae",
   "metadata": {},
   "outputs": [],
   "source": []
  },
  {
   "cell_type": "markdown",
   "id": "c3ad9350",
   "metadata": {},
   "source": []
  }
 ],
 "metadata": {
  "kernelspec": {
   "display_name": "intropython",
   "language": "python",
   "name": "python3"
  },
  "language_info": {
   "codemirror_mode": {
    "name": "ipython",
    "version": 3
   },
   "file_extension": ".py",
   "mimetype": "text/x-python",
   "name": "python",
   "nbconvert_exporter": "python",
   "pygments_lexer": "ipython3",
   "version": "3.13.5"
  }
 },
 "nbformat": 4,
 "nbformat_minor": 5
}
