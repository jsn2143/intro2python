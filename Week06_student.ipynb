{
 "cells": [
  {
   "cell_type": "markdown",
   "id": "f0951ab1",
   "metadata": {},
   "source": [
    "# **Python For Neuro Week 6**: More Numpy and Pandas\n",
    "\n",
    "## Warmup\n",
    "\n",
    "We're going to start today by loading in ```mat_1.npy``` again. If you don't remember how to do this, use google to find the right function to use. Please assign the array to variable called ```arr```."
   ]
  },
  {
   "cell_type": "code",
   "execution_count": 106,
   "id": "9c058f6b",
   "metadata": {},
   "outputs": [],
   "source": [
    "import numpy as np"
   ]
  },
  {
   "cell_type": "code",
   "execution_count": 107,
   "id": "652ede52",
   "metadata": {},
   "outputs": [
    {
     "data": {
      "text/plain": [
       "array([[[[1.06735651e-01, 8.50013428e-01, 6.61261976e-02, ...,\n",
       "          1.22214287e+00, 1.85433810e+00, 2.97715561e-02],\n",
       "         [1.74584281e+00, 1.04634545e+00, 1.19461252e+00, ...,\n",
       "          3.86994751e-01, 1.46257796e-01, 5.57668861e-01],\n",
       "         [1.27660851e+00, 1.63782002e+00, 1.73077654e+00, ...,\n",
       "          2.69178437e-01, 8.87518742e-01, 4.97409664e-01],\n",
       "         ...,\n",
       "         [1.33977689e-01, 1.61987886e-01, 4.46480597e-01, ...,\n",
       "          4.39952432e-01, 6.42594250e-01, 1.23527806e+00],\n",
       "         [2.47564259e+00, 1.69413446e+00, 2.12417460e+00, ...,\n",
       "          2.61901093e+00, 3.11246504e+00, 1.92026681e+00],\n",
       "         [7.29644202e-01, 2.04679777e+00, 1.37959358e+00, ...,\n",
       "          1.74199210e+00, 2.11039000e+00, 8.98703266e-01]],\n",
       "\n",
       "        [[8.10785116e-01, 9.33062418e-01, 2.59379116e-01, ...,\n",
       "          1.31543734e+00, 1.29622586e+00, 1.23752785e+00],\n",
       "         [5.66745857e-01, 7.88732871e-01, 1.09353632e+00, ...,\n",
       "          4.95212124e-01, 2.18896547e-01, 5.55039361e-01],\n",
       "         [8.82901511e-01, 6.86934256e-01, 1.25065050e+00, ...,\n",
       "          9.04460497e-01, 4.60074219e-01, 4.38216968e-01],\n",
       "         ...,\n",
       "         [3.64492211e-02, 5.71047168e-01, 4.95341715e-01, ...,\n",
       "          5.94040232e-01, 2.81351456e-01, 1.92476435e-01],\n",
       "         [1.60489624e+00, 2.55631543e+00, 1.83915545e+00, ...,\n",
       "          1.86179063e+00, 2.80563694e+00, 2.79426859e+00],\n",
       "         [9.75789829e-01, 8.10281871e-01, 1.88447041e+00, ...,\n",
       "          1.57769368e+00, 1.54307961e+00, 6.51189685e-01]],\n",
       "\n",
       "        [[6.19660685e-01, 1.44403366e+00, 7.25177566e-01, ...,\n",
       "          6.20651303e-01, 1.42247153e+00, 7.29649784e-01],\n",
       "         [6.41739089e-01, 1.09248843e+00, 6.12499482e-01, ...,\n",
       "          3.01528474e-02, 8.91203448e-01, 5.17133740e-01],\n",
       "         [8.63585737e-01, 2.28749716e+00, 4.85666591e-01, ...,\n",
       "          6.21059372e-01, 1.59913527e+00, 1.92070807e-01],\n",
       "         ...,\n",
       "         [4.60671880e-02, 2.28272310e-01, 4.62451462e-01, ...,\n",
       "          7.30626059e-01, 2.28374302e-01, 8.20578498e-01],\n",
       "         [2.24037994e+00, 1.87346609e+00, 1.96502239e+00, ...,\n",
       "          2.30925982e+00, 2.73748694e+00, 3.56089223e+00],\n",
       "         [1.15148873e+00, 1.41458661e+00, 2.74988839e-01, ...,\n",
       "          1.69850755e+00, 2.54345670e+00, 9.57969052e-01]],\n",
       "\n",
       "        ...,\n",
       "\n",
       "        [[9.55497777e-01, 4.05692488e-01, 7.78823211e-01, ...,\n",
       "          4.43791258e-01, 6.87757573e-01, 5.78131601e-01],\n",
       "         [1.26663741e+00, 7.41565718e-01, 9.74565947e-01, ...,\n",
       "          2.15431443e-01, 9.24113093e-01, 8.74765901e-01],\n",
       "         [1.04496657e+00, 1.92493042e+00, 1.31607491e+00, ...,\n",
       "          6.98922972e-01, 8.95438625e-01, 1.10806420e+00],\n",
       "         ...,\n",
       "         [6.99654324e-01, 2.69282363e-01, 7.92850753e-01, ...,\n",
       "          5.35601623e-01, 4.40057071e-01, 7.04082232e-01],\n",
       "         [1.09871064e+00, 2.11750396e+00, 1.53713483e+00, ...,\n",
       "          2.86583586e+00, 3.47881123e+00, 3.05170785e+00],\n",
       "         [3.69099007e-01, 1.16270356e+00, 8.22229789e-01, ...,\n",
       "          2.00224509e+00, 1.19915351e+00, 1.22389634e+00]],\n",
       "\n",
       "        [[3.11573355e-01, 1.51960656e-01, 5.29449173e-01, ...,\n",
       "          6.33654814e-01, 3.12155650e-01, 1.01504149e+00],\n",
       "         [9.42519337e-01, 1.04800726e+00, 1.63077267e+00, ...,\n",
       "          4.79538390e-01, 1.03940589e-01, 9.05743971e-02],\n",
       "         [1.19313923e+00, 1.22524628e+00, 3.62692199e-01, ...,\n",
       "          6.16737539e-01, 8.57896422e-01, 5.95661545e-01],\n",
       "         ...,\n",
       "         [8.41454520e-01, 8.82117892e-01, 4.65736573e-01, ...,\n",
       "          1.03254191e-01, 4.11728563e-01, 1.06655410e+00],\n",
       "         [2.15288862e+00, 2.61116280e+00, 1.23073274e+00, ...,\n",
       "          3.14561085e+00, 2.54466767e+00, 2.29104980e+00],\n",
       "         [9.32792623e-01, 4.64622171e-02, 1.31732630e-02, ...,\n",
       "          5.72939548e-01, 1.47857618e+00, 1.61403092e+00]],\n",
       "\n",
       "        [[2.96414144e-01, 4.74658017e-01, 4.86034112e-01, ...,\n",
       "          1.24119716e+00, 1.02560792e+00, 6.99381685e-02],\n",
       "         [2.45578871e-01, 9.72493408e-01, 6.85815899e-01, ...,\n",
       "          1.21941180e+00, 3.94689580e-02, 1.06002195e+00],\n",
       "         [1.06888772e+00, 1.03998709e+00, 5.94912554e-01, ...,\n",
       "          5.40154953e-01, 1.23705182e+00, 9.19751909e-01],\n",
       "         ...,\n",
       "         [1.22671728e-01, 1.13569313e+00, 3.96736647e-01, ...,\n",
       "          7.08612961e-01, 3.40179265e-01, 2.84325578e-01],\n",
       "         [2.68919282e+00, 1.62010451e+00, 2.16018710e+00, ...,\n",
       "          2.26321643e+00, 2.73687475e+00, 2.97793205e+00],\n",
       "         [1.21707154e+00, 9.93321595e-01, 4.62796380e-01, ...,\n",
       "          9.32653283e-01, 1.49190891e+00, 3.85913177e-01]]],\n",
       "\n",
       "\n",
       "       [[[2.68590510e-01, 2.30938942e-01, 1.11291647e-01, ...,\n",
       "          1.00705680e+00, 8.70754882e-02, 1.14350863e+00],\n",
       "         [5.82279235e-02, 1.10962135e+00, 8.51835813e-02, ...,\n",
       "          1.03139505e+00, 1.63482156e+00, 1.11174878e+00],\n",
       "         [9.06890013e-01, 5.50327346e-02, 7.62236843e-01, ...,\n",
       "          9.21268222e-01, 1.90022263e+00, 6.61490516e-01],\n",
       "         ...,\n",
       "         [1.51639677e+00, 1.10525057e+00, 1.28482807e+00, ...,\n",
       "          2.57239506e-01, 9.24481867e-01, 3.92576453e-02],\n",
       "         [2.49070708e-01, 3.90644969e-01, 5.20414552e-01, ...,\n",
       "          1.86726568e+00, 1.27748159e+00, 2.17643888e+00],\n",
       "         [5.91814935e-01, 5.71087254e-01, 1.09062933e-02, ...,\n",
       "          1.46242912e+00, 1.80839002e+00, 2.04738543e+00]],\n",
       "\n",
       "        [[1.73767085e-01, 7.40042900e-01, 2.78446025e-01, ...,\n",
       "          1.05837816e+00, 6.77328273e-01, 1.56612974e-01],\n",
       "         [9.00464475e-01, 4.02457504e-01, 7.61508157e-03, ...,\n",
       "          1.72340487e+00, 1.13894979e+00, 2.29214611e+00],\n",
       "         [6.22657174e-01, 7.83905709e-01, 8.40142591e-01, ...,\n",
       "          7.31516128e-01, 1.16098239e+00, 1.26106802e+00],\n",
       "         ...,\n",
       "         [1.19639785e+00, 1.13828750e+00, 5.03092750e-01, ...,\n",
       "          7.87866766e-01, 8.79654787e-02, 1.05014270e+00],\n",
       "         [1.41931227e-02, 5.11258092e-01, 9.59940873e-01, ...,\n",
       "          2.10131355e+00, 1.39674810e+00, 2.33855928e-01],\n",
       "         [3.66130233e-01, 3.83575134e-01, 6.45087951e-03, ...,\n",
       "          1.18159572e+00, 1.78534702e+00, 1.58225156e+00]],\n",
       "\n",
       "        [[2.41820446e-01, 3.52803298e-02, 1.20200093e-03, ...,\n",
       "          8.19777414e-01, 1.34275979e+00, 8.63953320e-01],\n",
       "         [4.75097949e-01, 2.49925250e-03, 3.08800337e-01, ...,\n",
       "          1.75929246e+00, 1.70480331e+00, 1.48698006e+00],\n",
       "         [3.08906827e-01, 1.40189675e+00, 5.56131336e-01, ...,\n",
       "          8.94208173e-01, 1.05542192e+00, 3.34738546e-01],\n",
       "         ...,\n",
       "         [2.15352371e-03, 2.73432330e-01, 1.90495544e+00, ...,\n",
       "          1.92779139e-01, 3.98954724e-02, 2.05587640e-01],\n",
       "         [1.13341007e+00, 2.87188417e-01, 4.30871198e-01, ...,\n",
       "          2.07637850e+00, 7.41662224e-01, 1.68583189e+00],\n",
       "         [1.78180596e-01, 3.84837698e-01, 9.15624497e-01, ...,\n",
       "          1.23203150e+00, 1.70276245e+00, 9.83095823e-01]],\n",
       "\n",
       "        ...,\n",
       "\n",
       "        [[3.89569636e-01, 3.00873087e-01, 8.53431463e-01, ...,\n",
       "          8.57013324e-01, 1.36369225e-01, 1.24087619e+00],\n",
       "         [4.94280241e-01, 1.35443235e+00, 6.47102117e-01, ...,\n",
       "          1.73071092e+00, 2.22327083e+00, 1.01799698e+00],\n",
       "         [6.20263170e-01, 5.16823971e-02, 5.67631195e-01, ...,\n",
       "          1.13434223e+00, 8.27817128e-01, 1.21729685e+00],\n",
       "         ...,\n",
       "         [9.05518098e-02, 3.56601848e-01, 2.07102034e-01, ...,\n",
       "          2.49315189e-01, 2.99937713e-02, 4.06374492e-01],\n",
       "         [3.42784070e-01, 1.39300508e-01, 6.37277558e-01, ...,\n",
       "          2.44155474e+00, 1.60648029e+00, 1.95879900e+00],\n",
       "         [2.66383952e-01, 4.71412418e-01, 1.08164395e+00, ...,\n",
       "          1.34015508e+00, 1.23020243e+00, 4.83622781e-01]],\n",
       "\n",
       "        [[3.18500532e-01, 7.61512701e-01, 3.59804518e-02, ...,\n",
       "          1.04317196e+00, 9.51594822e-01, 8.51702697e-01],\n",
       "         [9.93859542e-01, 1.46168081e-02, 6.46023896e-01, ...,\n",
       "          1.30609822e+00, 9.07064384e-01, 1.37250174e+00],\n",
       "         [3.08291439e-01, 5.13287435e-01, 1.01602336e+00, ...,\n",
       "          2.24185820e-01, 1.59357335e+00, 1.23510383e-01],\n",
       "         ...,\n",
       "         [5.67971125e-01, 1.50062345e-01, 1.15136120e+00, ...,\n",
       "          4.40309528e-01, 6.10097909e-01, 7.99559953e-01],\n",
       "         [2.25445960e-01, 8.83610274e-01, 1.55805912e+00, ...,\n",
       "          1.05116421e+00, 9.41952733e-01, 1.89087367e+00],\n",
       "         [1.18310557e-01, 2.16328004e-01, 1.07968756e+00, ...,\n",
       "          1.25095419e+00, 1.82909596e+00, 7.46485745e-01]],\n",
       "\n",
       "        [[1.86327569e-01, 2.63246494e-01, 3.07718076e-01, ...,\n",
       "          5.22190908e-01, 1.57517315e+00, 1.66238001e+00],\n",
       "         [5.29740374e-02, 3.03094705e-01, 1.32193253e+00, ...,\n",
       "          1.23435937e+00, 1.46987233e+00, 1.06123960e+00],\n",
       "         [1.46604943e+00, 1.65469474e-01, 4.96193813e-02, ...,\n",
       "          1.82780350e-01, 8.56451472e-01, 3.59988247e-02],\n",
       "         ...,\n",
       "         [3.99149975e-01, 4.90485926e-01, 4.09535316e-01, ...,\n",
       "          4.85705593e-01, 4.49961421e-02, 8.23051290e-01],\n",
       "         [2.79906538e-01, 1.79062163e-01, 1.50349452e+00, ...,\n",
       "          2.17916225e+00, 1.19628134e+00, 1.42535435e+00],\n",
       "         [5.09200681e-01, 1.04974800e+00, 7.44586694e-02, ...,\n",
       "          2.55449767e+00, 2.08818279e+00, 1.34984776e+00]]]],\n",
       "      shape=(2, 10, 50, 2000))"
      ]
     },
     "execution_count": 107,
     "metadata": {},
     "output_type": "execute_result"
    }
   ],
   "source": [
    "# load in data\n",
    "arr = np.load('ex_array.npy')\n",
    "arr"
   ]
  },
  {
   "cell_type": "code",
   "execution_count": 108,
   "id": "c4317fa4",
   "metadata": {},
   "outputs": [
    {
     "data": {
      "text/plain": [
       "(2, 10, 50, 2000)"
      ]
     },
     "execution_count": 108,
     "metadata": {},
     "output_type": "execute_result"
    }
   ],
   "source": [
    "arr.shape # structure: (Conditions x Trials x Neurons x Times)"
   ]
  },
  {
   "cell_type": "markdown",
   "id": "38098018",
   "metadata": {},
   "source": [
    "## Summary operations"
   ]
  },
  {
   "cell_type": "markdown",
   "id": "de7eed1d",
   "metadata": {},
   "source": [
    "Summary operations allow you to collapse an array according to a certain summary statistic. For instance, we may want to compute the overall mean firing rate in our experimental data:"
   ]
  },
  {
   "cell_type": "code",
   "execution_count": 109,
   "id": "7a0fd990",
   "metadata": {},
   "outputs": [
    {
     "data": {
      "text/plain": [
       "np.float64(0.8717270073789575)"
      ]
     },
     "execution_count": 109,
     "metadata": {},
     "output_type": "execute_result"
    }
   ],
   "source": [
    "arr.mean()"
   ]
  },
  {
   "cell_type": "markdown",
   "id": "a54761f6",
   "metadata": {},
   "source": [
    "You can also specify the axis along we want to average. For instance, maybe we want to average firing rates across individual trials:"
   ]
  },
  {
   "cell_type": "code",
   "execution_count": 110,
   "id": "7eb77e44",
   "metadata": {},
   "outputs": [
    {
     "data": {
      "text/plain": [
       "(2, 10, 50, 2000)"
      ]
     },
     "execution_count": 110,
     "metadata": {},
     "output_type": "execute_result"
    }
   ],
   "source": [
    "arr.shape # dimensions of the array"
   ]
  },
  {
   "cell_type": "code",
   "execution_count": 111,
   "id": "fb024f5e",
   "metadata": {},
   "outputs": [],
   "source": [
    "arr_across_trials = arr.mean(axis=1) # averages across 10 different buckets"
   ]
  },
  {
   "cell_type": "code",
   "execution_count": 112,
   "id": "2ee73214",
   "metadata": {},
   "outputs": [
    {
     "data": {
      "text/plain": [
       "(2, 50, 2000)"
      ]
     },
     "execution_count": 112,
     "metadata": {},
     "output_type": "execute_result"
    }
   ],
   "source": [
    "arr_across_trials.shape "
   ]
  },
  {
   "cell_type": "markdown",
   "id": "3842743e",
   "metadata": {},
   "source": [
    "The `keepdims` argument means that you don't remove the dimensions you're averaging over, but rather set their length to 1:"
   ]
  },
  {
   "cell_type": "code",
   "execution_count": 113,
   "id": "99c9d903",
   "metadata": {},
   "outputs": [],
   "source": [
    "arr_across_trials = arr.mean(axis=1, keepdims=True)"
   ]
  },
  {
   "cell_type": "code",
   "execution_count": 114,
   "id": "da36b331",
   "metadata": {},
   "outputs": [
    {
     "data": {
      "text/plain": [
       "(2, 1, 50, 2000)"
      ]
     },
     "execution_count": 114,
     "metadata": {},
     "output_type": "execute_result"
    }
   ],
   "source": [
    "arr_across_trials.shape"
   ]
  },
  {
   "cell_type": "markdown",
   "id": "7f473586",
   "metadata": {},
   "source": [
    "You can average across multiple axes as well. For instance, maybe you want to average across both trials and time:"
   ]
  },
  {
   "cell_type": "code",
   "execution_count": 115,
   "id": "45b7f3f3",
   "metadata": {},
   "outputs": [],
   "source": [
    "arr_across_trials_and_time = arr.mean(axis=(1,3))"
   ]
  },
  {
   "cell_type": "code",
   "execution_count": 116,
   "id": "d3dbb6e2",
   "metadata": {},
   "outputs": [
    {
     "data": {
      "text/plain": [
       "(2, 50)"
      ]
     },
     "execution_count": 116,
     "metadata": {},
     "output_type": "execute_result"
    }
   ],
   "source": [
    "arr_across_trials_and_time.shape"
   ]
  },
  {
   "cell_type": "markdown",
   "id": "d03eebc0",
   "metadata": {},
   "source": [
    "### Question 1\n",
    "\n",
    "- What is the average firing rate across all neurons, times, and trials for each condition?\n",
    "- (Advanced.) Subtract the average firing rate per time across all neurons, trials, and conditions from the original array."
   ]
  },
  {
   "cell_type": "code",
   "execution_count": 117,
   "id": "5ce6e6c7",
   "metadata": {},
   "outputs": [
    {
     "data": {
      "text/plain": [
       "array([0.98828779, 0.75516623])"
      ]
     },
     "execution_count": 117,
     "metadata": {},
     "output_type": "execute_result"
    }
   ],
   "source": [
    "avg_condition = arr.mean(axis=(1,2,3))\n",
    "avg_condition # should be 2 values"
   ]
  },
  {
   "cell_type": "code",
   "execution_count": 118,
   "id": "71f7b658",
   "metadata": {},
   "outputs": [
    {
     "data": {
      "text/plain": [
       "(2, 10, 50, 1)"
      ]
     },
     "execution_count": 118,
     "metadata": {},
     "output_type": "execute_result"
    }
   ],
   "source": [
    "avg_overall = arr.mean(axis=3, keepdims=True) # keep number of dimensions (for avg firing rate per time) so that they are the same shape\n",
    "avg_overall.shape"
   ]
  },
  {
   "cell_type": "code",
   "execution_count": 119,
   "id": "80afae16",
   "metadata": {},
   "outputs": [
    {
     "data": {
      "text/plain": [
       "array([[[[-7.00688590e-01,  4.25891874e-02, -7.41298043e-01, ...,\n",
       "           4.14718632e-01,  1.04691386e+00, -7.77652685e-01],\n",
       "         [ 1.00568119e+00,  3.06183827e-01,  4.54450893e-01, ...,\n",
       "          -3.53166873e-01, -5.93903828e-01, -1.82492763e-01],\n",
       "         [ 4.59796796e-01,  8.21008307e-01,  9.13964819e-01, ...,\n",
       "          -5.47633280e-01,  7.07070254e-02, -3.19402053e-01],\n",
       "         ...,\n",
       "         [-3.41114426e-01, -3.13104230e-01, -2.86115189e-02, ...,\n",
       "          -3.51396840e-02,  1.67502135e-01,  7.60185947e-01],\n",
       "         [ 1.13938081e-01, -6.67570042e-01, -2.37529908e-01, ...,\n",
       "           2.57306423e-01,  7.50760531e-01, -4.41437690e-01],\n",
       "         [-5.57690268e-01,  7.59463299e-01,  9.22591078e-02, ...,\n",
       "           4.54657628e-01,  8.23055532e-01, -3.88631203e-01]],\n",
       "\n",
       "        [[ 4.15208163e-02,  1.63798119e-01, -5.09885184e-01, ...,\n",
       "           5.46173041e-01,  5.26961558e-01,  4.68263548e-01],\n",
       "         [-1.61982306e-01,  6.00047083e-02,  3.64808156e-01, ...,\n",
       "          -2.33516039e-01, -5.09831617e-01, -1.73688803e-01],\n",
       "         [ 4.81475364e-02, -1.47819719e-01,  4.15896523e-01, ...,\n",
       "           6.97065230e-02, -3.74679755e-01, -3.96537006e-01],\n",
       "         ...,\n",
       "         [-4.47603933e-01,  8.69940140e-02,  1.12885610e-02, ...,\n",
       "           1.09987078e-01, -2.02701698e-01, -2.91576719e-01],\n",
       "         [-7.65110175e-01,  1.86309018e-01, -5.30850967e-01, ...,\n",
       "          -5.08215787e-01,  4.35630524e-01,  4.24262171e-01],\n",
       "         [-3.15637272e-01, -4.81145230e-01,  5.93043307e-01, ...,\n",
       "           2.86266583e-01,  2.51652513e-01, -6.40237416e-01]],\n",
       "\n",
       "        [[-1.77657567e-01,  6.46715404e-01, -7.21406853e-02, ...,\n",
       "          -1.76666948e-01,  6.25153276e-01, -6.76684677e-02],\n",
       "         [-9.23494227e-02,  3.58399918e-01, -1.21589030e-01, ...,\n",
       "          -7.03935664e-01,  1.57114937e-01, -2.16954771e-01],\n",
       "         [ 5.48376589e-04,  1.42445980e+00, -3.77370769e-01, ...,\n",
       "          -2.41977989e-01,  7.36097906e-01, -6.70966553e-01],\n",
       "         ...,\n",
       "         [-4.24436956e-01, -2.42231834e-01, -8.05268195e-03, ...,\n",
       "           2.60121915e-01, -2.42129842e-01,  3.50074354e-01],\n",
       "         [-1.35562739e-01, -5.02476588e-01, -4.10920292e-01, ...,\n",
       "          -6.66828624e-02,  3.61544263e-01,  1.18494956e+00],\n",
       "         [-1.46345202e-01,  1.16752679e-01, -1.02284509e+00, ...,\n",
       "           4.00673616e-01,  1.24562277e+00, -3.39864881e-01]],\n",
       "\n",
       "        ...,\n",
       "\n",
       "        [[ 1.66842796e-01, -3.82962493e-01, -9.83176981e-03, ...,\n",
       "          -3.44863724e-01, -1.00897408e-01, -2.10523381e-01],\n",
       "         [ 5.12648884e-01, -1.24228092e-02,  2.20577419e-01, ...,\n",
       "          -5.38557084e-01,  1.70124566e-01,  1.20777374e-01],\n",
       "         [ 2.09291213e-01,  1.08925506e+00,  4.80399556e-01, ...,\n",
       "          -1.36752385e-01,  5.97632677e-02,  2.72388846e-01],\n",
       "         ...,\n",
       "         [ 2.12620469e-01, -2.17751492e-01,  3.05816898e-01, ...,\n",
       "           4.85677684e-02, -4.69767842e-02,  2.17048377e-01],\n",
       "         [-1.26503561e+00, -2.46242295e-01, -8.26611427e-01, ...,\n",
       "           5.02089612e-01,  1.11506498e+00,  6.87961597e-01],\n",
       "         [-9.25393579e-01, -1.31789027e-01, -4.72262796e-01, ...,\n",
       "           7.07752500e-01, -9.53390800e-02, -7.05962447e-02]],\n",
       "\n",
       "        [[-4.75223007e-01, -6.34835705e-01, -2.57347189e-01, ...,\n",
       "          -1.53141547e-01, -4.74640711e-01,  2.28245131e-01],\n",
       "         [ 1.65582853e-01,  2.71070776e-01,  8.53836186e-01, ...,\n",
       "          -2.97398095e-01, -6.72995896e-01, -6.86362088e-01],\n",
       "         [ 3.58833341e-01,  3.90940392e-01, -4.71613687e-01, ...,\n",
       "          -2.17568346e-01,  2.35905364e-02, -2.38644340e-01],\n",
       "         ...,\n",
       "         [ 3.67895142e-01,  4.08558514e-01, -7.82280510e-03, ...,\n",
       "          -3.70305187e-01, -6.18308153e-02,  5.92994722e-01],\n",
       "         [-2.04710999e-01,  2.53563179e-01, -1.12686689e+00, ...,\n",
       "           7.88011229e-01,  1.87068050e-01, -6.65498250e-02],\n",
       "         [-3.67374527e-01, -1.25370493e+00, -1.28699389e+00, ...,\n",
       "          -7.27227601e-01,  1.78409029e-01,  3.13863766e-01]],\n",
       "\n",
       "        [[-4.86928033e-01, -3.08684160e-01, -2.97308065e-01, ...,\n",
       "           4.57854987e-01,  2.42265741e-01, -7.13404009e-01],\n",
       "         [-5.00247412e-01,  2.26667126e-01, -6.00103831e-02, ...,\n",
       "           4.73585521e-01, -7.06357325e-01,  3.14195669e-01],\n",
       "         [ 2.14591646e-01,  1.85691013e-01, -2.59383519e-01, ...,\n",
       "          -3.14141120e-01,  3.82755747e-01,  6.54558358e-02],\n",
       "         ...,\n",
       "         [-3.68426976e-01,  6.44594430e-01, -9.43620573e-02, ...,\n",
       "           2.17514256e-01, -1.50919439e-01, -2.06773127e-01],\n",
       "         [ 3.17453549e-01, -7.51634760e-01, -2.11552170e-01, ...,\n",
       "          -1.08522843e-01,  3.65135478e-01,  6.06192784e-01],\n",
       "         [-9.63089836e-02, -3.20058928e-01, -8.50584144e-01, ...,\n",
       "          -3.80727240e-01,  1.78528390e-01, -9.27467347e-01]]],\n",
       "\n",
       "\n",
       "       [[[-3.90291755e-01, -4.27943322e-01, -5.47590618e-01, ...,\n",
       "           3.48174537e-01, -5.71806776e-01,  4.84626363e-01],\n",
       "         [-9.72718836e-01,  7.86745901e-02, -9.45763178e-01, ...,\n",
       "           4.48288712e-04,  6.03874805e-01,  8.08020216e-02],\n",
       "         [ 3.02181581e-01, -5.49675697e-01,  1.57528411e-01, ...,\n",
       "           3.16559790e-01,  1.29551420e+00,  5.67820844e-02],\n",
       "         ...,\n",
       "         [ 1.04847748e+00,  6.37331275e-01,  8.16908776e-01, ...,\n",
       "          -2.10679787e-01,  4.56562574e-01, -4.28661647e-01],\n",
       "         [-7.26862127e-01, -5.85287865e-01, -4.55518283e-01, ...,\n",
       "           8.91332850e-01,  3.01548755e-01,  1.20050604e+00],\n",
       "         [-3.97178626e-01, -4.17906307e-01, -9.78087268e-01, ...,\n",
       "           4.73435563e-01,  8.19396459e-01,  1.05839187e+00]],\n",
       "\n",
       "        [[-4.70221768e-01,  9.60540472e-02, -3.65542828e-01, ...,\n",
       "           4.14389310e-01,  3.33394196e-02, -4.87375879e-01],\n",
       "         [-1.14005443e-01, -6.12012414e-01, -1.00685484e+00, ...,\n",
       "           7.08934957e-01,  1.24479871e-01,  1.27767620e+00],\n",
       "         [ 1.83165971e-02,  1.79565133e-01,  2.35802014e-01, ...,\n",
       "           1.27175551e-01,  5.56641818e-01,  6.56727439e-01],\n",
       "         ...,\n",
       "         [ 7.20912595e-01,  6.62802242e-01,  2.76074900e-02, ...,\n",
       "           3.12381506e-01, -3.87519781e-01,  5.74657445e-01],\n",
       "         [-9.50050479e-01, -4.52985510e-01, -4.30272958e-03, ...,\n",
       "           1.13706995e+00,  4.32504496e-01, -7.30387674e-01],\n",
       "         [-6.14466424e-01, -5.97021524e-01, -9.74145778e-01, ...,\n",
       "           2.00999061e-01,  8.04750360e-01,  6.01654900e-01]],\n",
       "\n",
       "        [[-4.01723712e-01, -6.08263829e-01, -6.42342157e-01, ...,\n",
       "           1.76233256e-01,  6.99215636e-01,  2.20409162e-01],\n",
       "         [-5.54787927e-01, -1.02738662e+00, -7.21085539e-01, ...,\n",
       "           7.29406584e-01,  6.74917433e-01,  4.57094182e-01],\n",
       "         [-3.00676071e-01,  7.92313849e-01, -5.34515617e-02, ...,\n",
       "           2.84625275e-01,  4.45839020e-01, -2.74844353e-01],\n",
       "         ...,\n",
       "         [-4.68045018e-01, -1.96766212e-01,  1.43475690e+00, ...,\n",
       "          -2.77419402e-01, -4.30303069e-01, -2.64610902e-01],\n",
       "         [ 1.56549134e-01, -6.89672518e-01, -5.45989738e-01, ...,\n",
       "           1.09951756e+00, -2.35198711e-01,  7.08970957e-01],\n",
       "         [-8.14206047e-01, -6.07548945e-01, -7.67621464e-02, ...,\n",
       "           2.39644862e-01,  7.10375811e-01, -9.29082023e-03]],\n",
       "\n",
       "        ...,\n",
       "\n",
       "        [[-2.83032042e-01, -3.71728592e-01,  1.80829784e-01, ...,\n",
       "           1.84411645e-01, -5.36232454e-01,  5.68274513e-01],\n",
       "         [-5.45702452e-01,  3.14449655e-01, -3.92880576e-01, ...,\n",
       "           6.90728227e-01,  1.18328814e+00, -2.19857109e-02],\n",
       "         [ 2.24050253e-02, -5.46175748e-01, -3.02269495e-02, ...,\n",
       "           5.36484081e-01,  2.29958983e-01,  6.19438700e-01],\n",
       "         ...,\n",
       "         [-3.73787130e-01, -1.07737092e-01, -2.57236906e-01, ...,\n",
       "          -2.15023751e-01, -4.34345169e-01, -5.79644482e-02],\n",
       "         [-6.50413148e-01, -8.53896710e-01, -3.55919660e-01, ...,\n",
       "           1.44835752e+00,  6.13283071e-01,  9.65601782e-01],\n",
       "         [-7.16985194e-01, -5.11956728e-01,  9.82748066e-02, ...,\n",
       "           3.56785929e-01,  2.46833285e-01, -4.99746365e-01]],\n",
       "\n",
       "        [[-3.44000798e-01,  9.90113707e-02, -6.26520878e-01, ...,\n",
       "           3.80670633e-01,  2.89093492e-01,  1.89201367e-01],\n",
       "         [-3.30969178e-02, -1.01233965e+00, -3.80932563e-01, ...,\n",
       "           2.79141759e-01, -1.19892076e-01,  3.45545280e-01],\n",
       "         [-2.96406920e-01, -9.14109243e-02,  4.11325000e-01, ...,\n",
       "          -3.80512539e-01,  9.88874993e-01, -4.81187976e-01],\n",
       "         ...,\n",
       "         [ 9.64192456e-02, -3.21489535e-01,  6.79809318e-01, ...,\n",
       "          -3.12423508e-02,  1.38546030e-01,  3.28008073e-01],\n",
       "         [-7.66316743e-01, -1.08152428e-01,  5.66296413e-01, ...,\n",
       "           5.94015109e-02, -4.98099691e-02,  8.99110964e-01],\n",
       "         [-8.64490067e-01, -7.66472620e-01,  9.68869399e-02, ...,\n",
       "           2.68153566e-01,  8.46295341e-01, -2.36314879e-01]],\n",
       "\n",
       "        [[-4.76196883e-01, -3.99277958e-01, -3.54806376e-01, ...,\n",
       "          -1.40333545e-01,  9.12648697e-01,  9.99855555e-01],\n",
       "         [-9.81466732e-01, -7.31346064e-01,  2.87491758e-01, ...,\n",
       "           1.99918599e-01,  4.35431558e-01,  2.67988276e-02],\n",
       "         [ 8.68721002e-01, -4.31858950e-01, -5.47709042e-01, ...,\n",
       "          -4.14548074e-01,  2.59123048e-01, -5.61329599e-01],\n",
       "         ...,\n",
       "         [-6.62620401e-02,  2.50739105e-02, -5.58766999e-02, ...,\n",
       "           2.02935772e-02, -4.20415873e-01,  3.57639275e-01],\n",
       "         [-7.10349187e-01, -8.11193562e-01,  5.13238791e-01, ...,\n",
       "           1.18890653e+00,  2.06025620e-01,  4.35098626e-01],\n",
       "         [-4.74222168e-01,  6.63251546e-02, -9.08964179e-01, ...,\n",
       "           1.57107482e+00,  1.10475995e+00,  3.66424914e-01]]]],\n",
       "      shape=(2, 10, 50, 2000))"
      ]
     },
     "execution_count": 119,
     "metadata": {},
     "output_type": "execute_result"
    }
   ],
   "source": [
    "arr - avg_overall"
   ]
  },
  {
   "cell_type": "markdown",
   "id": "f085ffae",
   "metadata": {},
   "source": [
    "## Indexing"
   ]
  },
  {
   "cell_type": "markdown",
   "id": "2bc54bf7",
   "metadata": {},
   "source": [
    "Indexing in vectors works just as in lists:"
   ]
  },
  {
   "cell_type": "code",
   "execution_count": 120,
   "id": "374cb0e3",
   "metadata": {},
   "outputs": [
    {
     "data": {
      "text/plain": [
       "array([1, 2, 3])"
      ]
     },
     "execution_count": 120,
     "metadata": {},
     "output_type": "execute_result"
    }
   ],
   "source": [
    "vec_1 = np.array([1,2,3])\n",
    "vec_1"
   ]
  },
  {
   "cell_type": "code",
   "execution_count": 121,
   "id": "96968d88",
   "metadata": {},
   "outputs": [
    {
     "data": {
      "text/plain": [
       "np.int64(1)"
      ]
     },
     "execution_count": 121,
     "metadata": {},
     "output_type": "execute_result"
    }
   ],
   "source": [
    "vec_1[0]"
   ]
  },
  {
   "cell_type": "markdown",
   "id": "54217d3a",
   "metadata": {},
   "source": [
    "For matrices and higher-dimensional arrays, a single index selects a single row:"
   ]
  },
  {
   "cell_type": "code",
   "execution_count": 122,
   "id": "953b1db4",
   "metadata": {},
   "outputs": [
    {
     "data": {
      "text/plain": [
       "array([[1, 2, 3],\n",
       "       [4, 5, 6]])"
      ]
     },
     "execution_count": 122,
     "metadata": {},
     "output_type": "execute_result"
    }
   ],
   "source": [
    "mat_1 = np.array(([1,2,3],[4,5,6]))\n",
    "mat_1"
   ]
  },
  {
   "cell_type": "code",
   "execution_count": 123,
   "id": "e8cd2075",
   "metadata": {},
   "outputs": [
    {
     "data": {
      "text/plain": [
       "array([1, 2, 3])"
      ]
     },
     "execution_count": 123,
     "metadata": {},
     "output_type": "execute_result"
    }
   ],
   "source": [
    "mat_1[0]"
   ]
  },
  {
   "cell_type": "code",
   "execution_count": 124,
   "id": "650eda88",
   "metadata": {},
   "outputs": [
    {
     "data": {
      "text/plain": [
       "np.int64(2)"
      ]
     },
     "execution_count": 124,
     "metadata": {},
     "output_type": "execute_result"
    }
   ],
   "source": [
    "mat_1[0][1] # accesses the 2nd element of the 1st row"
   ]
  },
  {
   "cell_type": "markdown",
   "id": "24275c28",
   "metadata": {},
   "source": [
    "Instead of using two brackets, you can also separate the row and column index by a comma:"
   ]
  },
  {
   "cell_type": "code",
   "execution_count": 125,
   "id": "7d60da6e",
   "metadata": {},
   "outputs": [
    {
     "name": "stdout",
     "output_type": "stream",
     "text": [
      "1\n",
      "1\n"
     ]
    }
   ],
   "source": [
    "# The following two lines of code are equivalent\n",
    "print(mat_1[0][0])\n",
    "print(mat_1[0,0])"
   ]
  },
  {
   "cell_type": "markdown",
   "id": "fe179cfd",
   "metadata": {},
   "source": [
    "### Slicing"
   ]
  },
  {
   "cell_type": "markdown",
   "id": "1802e2a7",
   "metadata": {},
   "source": [
    "Slicing is a useful way of extracting more than one element. In particular, `j:k` extracts the elements j,...,k-1:"
   ]
  },
  {
   "cell_type": "code",
   "execution_count": 126,
   "id": "6d8cfa38",
   "metadata": {},
   "outputs": [
    {
     "name": "stdout",
     "output_type": "stream",
     "text": [
      "[0 1 2 3 4 5 6 7 8 9]\n"
     ]
    }
   ],
   "source": [
    "vec = np.arange(10)\n",
    "print(vec)"
   ]
  },
  {
   "cell_type": "code",
   "execution_count": 127,
   "id": "8bfeb894",
   "metadata": {},
   "outputs": [
    {
     "data": {
      "text/plain": [
       "array([3, 4, 5, 6])"
      ]
     },
     "execution_count": 127,
     "metadata": {},
     "output_type": "execute_result"
    }
   ],
   "source": [
    "vec[3:7]"
   ]
  },
  {
   "cell_type": "markdown",
   "id": "a1212e86",
   "metadata": {},
   "source": [
    "We can leave either end of the range away and it will default to the beginning and the end of the list, respectively."
   ]
  },
  {
   "cell_type": "code",
   "execution_count": 128,
   "id": "3c5452cd",
   "metadata": {},
   "outputs": [
    {
     "data": {
      "text/plain": [
       "array([0, 1, 2, 3, 4, 5, 6])"
      ]
     },
     "execution_count": 128,
     "metadata": {},
     "output_type": "execute_result"
    }
   ],
   "source": [
    "vec[:7]"
   ]
  },
  {
   "cell_type": "code",
   "execution_count": 129,
   "id": "cbe43dd8",
   "metadata": {},
   "outputs": [
    {
     "data": {
      "text/plain": [
       "array([3, 4, 5, 6, 7, 8, 9])"
      ]
     },
     "execution_count": 129,
     "metadata": {},
     "output_type": "execute_result"
    }
   ],
   "source": [
    "vec[3:]"
   ]
  },
  {
   "cell_type": "code",
   "execution_count": 130,
   "id": "bf96dd64",
   "metadata": {},
   "outputs": [
    {
     "data": {
      "text/plain": [
       "array([0, 1, 2, 3, 4, 5, 6, 7, 8, 9])"
      ]
     },
     "execution_count": 130,
     "metadata": {},
     "output_type": "execute_result"
    }
   ],
   "source": [
    "vec[:] # What do you think this will do?"
   ]
  },
  {
   "cell_type": "markdown",
   "id": "7fccec03",
   "metadata": {},
   "source": [
    "You can therefore also use the colon to select all rows of a matrix and specific columns."
   ]
  },
  {
   "cell_type": "code",
   "execution_count": 131,
   "id": "9f8c9b36",
   "metadata": {},
   "outputs": [
    {
     "data": {
      "text/plain": [
       "array([[1, 2, 3],\n",
       "       [4, 5, 6]])"
      ]
     },
     "execution_count": 131,
     "metadata": {},
     "output_type": "execute_result"
    }
   ],
   "source": [
    "mat_1"
   ]
  },
  {
   "cell_type": "code",
   "execution_count": 132,
   "id": "12018771",
   "metadata": {},
   "outputs": [
    {
     "data": {
      "text/plain": [
       "array([1, 4])"
      ]
     },
     "execution_count": 132,
     "metadata": {},
     "output_type": "execute_result"
    }
   ],
   "source": [
    "mat_1[:,0]"
   ]
  },
  {
   "cell_type": "markdown",
   "id": "a7793ec5",
   "metadata": {},
   "source": [
    "You can add another colon to specify a step size, similarly to how you would use these three arguments in `range`."
   ]
  },
  {
   "cell_type": "code",
   "execution_count": 133,
   "id": "11165fb2",
   "metadata": {},
   "outputs": [
    {
     "data": {
      "text/plain": [
       "array([3, 5])"
      ]
     },
     "execution_count": 133,
     "metadata": {},
     "output_type": "execute_result"
    }
   ],
   "source": [
    "vec[3:7:2] # '2' specifies step size"
   ]
  },
  {
   "cell_type": "markdown",
   "id": "678f7aba",
   "metadata": {},
   "source": [
    "We could still leave away the beginning or the end of the slice:"
   ]
  },
  {
   "cell_type": "code",
   "execution_count": 134,
   "id": "fbb86466",
   "metadata": {},
   "outputs": [
    {
     "data": {
      "text/plain": [
       "array([0, 2, 4, 6, 8])"
      ]
     },
     "execution_count": 134,
     "metadata": {},
     "output_type": "execute_result"
    }
   ],
   "source": [
    "vec[::2]"
   ]
  },
  {
   "cell_type": "markdown",
   "id": "ad5062f6",
   "metadata": {},
   "source": [
    "### Question 2\n",
    "Predict the output of the following commands:"
   ]
  },
  {
   "cell_type": "code",
   "execution_count": 135,
   "id": "648a913b",
   "metadata": {},
   "outputs": [
    {
     "data": {
      "text/plain": [
       "array([0, 1, 2, 3])"
      ]
     },
     "execution_count": 135,
     "metadata": {},
     "output_type": "execute_result"
    }
   ],
   "source": [
    "vec[:4] # 0,1,2,3"
   ]
  },
  {
   "cell_type": "code",
   "execution_count": 136,
   "id": "477e3590",
   "metadata": {},
   "outputs": [
    {
     "data": {
      "text/plain": [
       "array([5, 7])"
      ]
     },
     "execution_count": 136,
     "metadata": {},
     "output_type": "execute_result"
    }
   ],
   "source": [
    "vec[5:9:2] # 5,7"
   ]
  },
  {
   "cell_type": "code",
   "execution_count": 137,
   "id": "2e2b7275",
   "metadata": {},
   "outputs": [
    {
     "data": {
      "text/plain": [
       "array([0, 2, 4, 6])"
      ]
     },
     "execution_count": 137,
     "metadata": {},
     "output_type": "execute_result"
    }
   ],
   "source": [
    "vec[:7:2] # 0, 2, 4, 6"
   ]
  },
  {
   "cell_type": "code",
   "execution_count": 138,
   "id": "0a9d2644",
   "metadata": {},
   "outputs": [
    {
     "data": {
      "text/plain": [
       "array([2, 4, 6, 8])"
      ]
     },
     "execution_count": 138,
     "metadata": {},
     "output_type": "execute_result"
    }
   ],
   "source": [
    "vec[2::2] # 2,4,6,8"
   ]
  },
  {
   "cell_type": "markdown",
   "id": "07dbe199",
   "metadata": {},
   "source": [
    "### Boolean indexing"
   ]
  },
  {
   "cell_type": "markdown",
   "id": "2f7784df",
   "metadata": {},
   "source": [
    "Do you remember how to create an array that is true if and only if `vec` is smaller than 5?"
   ]
  },
  {
   "cell_type": "code",
   "execution_count": 139,
   "id": "8224dd0a",
   "metadata": {},
   "outputs": [
    {
     "data": {
      "text/plain": [
       "array([0, 1, 2, 3, 4, 5, 6, 7, 8, 9])"
      ]
     },
     "execution_count": 139,
     "metadata": {},
     "output_type": "execute_result"
    }
   ],
   "source": [
    "vec = np.arange(10)\n",
    "vec"
   ]
  },
  {
   "cell_type": "code",
   "execution_count": 140,
   "id": "5fa0da56",
   "metadata": {},
   "outputs": [
    {
     "data": {
      "text/plain": [
       "array([ True,  True,  True,  True,  True,  True, False, False, False,\n",
       "       False])"
      ]
     },
     "execution_count": 140,
     "metadata": {},
     "output_type": "execute_result"
    }
   ],
   "source": [
    "selector = vec <= 5\n",
    "selector"
   ]
  },
  {
   "cell_type": "markdown",
   "id": "baee1cd7",
   "metadata": {},
   "source": [
    "You can use these boolean arrays to subset the corresponding true values."
   ]
  },
  {
   "cell_type": "code",
   "execution_count": 141,
   "id": "bbab66b1",
   "metadata": {},
   "outputs": [
    {
     "data": {
      "text/plain": [
       "array([0, 1, 2, 3, 4, 5, 6, 7, 8, 9])"
      ]
     },
     "execution_count": 141,
     "metadata": {},
     "output_type": "execute_result"
    }
   ],
   "source": [
    "vec"
   ]
  },
  {
   "cell_type": "code",
   "execution_count": 142,
   "id": "bf2c59a8",
   "metadata": {},
   "outputs": [
    {
     "data": {
      "text/plain": [
       "array([0, 1, 2, 3, 4, 5])"
      ]
     },
     "execution_count": 142,
     "metadata": {},
     "output_type": "execute_result"
    }
   ],
   "source": [
    "vec[selector]"
   ]
  },
  {
   "cell_type": "code",
   "execution_count": 143,
   "id": "2f8b2757",
   "metadata": {},
   "outputs": [
    {
     "data": {
      "text/plain": [
       "array([0, 1, 2, 3, 4, 5])"
      ]
     },
     "execution_count": 143,
     "metadata": {},
     "output_type": "execute_result"
    }
   ],
   "source": [
    "vec[vec<=5]"
   ]
  },
  {
   "cell_type": "markdown",
   "id": "9c410878",
   "metadata": {},
   "source": [
    "You can do the same with matrices:"
   ]
  },
  {
   "cell_type": "code",
   "execution_count": 144,
   "id": "dc4b31fd",
   "metadata": {},
   "outputs": [],
   "source": [
    "mat_1 = np.array([[1, 2],\n",
    "       [3, 4],\n",
    "       [5, 6]])"
   ]
  },
  {
   "cell_type": "code",
   "execution_count": 145,
   "id": "1a2719f5",
   "metadata": {},
   "outputs": [
    {
     "data": {
      "text/plain": [
       "array([[False, False],\n",
       "       [ True,  True],\n",
       "       [ True,  True]])"
      ]
     },
     "execution_count": 145,
     "metadata": {},
     "output_type": "execute_result"
    }
   ],
   "source": [
    "mat_1 >= 3 # \"mask\" array"
   ]
  },
  {
   "cell_type": "code",
   "execution_count": 146,
   "id": "64702559",
   "metadata": {},
   "outputs": [
    {
     "data": {
      "text/plain": [
       "array([3, 4, 5, 6])"
      ]
     },
     "execution_count": 146,
     "metadata": {},
     "output_type": "execute_result"
    }
   ],
   "source": [
    "mat_1[mat_1 >= 3]"
   ]
  },
  {
   "cell_type": "markdown",
   "id": "50bc1a98",
   "metadata": {},
   "source": [
    "### Questions 3\n",
    "- Consider the example matrix from above and subset all entries with values between 2 and 4. You can try to do this in one line or do it through multiple lines!"
   ]
  },
  {
   "cell_type": "code",
   "execution_count": 147,
   "id": "5812ff62",
   "metadata": {},
   "outputs": [
    {
     "data": {
      "text/plain": [
       "array([2, 3, 4])"
      ]
     },
     "execution_count": 147,
     "metadata": {},
     "output_type": "execute_result"
    }
   ],
   "source": [
    "mat_1[(mat_1 >= 2) & (mat_1 <= 4)]"
   ]
  },
  {
   "cell_type": "markdown",
   "id": "8fb95f7e",
   "metadata": {},
   "source": [
    "# Pandas\n",
    "## Python's package for handling data\n",
    "### Motivation for pandas\n",
    "Dictionaries allow us to save multiple attributes of a particular object. For example, we can store some information about a lesson:"
   ]
  },
  {
   "cell_type": "code",
   "execution_count": 148,
   "id": "5e3ba5c3",
   "metadata": {},
   "outputs": [],
   "source": [
    "lesson_5 = {\n",
    "    'topic': 'Numpy',\n",
    "    'teacher': 'Sharon',\n",
    "    'week': 5\n",
    "}"
   ]
  },
  {
   "cell_type": "markdown",
   "id": "52632b13",
   "metadata": {},
   "source": [
    "Often, we collect multiple observations for which we record the same attributes and we'd like to store them together:"
   ]
  },
  {
   "cell_type": "code",
   "execution_count": 149,
   "id": "a581c276",
   "metadata": {},
   "outputs": [],
   "source": [
    "lesson_3 = {\n",
    "    'topic': 'Basics of Python 2',\n",
    "    'teacher': 'Sharon',\n",
    "    'week': 3\n",
    "}\n",
    "lesson_1 = {\n",
    "    'topic': 'Setting up Python',\n",
    "    'teacher': 'Abhi',\n",
    "    'week': 1\n",
    "}"
   ]
  },
  {
   "cell_type": "markdown",
   "id": "033a2e2c",
   "metadata": {},
   "source": [
    "We could go about this by storing them in a list:"
   ]
  },
  {
   "cell_type": "code",
   "execution_count": 150,
   "id": "4fff6247",
   "metadata": {},
   "outputs": [],
   "source": [
    "lst_lessons = [lesson_5, lesson_3, lesson_1]"
   ]
  },
  {
   "cell_type": "code",
   "execution_count": 151,
   "id": "b94d1b2b",
   "metadata": {},
   "outputs": [
    {
     "data": {
      "text/plain": [
       "[{'topic': 'Numpy', 'teacher': 'Sharon', 'week': 5},\n",
       " {'topic': 'Basics of Python 2', 'teacher': 'Sharon', 'week': 3},\n",
       " {'topic': 'Setting up Python', 'teacher': 'Abhi', 'week': 1}]"
      ]
     },
     "execution_count": 151,
     "metadata": {},
     "output_type": "execute_result"
    }
   ],
   "source": [
    "lst_lessons"
   ]
  },
  {
   "cell_type": "markdown",
   "id": "9bf7f2f2",
   "metadata": {},
   "source": [
    "However, such lists are lacking a lot of functionality. For example, we may want to print out only those observations where Jasmine was the teacher. We'd have to use a for loop for this:"
   ]
  },
  {
   "cell_type": "code",
   "execution_count": 152,
   "id": "3462b682",
   "metadata": {},
   "outputs": [
    {
     "data": {
      "text/plain": [
       "[{'topic': 'Numpy', 'teacher': 'Sharon', 'week': 5},\n",
       " {'topic': 'Basics of Python 2', 'teacher': 'Sharon', 'week': 3}]"
      ]
     },
     "execution_count": 152,
     "metadata": {},
     "output_type": "execute_result"
    }
   ],
   "source": [
    "sharons_lessons = [\n",
    "    lesson for lesson in lst_lessons if lesson['teacher'] == 'Sharon'\n",
    "]\n",
    "sharons_lessons"
   ]
  },
  {
   "cell_type": "markdown",
   "id": "8bc071e7",
   "metadata": {},
   "source": [
    "We therefore need a new data structure that can record multiple pieces of information about multiple observations. This is provided by `pandas` (which stands for *panel data*):"
   ]
  },
  {
   "cell_type": "code",
   "execution_count": 153,
   "id": "e3d9dea2",
   "metadata": {},
   "outputs": [],
   "source": [
    "#We normally import pandas like this\n",
    "import pandas as pd"
   ]
  },
  {
   "cell_type": "markdown",
   "id": "b48b8e88",
   "metadata": {},
   "source": [
    "The core object in pandas is a *data frame*, which consists of observations organized along its rows and different pieces of information about its observations organized along its columns."
   ]
  },
  {
   "cell_type": "code",
   "execution_count": 154,
   "id": "1c5acd53",
   "metadata": {},
   "outputs": [
    {
     "data": {
      "text/html": [
       "<div>\n",
       "<style scoped>\n",
       "    .dataframe tbody tr th:only-of-type {\n",
       "        vertical-align: middle;\n",
       "    }\n",
       "\n",
       "    .dataframe tbody tr th {\n",
       "        vertical-align: top;\n",
       "    }\n",
       "\n",
       "    .dataframe thead th {\n",
       "        text-align: right;\n",
       "    }\n",
       "</style>\n",
       "<table border=\"1\" class=\"dataframe\">\n",
       "  <thead>\n",
       "    <tr style=\"text-align: right;\">\n",
       "      <th></th>\n",
       "      <th>topic</th>\n",
       "      <th>teacher</th>\n",
       "      <th>week</th>\n",
       "    </tr>\n",
       "  </thead>\n",
       "  <tbody>\n",
       "    <tr>\n",
       "      <th>0</th>\n",
       "      <td>Numpy</td>\n",
       "      <td>Sharon</td>\n",
       "      <td>5</td>\n",
       "    </tr>\n",
       "    <tr>\n",
       "      <th>1</th>\n",
       "      <td>Basics of Python 2</td>\n",
       "      <td>Sharon</td>\n",
       "      <td>3</td>\n",
       "    </tr>\n",
       "    <tr>\n",
       "      <th>2</th>\n",
       "      <td>Setting up Python</td>\n",
       "      <td>Abhi</td>\n",
       "      <td>1</td>\n",
       "    </tr>\n",
       "  </tbody>\n",
       "</table>\n",
       "</div>"
      ],
      "text/plain": [
       "                topic teacher  week\n",
       "0               Numpy  Sharon     5\n",
       "1  Basics of Python 2  Sharon     3\n",
       "2   Setting up Python    Abhi     1"
      ]
     },
     "execution_count": 154,
     "metadata": {},
     "output_type": "execute_result"
    }
   ],
   "source": [
    "df_lessons = pd.DataFrame(lst_lessons)\n",
    "df_lessons"
   ]
  },
  {
   "cell_type": "markdown",
   "id": "ec9c40b5",
   "metadata": {},
   "source": [
    "### Finding out basic information"
   ]
  },
  {
   "cell_type": "code",
   "execution_count": 155,
   "id": "d4bd6da1",
   "metadata": {},
   "outputs": [
    {
     "data": {
      "text/plain": [
       "(3, 3)"
      ]
     },
     "execution_count": 155,
     "metadata": {},
     "output_type": "execute_result"
    }
   ],
   "source": [
    "df_lessons.shape"
   ]
  },
  {
   "cell_type": "code",
   "execution_count": 156,
   "id": "7b7770a9",
   "metadata": {},
   "outputs": [
    {
     "data": {
      "text/plain": [
       "Index(['topic', 'teacher', 'week'], dtype='object')"
      ]
     },
     "execution_count": 156,
     "metadata": {},
     "output_type": "execute_result"
    }
   ],
   "source": [
    "df_lessons.columns"
   ]
  },
  {
   "cell_type": "markdown",
   "id": "efde2867",
   "metadata": {},
   "source": [
    "### Indexing"
   ]
  },
  {
   "cell_type": "markdown",
   "id": "c1c5b376",
   "metadata": {},
   "source": [
    "Regular brackets return a specific column or a subset of columns:"
   ]
  },
  {
   "cell_type": "code",
   "execution_count": 157,
   "id": "267f1631",
   "metadata": {},
   "outputs": [
    {
     "data": {
      "text/plain": [
       "0    Sharon\n",
       "1    Sharon\n",
       "2      Abhi\n",
       "Name: teacher, dtype: object"
      ]
     },
     "execution_count": 157,
     "metadata": {},
     "output_type": "execute_result"
    }
   ],
   "source": [
    "df_lessons['teacher']"
   ]
  },
  {
   "cell_type": "markdown",
   "id": "4aea25c2",
   "metadata": {},
   "source": [
    "(*Note:* The object that is returned is called a `pd.Series` and has a few additional features compared to a one-dimensional numpy array. I personally don't use those additional features and think they are counter-productive, but you can look them up if you have to interact with them.)"
   ]
  },
  {
   "cell_type": "markdown",
   "id": "f97c70fd",
   "metadata": {},
   "source": [
    "You can operate on those columns in the same way you would operate on numpy arrays:"
   ]
  },
  {
   "cell_type": "code",
   "execution_count": 158,
   "id": "0dae51cd",
   "metadata": {},
   "outputs": [
    {
     "data": {
      "text/plain": [
       "0     True\n",
       "1     True\n",
       "2    False\n",
       "Name: teacher, dtype: bool"
      ]
     },
     "execution_count": 158,
     "metadata": {},
     "output_type": "execute_result"
    }
   ],
   "source": [
    "df_lessons['teacher'] == 'Sharon'"
   ]
  },
  {
   "cell_type": "code",
   "execution_count": 159,
   "id": "eaa14bdd",
   "metadata": {},
   "outputs": [
    {
     "data": {
      "text/html": [
       "<div>\n",
       "<style scoped>\n",
       "    .dataframe tbody tr th:only-of-type {\n",
       "        vertical-align: middle;\n",
       "    }\n",
       "\n",
       "    .dataframe tbody tr th {\n",
       "        vertical-align: top;\n",
       "    }\n",
       "\n",
       "    .dataframe thead th {\n",
       "        text-align: right;\n",
       "    }\n",
       "</style>\n",
       "<table border=\"1\" class=\"dataframe\">\n",
       "  <thead>\n",
       "    <tr style=\"text-align: right;\">\n",
       "      <th></th>\n",
       "      <th>topic</th>\n",
       "      <th>teacher</th>\n",
       "    </tr>\n",
       "  </thead>\n",
       "  <tbody>\n",
       "    <tr>\n",
       "      <th>0</th>\n",
       "      <td>Numpy</td>\n",
       "      <td>Sharon</td>\n",
       "    </tr>\n",
       "    <tr>\n",
       "      <th>1</th>\n",
       "      <td>Basics of Python 2</td>\n",
       "      <td>Sharon</td>\n",
       "    </tr>\n",
       "    <tr>\n",
       "      <th>2</th>\n",
       "      <td>Setting up Python</td>\n",
       "      <td>Abhi</td>\n",
       "    </tr>\n",
       "  </tbody>\n",
       "</table>\n",
       "</div>"
      ],
      "text/plain": [
       "                topic teacher\n",
       "0               Numpy  Sharon\n",
       "1  Basics of Python 2  Sharon\n",
       "2   Setting up Python    Abhi"
      ]
     },
     "execution_count": 159,
     "metadata": {},
     "output_type": "execute_result"
    }
   ],
   "source": [
    "df_lessons[['topic', 'teacher']]"
   ]
  },
  {
   "cell_type": "markdown",
   "id": "7c0d68f9",
   "metadata": {},
   "source": [
    "`.loc` allows you to index data frames by row numbers and column names:"
   ]
  },
  {
   "cell_type": "code",
   "execution_count": 160,
   "id": "869266b1",
   "metadata": {},
   "outputs": [
    {
     "data": {
      "text/plain": [
       "'Sharon'"
      ]
     },
     "execution_count": 160,
     "metadata": {},
     "output_type": "execute_result"
    }
   ],
   "source": [
    "df_lessons.loc[1, 'teacher']"
   ]
  },
  {
   "cell_type": "markdown",
   "id": "ebce7e79",
   "metadata": {},
   "source": [
    "This also works with slicing:"
   ]
  },
  {
   "cell_type": "code",
   "execution_count": 161,
   "id": "6fcd1f93",
   "metadata": {},
   "outputs": [
    {
     "data": {
      "text/plain": [
       "1    Sharon\n",
       "2      Abhi\n",
       "Name: teacher, dtype: object"
      ]
     },
     "execution_count": 161,
     "metadata": {},
     "output_type": "execute_result"
    }
   ],
   "source": [
    "df_lessons.loc[1:, 'teacher']"
   ]
  },
  {
   "cell_type": "code",
   "execution_count": 162,
   "id": "636daff1",
   "metadata": {},
   "outputs": [
    {
     "data": {
      "text/html": [
       "<div>\n",
       "<style scoped>\n",
       "    .dataframe tbody tr th:only-of-type {\n",
       "        vertical-align: middle;\n",
       "    }\n",
       "\n",
       "    .dataframe tbody tr th {\n",
       "        vertical-align: top;\n",
       "    }\n",
       "\n",
       "    .dataframe thead th {\n",
       "        text-align: right;\n",
       "    }\n",
       "</style>\n",
       "<table border=\"1\" class=\"dataframe\">\n",
       "  <thead>\n",
       "    <tr style=\"text-align: right;\">\n",
       "      <th></th>\n",
       "      <th>topic</th>\n",
       "      <th>teacher</th>\n",
       "    </tr>\n",
       "  </thead>\n",
       "  <tbody>\n",
       "    <tr>\n",
       "      <th>0</th>\n",
       "      <td>Numpy</td>\n",
       "      <td>Sharon</td>\n",
       "    </tr>\n",
       "    <tr>\n",
       "      <th>1</th>\n",
       "      <td>Basics of Python 2</td>\n",
       "      <td>Sharon</td>\n",
       "    </tr>\n",
       "    <tr>\n",
       "      <th>2</th>\n",
       "      <td>Setting up Python</td>\n",
       "      <td>Abhi</td>\n",
       "    </tr>\n",
       "  </tbody>\n",
       "</table>\n",
       "</div>"
      ],
      "text/plain": [
       "                topic teacher\n",
       "0               Numpy  Sharon\n",
       "1  Basics of Python 2  Sharon\n",
       "2   Setting up Python    Abhi"
      ]
     },
     "execution_count": 162,
     "metadata": {},
     "output_type": "execute_result"
    }
   ],
   "source": [
    "df_lessons.loc[:, ['topic', 'teacher']]"
   ]
  },
  {
   "cell_type": "markdown",
   "id": "72b20cef",
   "metadata": {},
   "source": [
    "`iloc` works in the same way, but allows you to access columns according to their numerical index rather than their name:"
   ]
  },
  {
   "cell_type": "code",
   "execution_count": 163,
   "id": "40cb8ab4",
   "metadata": {},
   "outputs": [
    {
     "data": {
      "text/plain": [
       "'Sharon'"
      ]
     },
     "execution_count": 163,
     "metadata": {},
     "output_type": "execute_result"
    }
   ],
   "source": [
    "df_lessons.iloc[1, 1]"
   ]
  },
  {
   "cell_type": "markdown",
   "id": "f43b1e0e",
   "metadata": {},
   "source": [
    "Finally you can also do boolean indexing with rectangular brackets."
   ]
  },
  {
   "cell_type": "code",
   "execution_count": 164,
   "id": "9313c995",
   "metadata": {},
   "outputs": [
    {
     "data": {
      "text/html": [
       "<div>\n",
       "<style scoped>\n",
       "    .dataframe tbody tr th:only-of-type {\n",
       "        vertical-align: middle;\n",
       "    }\n",
       "\n",
       "    .dataframe tbody tr th {\n",
       "        vertical-align: top;\n",
       "    }\n",
       "\n",
       "    .dataframe thead th {\n",
       "        text-align: right;\n",
       "    }\n",
       "</style>\n",
       "<table border=\"1\" class=\"dataframe\">\n",
       "  <thead>\n",
       "    <tr style=\"text-align: right;\">\n",
       "      <th></th>\n",
       "      <th>topic</th>\n",
       "      <th>teacher</th>\n",
       "      <th>week</th>\n",
       "    </tr>\n",
       "  </thead>\n",
       "  <tbody>\n",
       "    <tr>\n",
       "      <th>0</th>\n",
       "      <td>Numpy</td>\n",
       "      <td>Sharon</td>\n",
       "      <td>5</td>\n",
       "    </tr>\n",
       "    <tr>\n",
       "      <th>1</th>\n",
       "      <td>Basics of Python 2</td>\n",
       "      <td>Sharon</td>\n",
       "      <td>3</td>\n",
       "    </tr>\n",
       "  </tbody>\n",
       "</table>\n",
       "</div>"
      ],
      "text/plain": [
       "                topic teacher  week\n",
       "0               Numpy  Sharon     5\n",
       "1  Basics of Python 2  Sharon     3"
      ]
     },
     "execution_count": 164,
     "metadata": {},
     "output_type": "execute_result"
    }
   ],
   "source": [
    "selector = df_lessons['teacher'] == 'Sharon' # select all rows where Sharon is the teacher\n",
    "df_lessons[selector] # return all rows where Sharon is the teacher"
   ]
  },
  {
   "cell_type": "markdown",
   "id": "b4b4acbb",
   "metadata": {},
   "source": [
    "(Note that the single `=` assigns the command to the right of it to the variable on its left. The double `==` on the other hand compares the values in `df_lessons['teacher']` and determines whether they are equal to `'Jasmine'`.)"
   ]
  },
  {
   "cell_type": "code",
   "execution_count": 165,
   "id": "6c8f379f",
   "metadata": {},
   "outputs": [
    {
     "data": {
      "text/html": [
       "<div>\n",
       "<style scoped>\n",
       "    .dataframe tbody tr th:only-of-type {\n",
       "        vertical-align: middle;\n",
       "    }\n",
       "\n",
       "    .dataframe tbody tr th {\n",
       "        vertical-align: top;\n",
       "    }\n",
       "\n",
       "    .dataframe thead th {\n",
       "        text-align: right;\n",
       "    }\n",
       "</style>\n",
       "<table border=\"1\" class=\"dataframe\">\n",
       "  <thead>\n",
       "    <tr style=\"text-align: right;\">\n",
       "      <th></th>\n",
       "      <th>topic</th>\n",
       "      <th>teacher</th>\n",
       "      <th>week</th>\n",
       "    </tr>\n",
       "  </thead>\n",
       "  <tbody>\n",
       "    <tr>\n",
       "      <th>0</th>\n",
       "      <td>Numpy</td>\n",
       "      <td>Sharon</td>\n",
       "      <td>5</td>\n",
       "    </tr>\n",
       "    <tr>\n",
       "      <th>1</th>\n",
       "      <td>Basics of Python 2</td>\n",
       "      <td>Sharon</td>\n",
       "      <td>3</td>\n",
       "    </tr>\n",
       "  </tbody>\n",
       "</table>\n",
       "</div>"
      ],
      "text/plain": [
       "                topic teacher  week\n",
       "0               Numpy  Sharon     5\n",
       "1  Basics of Python 2  Sharon     3"
      ]
     },
     "execution_count": 165,
     "metadata": {},
     "output_type": "execute_result"
    }
   ],
   "source": [
    "df_lessons[df_lessons['teacher']=='Sharon']"
   ]
  },
  {
   "cell_type": "markdown",
   "id": "bb05b08e",
   "metadata": {},
   "source": [
    "Finally, you can add new columns in the same way you would add a new key, value pair to a dictionary:"
   ]
  },
  {
   "cell_type": "code",
   "execution_count": 166,
   "id": "63d9a5ae",
   "metadata": {},
   "outputs": [
    {
     "data": {
      "text/html": [
       "<div>\n",
       "<style scoped>\n",
       "    .dataframe tbody tr th:only-of-type {\n",
       "        vertical-align: middle;\n",
       "    }\n",
       "\n",
       "    .dataframe tbody tr th {\n",
       "        vertical-align: top;\n",
       "    }\n",
       "\n",
       "    .dataframe thead th {\n",
       "        text-align: right;\n",
       "    }\n",
       "</style>\n",
       "<table border=\"1\" class=\"dataframe\">\n",
       "  <thead>\n",
       "    <tr style=\"text-align: right;\">\n",
       "      <th></th>\n",
       "      <th>topic</th>\n",
       "      <th>teacher</th>\n",
       "      <th>week</th>\n",
       "    </tr>\n",
       "  </thead>\n",
       "  <tbody>\n",
       "    <tr>\n",
       "      <th>0</th>\n",
       "      <td>Numpy</td>\n",
       "      <td>Sharon</td>\n",
       "      <td>5</td>\n",
       "    </tr>\n",
       "    <tr>\n",
       "      <th>1</th>\n",
       "      <td>Basics of Python 2</td>\n",
       "      <td>Sharon</td>\n",
       "      <td>3</td>\n",
       "    </tr>\n",
       "    <tr>\n",
       "      <th>2</th>\n",
       "      <td>Setting up Python</td>\n",
       "      <td>Abhi</td>\n",
       "      <td>1</td>\n",
       "    </tr>\n",
       "  </tbody>\n",
       "</table>\n",
       "</div>"
      ],
      "text/plain": [
       "                topic teacher  week\n",
       "0               Numpy  Sharon     5\n",
       "1  Basics of Python 2  Sharon     3\n",
       "2   Setting up Python    Abhi     1"
      ]
     },
     "execution_count": 166,
     "metadata": {},
     "output_type": "execute_result"
    }
   ],
   "source": [
    "df_lessons"
   ]
  },
  {
   "cell_type": "code",
   "execution_count": 167,
   "id": "4fe415e1",
   "metadata": {},
   "outputs": [],
   "source": [
    "df_lessons['homework'] = [True, True, False]"
   ]
  },
  {
   "cell_type": "code",
   "execution_count": 168,
   "id": "87658911",
   "metadata": {},
   "outputs": [
    {
     "data": {
      "text/html": [
       "<div>\n",
       "<style scoped>\n",
       "    .dataframe tbody tr th:only-of-type {\n",
       "        vertical-align: middle;\n",
       "    }\n",
       "\n",
       "    .dataframe tbody tr th {\n",
       "        vertical-align: top;\n",
       "    }\n",
       "\n",
       "    .dataframe thead th {\n",
       "        text-align: right;\n",
       "    }\n",
       "</style>\n",
       "<table border=\"1\" class=\"dataframe\">\n",
       "  <thead>\n",
       "    <tr style=\"text-align: right;\">\n",
       "      <th></th>\n",
       "      <th>topic</th>\n",
       "      <th>teacher</th>\n",
       "      <th>week</th>\n",
       "      <th>homework</th>\n",
       "    </tr>\n",
       "  </thead>\n",
       "  <tbody>\n",
       "    <tr>\n",
       "      <th>0</th>\n",
       "      <td>Numpy</td>\n",
       "      <td>Sharon</td>\n",
       "      <td>5</td>\n",
       "      <td>True</td>\n",
       "    </tr>\n",
       "    <tr>\n",
       "      <th>1</th>\n",
       "      <td>Basics of Python 2</td>\n",
       "      <td>Sharon</td>\n",
       "      <td>3</td>\n",
       "      <td>True</td>\n",
       "    </tr>\n",
       "    <tr>\n",
       "      <th>2</th>\n",
       "      <td>Setting up Python</td>\n",
       "      <td>Abhi</td>\n",
       "      <td>1</td>\n",
       "      <td>False</td>\n",
       "    </tr>\n",
       "  </tbody>\n",
       "</table>\n",
       "</div>"
      ],
      "text/plain": [
       "                topic teacher  week  homework\n",
       "0               Numpy  Sharon     5      True\n",
       "1  Basics of Python 2  Sharon     3      True\n",
       "2   Setting up Python    Abhi     1     False"
      ]
     },
     "execution_count": 168,
     "metadata": {},
     "output_type": "execute_result"
    }
   ],
   "source": [
    "df_lessons"
   ]
  },
  {
   "cell_type": "markdown",
   "id": "26f6e27e",
   "metadata": {},
   "source": [
    "### Exercises\n",
    "1. Create a data frame that additionally includes this week (week 6) with the appropriate topic (pandas) and teacher (Sam).\n",
    "2. Print out the topic for the second row.\n",
    "3. Subset the data frame to only print out the lessons for week 3 and higher.\n",
    "4. Create a new data frame that also includes week 7's lesson with teacher Sam. However, you don't know the topic yet. How does `pandas` represent this information? (Hint: Create a dictionary that only contains the keys `week` and `teacher`, but not `topic`. Try adding it to the list we used above and turning it into a dataframe.)\n",
    "5. You could have alternately also represented this information as a two-dimensional array with observations structured along rows and variables structured along columns. What would the difference be and why might this be a bad idea in this case? Discuss with the other students at your table."
   ]
  },
  {
   "cell_type": "code",
   "execution_count": 169,
   "id": "69b9d3a8",
   "metadata": {},
   "outputs": [
    {
     "data": {
      "text/html": [
       "<div>\n",
       "<style scoped>\n",
       "    .dataframe tbody tr th:only-of-type {\n",
       "        vertical-align: middle;\n",
       "    }\n",
       "\n",
       "    .dataframe tbody tr th {\n",
       "        vertical-align: top;\n",
       "    }\n",
       "\n",
       "    .dataframe thead th {\n",
       "        text-align: right;\n",
       "    }\n",
       "</style>\n",
       "<table border=\"1\" class=\"dataframe\">\n",
       "  <thead>\n",
       "    <tr style=\"text-align: right;\">\n",
       "      <th></th>\n",
       "      <th>topic</th>\n",
       "      <th>teacher</th>\n",
       "      <th>week</th>\n",
       "      <th>homework</th>\n",
       "    </tr>\n",
       "  </thead>\n",
       "  <tbody>\n",
       "    <tr>\n",
       "      <th>0</th>\n",
       "      <td>Numpy</td>\n",
       "      <td>Sharon</td>\n",
       "      <td>5</td>\n",
       "      <td>True</td>\n",
       "    </tr>\n",
       "    <tr>\n",
       "      <th>1</th>\n",
       "      <td>Basics of Python 2</td>\n",
       "      <td>Sharon</td>\n",
       "      <td>3</td>\n",
       "      <td>True</td>\n",
       "    </tr>\n",
       "    <tr>\n",
       "      <th>2</th>\n",
       "      <td>Setting up Python</td>\n",
       "      <td>Abhi</td>\n",
       "      <td>1</td>\n",
       "      <td>False</td>\n",
       "    </tr>\n",
       "    <tr>\n",
       "      <th>3</th>\n",
       "      <td>pandas</td>\n",
       "      <td>Sam</td>\n",
       "      <td>6</td>\n",
       "      <td>False</td>\n",
       "    </tr>\n",
       "  </tbody>\n",
       "</table>\n",
       "</div>"
      ],
      "text/plain": [
       "                topic teacher  week  homework\n",
       "0               Numpy  Sharon     5      True\n",
       "1  Basics of Python 2  Sharon     3      True\n",
       "2   Setting up Python    Abhi     1     False\n",
       "3              pandas     Sam     6     False"
      ]
     },
     "execution_count": 169,
     "metadata": {},
     "output_type": "execute_result"
    }
   ],
   "source": [
    "#1 - my response\n",
    "new_row = pd.DataFrame({'topic': 'pandas', 'teacher': 'Sam', 'week': 6, 'homework': False},\n",
    "                       index=[0])\n",
    "df_lessons = pd.concat([df_lessons, new_row], ignore_index=True)\n",
    "df_lessons"
   ]
  },
  {
   "cell_type": "code",
   "execution_count": 170,
   "id": "600e366c",
   "metadata": {},
   "outputs": [
    {
     "data": {
      "text/html": [
       "<div>\n",
       "<style scoped>\n",
       "    .dataframe tbody tr th:only-of-type {\n",
       "        vertical-align: middle;\n",
       "    }\n",
       "\n",
       "    .dataframe tbody tr th {\n",
       "        vertical-align: top;\n",
       "    }\n",
       "\n",
       "    .dataframe thead th {\n",
       "        text-align: right;\n",
       "    }\n",
       "</style>\n",
       "<table border=\"1\" class=\"dataframe\">\n",
       "  <thead>\n",
       "    <tr style=\"text-align: right;\">\n",
       "      <th></th>\n",
       "      <th>topic</th>\n",
       "      <th>teacher</th>\n",
       "      <th>week</th>\n",
       "    </tr>\n",
       "  </thead>\n",
       "  <tbody>\n",
       "    <tr>\n",
       "      <th>0</th>\n",
       "      <td>Numpy</td>\n",
       "      <td>Sharon</td>\n",
       "      <td>5</td>\n",
       "    </tr>\n",
       "    <tr>\n",
       "      <th>1</th>\n",
       "      <td>Basics of Python 2</td>\n",
       "      <td>Sharon</td>\n",
       "      <td>3</td>\n",
       "    </tr>\n",
       "    <tr>\n",
       "      <th>2</th>\n",
       "      <td>Setting up Python</td>\n",
       "      <td>Abhi</td>\n",
       "      <td>1</td>\n",
       "    </tr>\n",
       "    <tr>\n",
       "      <th>3</th>\n",
       "      <td>Pandas</td>\n",
       "      <td>Abhi</td>\n",
       "      <td>6</td>\n",
       "    </tr>\n",
       "  </tbody>\n",
       "</table>\n",
       "</div>"
      ],
      "text/plain": [
       "                topic teacher  week\n",
       "0               Numpy  Sharon     5\n",
       "1  Basics of Python 2  Sharon     3\n",
       "2   Setting up Python    Abhi     1\n",
       "3              Pandas    Abhi     6"
      ]
     },
     "execution_count": 170,
     "metadata": {},
     "output_type": "execute_result"
    }
   ],
   "source": [
    "#1 - class response\n",
    "wk6_dict = {\n",
    "    'topic': 'Pandas',\n",
    "    'teacher': 'Abhi',\n",
    "    'week': 6\n",
    "}\n",
    "\n",
    "df = lst_lessons.append(wk6_dict)\n",
    "df = pd.DataFrame(lst_lessons)\n",
    "df"
   ]
  },
  {
   "cell_type": "code",
   "execution_count": 171,
   "id": "7353dfc7",
   "metadata": {},
   "outputs": [
    {
     "name": "stderr",
     "output_type": "stream",
     "text": [
      "/var/folders/xt/qs85nkk57c508r2jh9123qlh0000gn/T/ipykernel_27141/2802310168.py:1: FutureWarning: Setting an item of incompatible dtype is deprecated and will raise an error in a future version of pandas. Value 'nan' has dtype incompatible with bool, please explicitly cast to a compatible dtype first.\n",
      "  df_lessons.loc[3] = wk6_dict\n"
     ]
    },
    {
     "data": {
      "text/html": [
       "<div>\n",
       "<style scoped>\n",
       "    .dataframe tbody tr th:only-of-type {\n",
       "        vertical-align: middle;\n",
       "    }\n",
       "\n",
       "    .dataframe tbody tr th {\n",
       "        vertical-align: top;\n",
       "    }\n",
       "\n",
       "    .dataframe thead th {\n",
       "        text-align: right;\n",
       "    }\n",
       "</style>\n",
       "<table border=\"1\" class=\"dataframe\">\n",
       "  <thead>\n",
       "    <tr style=\"text-align: right;\">\n",
       "      <th></th>\n",
       "      <th>topic</th>\n",
       "      <th>teacher</th>\n",
       "      <th>week</th>\n",
       "      <th>homework</th>\n",
       "    </tr>\n",
       "  </thead>\n",
       "  <tbody>\n",
       "    <tr>\n",
       "      <th>0</th>\n",
       "      <td>Numpy</td>\n",
       "      <td>Sharon</td>\n",
       "      <td>5</td>\n",
       "      <td>True</td>\n",
       "    </tr>\n",
       "    <tr>\n",
       "      <th>1</th>\n",
       "      <td>Basics of Python 2</td>\n",
       "      <td>Sharon</td>\n",
       "      <td>3</td>\n",
       "      <td>True</td>\n",
       "    </tr>\n",
       "    <tr>\n",
       "      <th>2</th>\n",
       "      <td>Setting up Python</td>\n",
       "      <td>Abhi</td>\n",
       "      <td>1</td>\n",
       "      <td>False</td>\n",
       "    </tr>\n",
       "    <tr>\n",
       "      <th>3</th>\n",
       "      <td>Pandas</td>\n",
       "      <td>Abhi</td>\n",
       "      <td>6</td>\n",
       "      <td>NaN</td>\n",
       "    </tr>\n",
       "  </tbody>\n",
       "</table>\n",
       "</div>"
      ],
      "text/plain": [
       "                topic teacher  week homework\n",
       "0               Numpy  Sharon     5     True\n",
       "1  Basics of Python 2  Sharon     3     True\n",
       "2   Setting up Python    Abhi     1    False\n",
       "3              Pandas    Abhi     6      NaN"
      ]
     },
     "execution_count": 171,
     "metadata": {},
     "output_type": "execute_result"
    }
   ],
   "source": [
    "df_lessons.loc[3] = wk6_dict\n",
    "df_lessons"
   ]
  },
  {
   "cell_type": "code",
   "execution_count": 172,
   "id": "6c1b824c",
   "metadata": {},
   "outputs": [
    {
     "data": {
      "text/plain": [
       "'Basics of Python 2'"
      ]
     },
     "execution_count": 172,
     "metadata": {},
     "output_type": "execute_result"
    }
   ],
   "source": [
    "#2\n",
    "df.loc[1,'topic']\n",
    "df['topic'][1]\n",
    "df.iloc[1,0]"
   ]
  },
  {
   "cell_type": "code",
   "execution_count": 173,
   "id": "ca298722",
   "metadata": {},
   "outputs": [
    {
     "data": {
      "text/html": [
       "<div>\n",
       "<style scoped>\n",
       "    .dataframe tbody tr th:only-of-type {\n",
       "        vertical-align: middle;\n",
       "    }\n",
       "\n",
       "    .dataframe tbody tr th {\n",
       "        vertical-align: top;\n",
       "    }\n",
       "\n",
       "    .dataframe thead th {\n",
       "        text-align: right;\n",
       "    }\n",
       "</style>\n",
       "<table border=\"1\" class=\"dataframe\">\n",
       "  <thead>\n",
       "    <tr style=\"text-align: right;\">\n",
       "      <th></th>\n",
       "      <th>topic</th>\n",
       "      <th>teacher</th>\n",
       "      <th>week</th>\n",
       "    </tr>\n",
       "  </thead>\n",
       "  <tbody>\n",
       "    <tr>\n",
       "      <th>0</th>\n",
       "      <td>Numpy</td>\n",
       "      <td>Sharon</td>\n",
       "      <td>5</td>\n",
       "    </tr>\n",
       "    <tr>\n",
       "      <th>1</th>\n",
       "      <td>Basics of Python 2</td>\n",
       "      <td>Sharon</td>\n",
       "      <td>3</td>\n",
       "    </tr>\n",
       "    <tr>\n",
       "      <th>3</th>\n",
       "      <td>Pandas</td>\n",
       "      <td>Abhi</td>\n",
       "      <td>6</td>\n",
       "    </tr>\n",
       "  </tbody>\n",
       "</table>\n",
       "</div>"
      ],
      "text/plain": [
       "                topic teacher  week\n",
       "0               Numpy  Sharon     5\n",
       "1  Basics of Python 2  Sharon     3\n",
       "3              Pandas    Abhi     6"
      ]
     },
     "execution_count": 173,
     "metadata": {},
     "output_type": "execute_result"
    }
   ],
   "source": [
    "#3\n",
    "df[df['week']>=3]"
   ]
  },
  {
   "cell_type": "code",
   "execution_count": 174,
   "id": "7b741158",
   "metadata": {},
   "outputs": [],
   "source": [
    "#4\n",
    "wk7_dict = {\n",
    "    'teacher': 'Sam',\n",
    "    'week': 7\n",
    "}\n",
    "\n",
    "lst_lessons.append(wk7_dict)\n",
    "df2 = pd.DataFrame(lst_lessons)"
   ]
  },
  {
   "cell_type": "code",
   "execution_count": 175,
   "id": "9fcf66eb",
   "metadata": {},
   "outputs": [
    {
     "data": {
      "text/html": [
       "<div>\n",
       "<style scoped>\n",
       "    .dataframe tbody tr th:only-of-type {\n",
       "        vertical-align: middle;\n",
       "    }\n",
       "\n",
       "    .dataframe tbody tr th {\n",
       "        vertical-align: top;\n",
       "    }\n",
       "\n",
       "    .dataframe thead th {\n",
       "        text-align: right;\n",
       "    }\n",
       "</style>\n",
       "<table border=\"1\" class=\"dataframe\">\n",
       "  <thead>\n",
       "    <tr style=\"text-align: right;\">\n",
       "      <th></th>\n",
       "      <th>topic</th>\n",
       "      <th>teacher</th>\n",
       "      <th>week</th>\n",
       "    </tr>\n",
       "  </thead>\n",
       "  <tbody>\n",
       "    <tr>\n",
       "      <th>0</th>\n",
       "      <td>Numpy</td>\n",
       "      <td>Sharon</td>\n",
       "      <td>5</td>\n",
       "    </tr>\n",
       "    <tr>\n",
       "      <th>1</th>\n",
       "      <td>Basics of Python 2</td>\n",
       "      <td>Sharon</td>\n",
       "      <td>3</td>\n",
       "    </tr>\n",
       "    <tr>\n",
       "      <th>2</th>\n",
       "      <td>Setting up Python</td>\n",
       "      <td>Abhi</td>\n",
       "      <td>1</td>\n",
       "    </tr>\n",
       "    <tr>\n",
       "      <th>3</th>\n",
       "      <td>Pandas</td>\n",
       "      <td>Abhi</td>\n",
       "      <td>6</td>\n",
       "    </tr>\n",
       "    <tr>\n",
       "      <th>4</th>\n",
       "      <td>NaN</td>\n",
       "      <td>Sam</td>\n",
       "      <td>7</td>\n",
       "    </tr>\n",
       "  </tbody>\n",
       "</table>\n",
       "</div>"
      ],
      "text/plain": [
       "                topic teacher  week\n",
       "0               Numpy  Sharon     5\n",
       "1  Basics of Python 2  Sharon     3\n",
       "2   Setting up Python    Abhi     1\n",
       "3              Pandas    Abhi     6\n",
       "4                 NaN     Sam     7"
      ]
     },
     "execution_count": 175,
     "metadata": {},
     "output_type": "execute_result"
    }
   ],
   "source": [
    "df2"
   ]
  },
  {
   "cell_type": "markdown",
   "id": "64048f04",
   "metadata": {},
   "source": [
    "### Saving and loading a data frame\n",
    "You can save data frames in different formats. A popular format is csv (comma-separated values), which represents each observation in one row and each variable separated by commas."
   ]
  },
  {
   "cell_type": "code",
   "execution_count": 176,
   "id": "01287e4a",
   "metadata": {},
   "outputs": [],
   "source": [
    "df_lessons.to_csv('df_lessons.csv')"
   ]
  },
  {
   "cell_type": "markdown",
   "id": "ec312e81",
   "metadata": {},
   "source": [
    "Let's inspect this file."
   ]
  },
  {
   "cell_type": "markdown",
   "id": "a6b2f786",
   "metadata": {},
   "source": [
    "We'll be using csv files today. Note that they are not always ideal. For example, they do not save the type of your different values which can lead to issues. The hdf5 format is a popular alternative (but a little more complicated to use); alternatively the feather format is lightweight and more reliable, but a little less common."
   ]
  },
  {
   "cell_type": "code",
   "execution_count": null,
   "id": "6bb866cb",
   "metadata": {},
   "outputs": [],
   "source": [
    "df_lessons_loaded = pd.read_csv('df_lessons.csv')"
   ]
  },
  {
   "cell_type": "code",
   "execution_count": null,
   "id": "b4b2aef1",
   "metadata": {},
   "outputs": [],
   "source": [
    "df_lessons_loaded"
   ]
  },
  {
   "cell_type": "markdown",
   "id": "5fbb3ecd",
   "metadata": {},
   "source": [
    "### Exercises\n",
    "1. Read in the file `dot_motion.csv` using pandas and assign it to the variable `df_dm`.\n",
    "2. Try exploring the file and describe the data contained in it.\n",
    "3. Subset the data frame to only contain the observations with a reaction time of above 100.\n",
    "4. Create a new variable 'accuracy' that is 1 if the motion and the choice are matching and 0 otherwise.\n",
    "\n",
    "#### Hint for 4:\n",
    "If the motion and choice are matching, their entries should be equal. Create an array `accuracy` that contains as a boolean whether they are or are not matching. You can turn this boolean array (with True and False value) into a float array (which will assign 1 to True and 0 to False), using `accuracy.astype(float)`.\n"
   ]
  },
  {
   "cell_type": "code",
   "execution_count": null,
   "id": "e23594fe",
   "metadata": {},
   "outputs": [],
   "source": []
  },
  {
   "cell_type": "code",
   "execution_count": null,
   "metadata": {},
   "outputs": [],
   "source": []
  },
  {
   "cell_type": "code",
   "execution_count": null,
   "id": "06dec10f",
   "metadata": {},
   "outputs": [],
   "source": []
  },
  {
   "cell_type": "code",
   "execution_count": null,
   "id": "b9ce01a3",
   "metadata": {},
   "outputs": [],
   "source": []
  }
 ],
 "metadata": {
  "kernelspec": {
   "display_name": "intropython",
   "language": "python",
   "name": "python3"
  },
  "language_info": {
   "codemirror_mode": {
    "name": "ipython",
    "version": 3
   },
   "file_extension": ".py",
   "mimetype": "text/x-python",
   "name": "python",
   "nbconvert_exporter": "python",
   "pygments_lexer": "ipython3",
   "version": "3.13.5"
  }
 },
 "nbformat": 4,
 "nbformat_minor": 5
}
