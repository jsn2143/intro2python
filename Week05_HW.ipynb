{
 "cells": [
  {
   "cell_type": "markdown",
   "id": "fc12cccb",
   "metadata": {},
   "source": [
    "# PfN Homework: Week 5"
   ]
  },
  {
   "cell_type": "markdown",
   "id": "37a9fd98",
   "metadata": {},
   "source": [
    "We're going to begin by reviewing some of the ways we can create arrays using numpy's inbuilt functions:"
   ]
  },
  {
   "cell_type": "code",
   "execution_count": 2,
   "id": "fef5c2d0",
   "metadata": {},
   "outputs": [],
   "source": [
    "import numpy as np"
   ]
  },
  {
   "cell_type": "markdown",
   "id": "4543ea5c",
   "metadata": {},
   "source": [
    "Let's begin with ```linspace```, which allows us to evenly tile an array with elements from start to finish. We specify the number of steps the function should take. For example, try to predict what the following code will output:"
   ]
  },
  {
   "cell_type": "code",
   "execution_count": 3,
   "id": "f5867d5a",
   "metadata": {},
   "outputs": [
    {
     "data": {
      "text/plain": [
       "array([ 0. ,  2.5,  5. ,  7.5, 10. ])"
      ]
     },
     "execution_count": 3,
     "metadata": {},
     "output_type": "execute_result"
    }
   ],
   "source": [
    "arr = np.linspace(0, 10, 5)\n",
    "arr"
   ]
  },
  {
   "cell_type": "markdown",
   "id": "20de1789",
   "metadata": {},
   "source": [
    "What if you want to specify the step *size* instead? Then we can use a complementary function,  ```arange```. Try to guess what ```arr``` will be once again, and then run the code to check whether you were correct."
   ]
  },
  {
   "cell_type": "code",
   "execution_count": 4,
   "id": "887d3475",
   "metadata": {},
   "outputs": [
    {
     "data": {
      "text/plain": [
       "array([0. , 2.5, 5. , 7.5])"
      ]
     },
     "execution_count": 4,
     "metadata": {},
     "output_type": "execute_result"
    }
   ],
   "source": [
    "arr = np.arange(0, 10, 2.5)\n",
    "arr"
   ]
  },
  {
   "cell_type": "markdown",
   "id": "4219a042",
   "metadata": {},
   "source": [
    "It's often useful to also create arrays that consist of the same element. For instance, we can use ```ones``` to create a numpy array of - wait for it - ones. Note here that we're creating a multidimensional array."
   ]
  },
  {
   "cell_type": "code",
   "execution_count": 5,
   "id": "7794d4f9",
   "metadata": {},
   "outputs": [
    {
     "data": {
      "text/plain": [
       "array([[[1., 1.],\n",
       "        [1., 1.],\n",
       "        [1., 1.],\n",
       "        [1., 1.]],\n",
       "\n",
       "       [[1., 1.],\n",
       "        [1., 1.],\n",
       "        [1., 1.],\n",
       "        [1., 1.]],\n",
       "\n",
       "       [[1., 1.],\n",
       "        [1., 1.],\n",
       "        [1., 1.],\n",
       "        [1., 1.]]])"
      ]
     },
     "execution_count": 5,
     "metadata": {},
     "output_type": "execute_result"
    }
   ],
   "source": [
    "arr = np.ones((3, 4, 2)) # 3 blocks (each with 4 rows, 2 columns)\n",
    "arr"
   ]
  },
  {
   "cell_type": "markdown",
   "id": "eeafdd1b",
   "metadata": {},
   "source": [
    "We can also do more fancy things, like create an identity matrix using ```eye```:\n"
   ]
  },
  {
   "cell_type": "code",
   "execution_count": 6,
   "id": "96a9831c",
   "metadata": {},
   "outputs": [
    {
     "data": {
      "text/plain": [
       "array([[1., 0., 0., 0.],\n",
       "       [0., 1., 0., 0.],\n",
       "       [0., 0., 1., 0.],\n",
       "       [0., 0., 0., 1.]])"
      ]
     },
     "execution_count": 6,
     "metadata": {},
     "output_type": "execute_result"
    }
   ],
   "source": [
    "arr = np.eye(4)\n",
    "arr"
   ]
  },
  {
   "cell_type": "markdown",
   "id": "363cd772",
   "metadata": {},
   "source": [
    "Let's practice creating arrays below:"
   ]
  },
  {
   "cell_type": "markdown",
   "id": "88637d3c",
   "metadata": {},
   "source": [
    "## Question 1:\n",
    "A) Create a numpy array using ```linspace``` that counts up from 3 to 8 in steps of 0.5.\n",
    "\n",
    "B) Create the same array, but use ```arange```\n",
    "\n",
    "C) Using the wonders of the world wide web, please figure out how to create an array of all zeros. Make the array 3x4x5."
   ]
  },
  {
   "cell_type": "code",
   "execution_count": 11,
   "id": "cb5f730e",
   "metadata": {},
   "outputs": [
    {
     "data": {
      "text/plain": [
       "array([3. , 3.5, 4. , 4.5, 5. , 5.5, 6. , 6.5, 7. , 7.5, 8. ])"
      ]
     },
     "execution_count": 11,
     "metadata": {},
     "output_type": "execute_result"
    }
   ],
   "source": [
    "#1A\n",
    "my_arr = np.linspace(3,8,11)\n",
    "my_arr"
   ]
  },
  {
   "cell_type": "code",
   "execution_count": 15,
   "id": "24b1c2e6",
   "metadata": {},
   "outputs": [
    {
     "data": {
      "text/plain": [
       "array([3. , 3.5, 4. , 4.5, 5. , 5.5, 6. , 6.5, 7. , 7.5, 8. ])"
      ]
     },
     "execution_count": 15,
     "metadata": {},
     "output_type": "execute_result"
    }
   ],
   "source": [
    "#1B\n",
    "my_arr = np.arange(3,8.5,0.5)\n",
    "my_arr"
   ]
  },
  {
   "cell_type": "code",
   "execution_count": 18,
   "id": "d86d54e3",
   "metadata": {},
   "outputs": [
    {
     "data": {
      "text/plain": [
       "array([[[0., 0., 0., 0., 0.],\n",
       "        [0., 0., 0., 0., 0.],\n",
       "        [0., 0., 0., 0., 0.],\n",
       "        [0., 0., 0., 0., 0.]],\n",
       "\n",
       "       [[0., 0., 0., 0., 0.],\n",
       "        [0., 0., 0., 0., 0.],\n",
       "        [0., 0., 0., 0., 0.],\n",
       "        [0., 0., 0., 0., 0.]],\n",
       "\n",
       "       [[0., 0., 0., 0., 0.],\n",
       "        [0., 0., 0., 0., 0.],\n",
       "        [0., 0., 0., 0., 0.],\n",
       "        [0., 0., 0., 0., 0.]]])"
      ]
     },
     "execution_count": 18,
     "metadata": {},
     "output_type": "execute_result"
    }
   ],
   "source": [
    "#1C\n",
    "zeros_arr = np.zeros((3,4,5))\n",
    "zeros_arr"
   ]
  },
  {
   "cell_type": "markdown",
   "id": "d29f3e27",
   "metadata": {},
   "source": [
    "# Putting arrays together\n",
    "\n",
    "What if we want to put arrays together? With lists this is easy: you just add them together. But, as we discussed during class, the whole point of numpy arrays is that when we add them we ... add them. Luckily, as usual, numpy has a function for that.\n",
    "\n",
    "Let's begin with the simplest example, putting two arrays together:"
   ]
  },
  {
   "cell_type": "code",
   "execution_count": 21,
   "id": "ca8eae0e",
   "metadata": {},
   "outputs": [
    {
     "data": {
      "text/plain": [
       "array([1, 2, 3, 4, 5, 6])"
      ]
     },
     "execution_count": 21,
     "metadata": {},
     "output_type": "execute_result"
    }
   ],
   "source": [
    "a = np.array([1, 2, 3])\n",
    "b = np.array([4, 5, 6])\n",
    "\n",
    "#Note that the arrays are provided here as a tuple ... this will be important later\n",
    "c = np.concatenate((a, b))\n",
    "c"
   ]
  },
  {
   "cell_type": "markdown",
   "id": "f24d5177",
   "metadata": {},
   "source": [
    "What if we want to put three arrays together? You can just provide more arrays to the tuple that is given to ```concatenate```."
   ]
  },
  {
   "cell_type": "code",
   "execution_count": 22,
   "id": "94b41b29",
   "metadata": {},
   "outputs": [
    {
     "data": {
      "text/plain": [
       "array([1, 2, 3, 4, 5, 6, 1, 2, 3, 4, 5, 6])"
      ]
     },
     "execution_count": 22,
     "metadata": {},
     "output_type": "execute_result"
    }
   ],
   "source": [
    "d = np.concatenate((a, b, c))\n",
    "d"
   ]
  },
  {
   "cell_type": "markdown",
   "id": "b94e9f30",
   "metadata": {},
   "source": [
    "What if we want to put arrays together, over and over again? We can use ```np.tile```"
   ]
  },
  {
   "cell_type": "code",
   "execution_count": 23,
   "id": "b874285b",
   "metadata": {},
   "outputs": [
    {
     "data": {
      "text/plain": [
       "array([1, 2, 3, 1, 2, 3, 1, 2, 3])"
      ]
     },
     "execution_count": 23,
     "metadata": {},
     "output_type": "execute_result"
    }
   ],
   "source": [
    "np.tile(a, 3)"
   ]
  },
  {
   "cell_type": "markdown",
   "id": "2477754b",
   "metadata": {},
   "source": [
    "You can also use ```tile``` to stack arrays on top of each other. Here, we're telling the function to repeat array ```a``` three times, in one column."
   ]
  },
  {
   "cell_type": "code",
   "execution_count": 24,
   "id": "86c8715b",
   "metadata": {},
   "outputs": [
    {
     "data": {
      "text/plain": [
       "array([[1, 2, 3],\n",
       "       [1, 2, 3],\n",
       "       [1, 2, 3]])"
      ]
     },
     "execution_count": 24,
     "metadata": {},
     "output_type": "execute_result"
    }
   ],
   "source": [
    "np.tile(a, (3,1))"
   ]
  },
  {
   "cell_type": "markdown",
   "id": "4397234a",
   "metadata": {},
   "source": [
    "Can you predict what the following code would output?"
   ]
  },
  {
   "cell_type": "code",
   "execution_count": 25,
   "id": "72691e90",
   "metadata": {},
   "outputs": [
    {
     "data": {
      "text/plain": [
       "array([[1, 2, 3, 1, 2, 3],\n",
       "       [1, 2, 3, 1, 2, 3],\n",
       "       [1, 2, 3, 1, 2, 3]])"
      ]
     },
     "execution_count": 25,
     "metadata": {},
     "output_type": "execute_result"
    }
   ],
   "source": [
    "np.tile(a, (3,2))"
   ]
  },
  {
   "cell_type": "markdown",
   "id": "371ebcf1",
   "metadata": {},
   "source": [
    "There are a ton of other functions that you can use to put arrays together, which you can use flexibly to solve the next few problems. Use the numpy documentation and a bit of googling to find the appropriate functions. As you'll see, there will be multiple ways to solve the same problem!"
   ]
  },
  {
   "cell_type": "markdown",
   "id": "e10f48bb",
   "metadata": {},
   "source": [
    "# Question 2"
   ]
  },
  {
   "cell_type": "markdown",
   "id": "4edc65d0",
   "metadata": {},
   "source": [
    "A) Write a function that takes in a 1D array for input and returns the same array, mirrored, stacked N times, where N is also an input to the function. For instance, given the array ```[1,2,3] ```as an input, and ```N=2```, the function would return ```[[1,2,3,3,2,1], [1,2,3,3,2,1]]```\n",
    "\n",
    "B) Write another function that takes in a 1D array for input and returns another array, with each element repeated N times. For example, given ```[1,2,3]``` and ```N=3``` the function would return ```[1,1,1,2,2,2,3,3,3]```\n"
   ]
  },
  {
   "cell_type": "code",
   "execution_count": 56,
   "id": "eca34fb5",
   "metadata": {},
   "outputs": [
    {
     "data": {
      "text/plain": [
       "array([[1, 2, 3, 3, 2, 1],\n",
       "       [1, 2, 3, 3, 2, 1]])"
      ]
     },
     "execution_count": 56,
     "metadata": {},
     "output_type": "execute_result"
    }
   ],
   "source": [
    "#2A\n",
    "def mirror_array(array, N):\n",
    "    reverse = np.flip(array) # reverses the list (such that the first element goes first and the first element goes last)\n",
    "    mirror = np.concatenate((array, reverse))\n",
    "    stack = np.tile(mirror, (N,1))\n",
    "    return stack\n",
    "\n",
    "# testing the function\n",
    "arr = np. array([1,2,3])\n",
    "mirror_array(arr,2)\n",
    "    "
   ]
  },
  {
   "cell_type": "code",
   "execution_count": 62,
   "id": "a87deb91",
   "metadata": {},
   "outputs": [
    {
     "data": {
      "text/plain": [
       "array([1, 1, 1, 2, 2, 2, 3, 3, 3])"
      ]
     },
     "execution_count": 62,
     "metadata": {},
     "output_type": "execute_result"
    }
   ],
   "source": [
    "#2B\n",
    "def repindel(array, N):\n",
    "    repeated_arr = np.repeat(array, N)\n",
    "    return repeated_arr\n",
    "\n",
    "# testing the function\n",
    "arr = np.array([1,2,3])\n",
    "repindel(arr,3)"
   ]
  }
 ],
 "metadata": {
  "kernelspec": {
   "display_name": "intropython",
   "language": "python",
   "name": "python3"
  },
  "language_info": {
   "codemirror_mode": {
    "name": "ipython",
    "version": 3
   },
   "file_extension": ".py",
   "mimetype": "text/x-python",
   "name": "python",
   "nbconvert_exporter": "python",
   "pygments_lexer": "ipython3",
   "version": "3.13.5"
  }
 },
 "nbformat": 4,
 "nbformat_minor": 5
}
