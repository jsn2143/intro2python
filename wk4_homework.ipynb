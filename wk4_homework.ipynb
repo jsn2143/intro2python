{
 "cells": [
  {
   "cell_type": "markdown",
   "metadata": {},
   "source": [
    "# Week 4 Homework\n",
    "\n",
    "Go through the content in this notebook, and complete the problems."
   ]
  },
  {
   "cell_type": "markdown",
   "metadata": {},
   "source": [
    "# Errors\n",
    "\n",
    "By now, we have seen several pieces of code that have failed to run. In that case, Python does not only raise an error, but also specifies what exactly went wrong."
   ]
  },
  {
   "cell_type": "code",
   "execution_count": 1,
   "metadata": {},
   "outputs": [
    {
     "ename": "_IncompleteInputError",
     "evalue": "incomplete input (495188828.py, line 3)",
     "output_type": "error",
     "traceback": [
      "  \u001b[36mCell\u001b[39m\u001b[36m \u001b[39m\u001b[32mIn[1]\u001b[39m\u001b[32m, line 3\u001b[39m\n\u001b[31m    \u001b[39m\u001b[31mprint(a+3\u001b[39m\n             ^\n\u001b[31m_IncompleteInputError\u001b[39m\u001b[31m:\u001b[39m incomplete input\n"
     ]
    }
   ],
   "source": [
    "# A syntax error indicates that your code is not properly formatted:\n",
    "a = 2\n",
    "print(a+3"
   ]
  },
  {
   "cell_type": "code",
   "execution_count": 2,
   "metadata": {},
   "outputs": [
    {
     "ename": "TypeError",
     "evalue": "can only concatenate str (not \"int\") to str",
     "output_type": "error",
     "traceback": [
      "\u001b[31m---------------------------------------------------------------------------\u001b[39m",
      "\u001b[31mTypeError\u001b[39m                                 Traceback (most recent call last)",
      "\u001b[36mCell\u001b[39m\u001b[36m \u001b[39m\u001b[32mIn[2]\u001b[39m\u001b[32m, line 3\u001b[39m\n\u001b[32m      1\u001b[39m \u001b[38;5;66;03m# A type error indicates that a function received an input of the wrong type\u001b[39;00m\n\u001b[32m      2\u001b[39m a = \u001b[33m'\u001b[39m\u001b[33m2\u001b[39m\u001b[33m'\u001b[39m\n\u001b[32m----> \u001b[39m\u001b[32m3\u001b[39m \u001b[38;5;28mprint\u001b[39m(\u001b[43ma\u001b[49m\u001b[43m+\u001b[49m\u001b[32;43m3\u001b[39;49m)\n",
      "\u001b[31mTypeError\u001b[39m: can only concatenate str (not \"int\") to str"
     ]
    }
   ],
   "source": [
    "# A type error indicates that a function received an input of the wrong type\n",
    "a = '2'\n",
    "print(a+3)"
   ]
  },
  {
   "cell_type": "code",
   "execution_count": 3,
   "metadata": {},
   "outputs": [
    {
     "ename": "IndexError",
     "evalue": "list index out of range",
     "output_type": "error",
     "traceback": [
      "\u001b[31m---------------------------------------------------------------------------\u001b[39m",
      "\u001b[31mIndexError\u001b[39m                                Traceback (most recent call last)",
      "\u001b[36mCell\u001b[39m\u001b[36m \u001b[39m\u001b[32mIn[3]\u001b[39m\u001b[32m, line 3\u001b[39m\n\u001b[32m      1\u001b[39m \u001b[38;5;66;03m# An index error suggests that it is not possible to index an object in the attempted way.\u001b[39;00m\n\u001b[32m      2\u001b[39m a = [\u001b[32m2\u001b[39m, \u001b[32m3\u001b[39m]\n\u001b[32m----> \u001b[39m\u001b[32m3\u001b[39m \u001b[43ma\u001b[49m\u001b[43m[\u001b[49m\u001b[32;43m3\u001b[39;49m\u001b[43m]\u001b[49m\n",
      "\u001b[31mIndexError\u001b[39m: list index out of range"
     ]
    }
   ],
   "source": [
    "# An index error suggests that it is not possible to index an object in the attempted way.\n",
    "a = [2, 3]\n",
    "a[3]"
   ]
  },
  {
   "cell_type": "markdown",
   "metadata": {},
   "source": [
    "You can return errors yourself using the command `raise`:"
   ]
  },
  {
   "cell_type": "code",
   "execution_count": 4,
   "metadata": {},
   "outputs": [
    {
     "ename": "ValueError",
     "evalue": "a should not be three",
     "output_type": "error",
     "traceback": [
      "\u001b[31m---------------------------------------------------------------------------\u001b[39m",
      "\u001b[31mValueError\u001b[39m                                Traceback (most recent call last)",
      "\u001b[36mCell\u001b[39m\u001b[36m \u001b[39m\u001b[32mIn[4]\u001b[39m\u001b[32m, line 3\u001b[39m\n\u001b[32m      1\u001b[39m a = \u001b[32m3\u001b[39m\n\u001b[32m      2\u001b[39m \u001b[38;5;28;01mif\u001b[39;00m a == \u001b[32m3\u001b[39m:\n\u001b[32m----> \u001b[39m\u001b[32m3\u001b[39m   \u001b[38;5;28;01mraise\u001b[39;00m \u001b[38;5;167;01mValueError\u001b[39;00m(\u001b[33m'\u001b[39m\u001b[33ma should not be three\u001b[39m\u001b[33m'\u001b[39m)\n",
      "\u001b[31mValueError\u001b[39m: a should not be three"
     ]
    }
   ],
   "source": [
    "a = 3\n",
    "if a == 3:\n",
    "  raise ValueError('a should not be three')"
   ]
  },
  {
   "cell_type": "markdown",
   "metadata": {},
   "source": [
    "## More info on functions: Args and kwargs\n",
    "\n",
    "You can also use a piece of code that allows you to provide arbitrary arguments (with or without keywords) to your function. If you use `*args` as one of the arguments of your function, this will take any unnamed argument and put all of them in a tuple:"
   ]
  },
  {
   "cell_type": "code",
   "execution_count": 5,
   "metadata": {},
   "outputs": [
    {
     "name": "stdout",
     "output_type": "stream",
     "text": [
      "1\n",
      "(2, 3)\n"
     ]
    }
   ],
   "source": [
    "def f(a, *args):\n",
    "  print(a)\n",
    "  print(args)\n",
    "f(1, 2, 3)"
   ]
  },
  {
   "cell_type": "code",
   "execution_count": 6,
   "metadata": {},
   "outputs": [
    {
     "name": "stdout",
     "output_type": "stream",
     "text": [
      "1\n",
      "(2, 3, 4)\n"
     ]
    }
   ],
   "source": [
    "f(1, 2, 3, 4)"
   ]
  },
  {
   "cell_type": "code",
   "execution_count": 7,
   "metadata": {},
   "outputs": [
    {
     "name": "stdout",
     "output_type": "stream",
     "text": [
      "1\n",
      "(2, 3)\n",
      "1\n",
      "(2, 3, 4)\n"
     ]
    }
   ],
   "source": [
    "# The name args is not important\n",
    "def f(a, *variable):\n",
    "  print(a)\n",
    "  print(variable)\n",
    "f(1, 2, 3)\n",
    "f(1, 2, 3, 4)"
   ]
  },
  {
   "cell_type": "markdown",
   "metadata": {},
   "source": [
    "Similarly, if you put two asterisks in front of your variable (e.g. ``**kwargs``), it will assign all names variables to kwargs (in a dictionary format)."
   ]
  },
  {
   "cell_type": "code",
   "execution_count": 8,
   "metadata": {},
   "outputs": [
    {
     "name": "stdout",
     "output_type": "stream",
     "text": [
      "1\n",
      "{'b': 2, 'c': 3}\n"
     ]
    }
   ],
   "source": [
    "def f(a, **kwargs):\n",
    "  print(a)\n",
    "  print(kwargs)\n",
    "f(a=1, b=2, c=3)"
   ]
  },
  {
   "cell_type": "markdown",
   "metadata": {},
   "source": [
    "Again, we're mostly explaining this so you are familiar with it later on, when it will become extremely useful."
   ]
  },
  {
   "cell_type": "markdown",
   "metadata": {},
   "source": [
    "## Readability - Type Hinting \n",
    "Type hints indicate the types of variables, function parameters, and return values. They can help other developers understand what types of data your function expects and what it will return. Though it's not necessary to type hint, it helps improves the code readability and helps other people troubleshoot what's going on if they run into an issue."
   ]
  },
  {
   "cell_type": "code",
   "execution_count": 9,
   "metadata": {},
   "outputs": [],
   "source": [
    "def surface_area_of_cube(edge_length: float) -> str:\n",
    "    return f\"The surface area of the cube is {6 * edge_length ** 2}.\""
   ]
  },
  {
   "cell_type": "markdown",
   "metadata": {},
   "source": [
    "The function surface_area_of_cube takes an argument expected to be an instance of float, as indicated by the type hint edge_length: float. The function is expected to return an instance of str, as indicated by the -> str hint.\n",
    "\n",
    "# Readability - Docstrings\n",
    "\n",
    "Docstrings are great for understanding the functionality of the larger part of the code, i.e., the general purpose of any class or function. You can write whatever you want in it, though people generally prefer to follow certain style guide conventions, e.g. [PEP-257](https://peps.python.org/pep-0257/), or [numpydoc](https://numpydoc.readthedocs.io/en/latest/format.html)"
   ]
  },
  {
   "cell_type": "code",
   "execution_count": 10,
   "metadata": {},
   "outputs": [],
   "source": [
    "def surface_area_of_cube(edge_length: float) -> str:\n",
    "    \"\"\"\n",
    "    Hahaha I am writing whatever I want! this is going to output the surface of a cuuubbeeeeee :) \n",
    "    \"\"\"\n",
    "    return f\"The surface area of the cube is {6 * edge_length ** 2}.\""
   ]
  },
  {
   "cell_type": "code",
   "execution_count": 11,
   "metadata": {},
   "outputs": [
    {
     "name": "stdout",
     "output_type": "stream",
     "text": [
      "\u001b[31mSignature:\u001b[39m surface_area_of_cube(edge_length: float) -> str\n",
      "\u001b[31mDocstring:\u001b[39m Hahaha I am writing whatever I want! this is going to output the surface of a cuuubbeeeeee :) \n",
      "\u001b[31mFile:\u001b[39m      /var/folders/xt/qs85nkk57c508r2jh9123qlh0000gn/T/ipykernel_20620/2187800515.py\n",
      "\u001b[31mType:\u001b[39m      function"
     ]
    }
   ],
   "source": [
    "surface_area_of_cube?"
   ]
  },
  {
   "cell_type": "code",
   "execution_count": 12,
   "metadata": {},
   "outputs": [],
   "source": [
    "# Sharon likes to use numpydoc convention.\n",
    "\n",
    "def surface_area_of_cube(edge_length: float) -> str:\n",
    "    \"\"\"\n",
    "    A unit agnostic function that calculates the surface area of a cube based on it's edge length. \n",
    "\n",
    "    Parameters\n",
    "    ----------\n",
    "    edge_length : float\n",
    "        The length of an edge for a given cube\n",
    "\n",
    "    Returns\n",
    "    -------\n",
    "    string\n",
    "        Human readable message detailing the surface area of the cube\n",
    "\n",
    "    \"\"\"\n",
    "    return f\"The surface area of the cube is {6 * edge_length ** 2}.\""
   ]
  },
  {
   "cell_type": "code",
   "execution_count": 13,
   "metadata": {},
   "outputs": [
    {
     "name": "stdout",
     "output_type": "stream",
     "text": [
      "\u001b[31mSignature:\u001b[39m surface_area_of_cube(edge_length: float) -> str\n",
      "\u001b[31mDocstring:\u001b[39m\n",
      "A unit agnostic function that calculates the surface area of a cube based on it's edge length. \n",
      "\n",
      "Parameters\n",
      "----------\n",
      "edge_length : float\n",
      "    The length of an edge for a given cube\n",
      "\n",
      "Returns\n",
      "-------\n",
      "string\n",
      "    Human readable message detailing the surface area of the cube\n",
      "\u001b[31mFile:\u001b[39m      /var/folders/xt/qs85nkk57c508r2jh9123qlh0000gn/T/ipykernel_20620/89576434.py\n",
      "\u001b[31mType:\u001b[39m      function"
     ]
    }
   ],
   "source": [
    "surface_area_of_cube?"
   ]
  },
  {
   "cell_type": "markdown",
   "metadata": {},
   "source": [
    "## Problem 1 (list comprehension):\n",
    "1. Create a list using **list comprehension** where any values between 2 and 10 inclusive that are divisible by 3 are added to the list. Assign the list to a variable called `divisible_3s`.\n",
    "2. Using a for loop, print the index and the value at that index for every element in `divisible_3s`.\n",
    "3. Create a dictionary using list comprehension where the key is $x^3$ and the value is $x^2$ for x's between 1 and 4 inclusive. Assign the dictionary to variable `cube_square`.\n",
    "4. Print the key and value for every key, value pair in `cube_square`"
   ]
  },
  {
   "cell_type": "code",
   "execution_count": 19,
   "metadata": {},
   "outputs": [
    {
     "name": "stdout",
     "output_type": "stream",
     "text": [
      "[3, 6, 9]\n"
     ]
    }
   ],
   "source": [
    "#1.1 \n",
    "\n",
    "divisible_3s = [x for x in range(2,11) if x%3==0] \n",
    "print(divisible_3s)"
   ]
  },
  {
   "cell_type": "code",
   "execution_count": 20,
   "metadata": {},
   "outputs": [
    {
     "name": "stdout",
     "output_type": "stream",
     "text": [
      "0 3\n",
      "1 6\n",
      "2 9\n"
     ]
    }
   ],
   "source": [
    "#1.2\n",
    "for i in range(len(divisible_3s)):\n",
    "  print(i, divisible_3s[i])"
   ]
  },
  {
   "cell_type": "code",
   "execution_count": 26,
   "metadata": {},
   "outputs": [],
   "source": [
    "#1.3\n",
    "cube_square = {x**3: x**2 for x in range(1,5)}\n"
   ]
  },
  {
   "cell_type": "code",
   "execution_count": 27,
   "metadata": {},
   "outputs": [
    {
     "name": "stdout",
     "output_type": "stream",
     "text": [
      "1 1\n",
      "8 4\n",
      "27 9\n",
      "64 16\n"
     ]
    }
   ],
   "source": [
    "#1.4\n",
    "for key, value in cube_square.items(): # combines tuple unpacking with items\n",
    "    print(key, value)"
   ]
  },
  {
   "cell_type": "markdown",
   "metadata": {},
   "source": [
    "## Problem 2 (error raises, default arguments)\n",
    "1. Write a function `integer_add` that takes two arguments and adds them together. If either of the arguments are not integers, raise an error. What is the correct error for this issue? \n",
    "2. Set default arguments of the two arguments to 1 for this function."
   ]
  },
  {
   "cell_type": "code",
   "execution_count": 31,
   "metadata": {},
   "outputs": [],
   "source": [
    "#2.1\n",
    "\n",
    "def integer_add(a,b):\n",
    "    \"\"\"\n",
    "    Prints the sum between two integers.\n",
    "    Args:\n",
    "        a (int): any integer.\n",
    "        b (int): any integer.\n",
    "    Returns:\n",
    "        result: the sum of args a and b.\n",
    "    \"\"\"\n",
    "    if type(a) != int or type(b) != int:\n",
    "        raise TypeError('one of the arguments is not an integer!')\n",
    "    else:\n",
    "        result = a+b\n",
    "        return(result)\n",
    "    "
   ]
  },
  {
   "cell_type": "code",
   "execution_count": 33,
   "metadata": {},
   "outputs": [],
   "source": [
    "#2.2\n",
    "def integer_add(a=2,b=6):\n",
    "    \"\"\"\n",
    "    Prints the sum between two integers.\n",
    "    Args:\n",
    "        a (int): any integer (default = 2).\n",
    "        b (int): any integer (default = 6).\n",
    "    Returns:\n",
    "        result: the sum of args a and b (default = 8).\n",
    "    \"\"\"\n",
    "    if type(a) != int or type(b) != int:\n",
    "        raise TypeError('one of the arguments is not an integer!')\n",
    "    else:\n",
    "        result = a+b\n",
    "        return(result)"
   ]
  },
  {
   "cell_type": "markdown",
   "metadata": {},
   "source": [
    "## Problem 3 (try/except, break/pass/continue):\n",
    "1. Use try/except to write a FUNCTION that takes integers a and b and prints a/b. If it gets an error (for example b is 0), it should instead print \"Cannot divide by zero\". Try your code with a few different choices of a and b to make sure it works correctly. \n",
    "- **Additionally, write a docstring for that funtion.**\n",
    "\n",
    "2. Modify your function so that it takes lists a and b, where numbers are paired by their index, and prints out a/b for each pair. If you run into an error, you must use pass, continue or break to print \"Cannot divide by zero\", and then continue printing the rest of the pairs. \n",
    "- **Use type hinting to indicate that a and b take in a list.**"
   ]
  },
  {
   "cell_type": "code",
   "execution_count": 46,
   "metadata": {},
   "outputs": [
    {
     "name": "stdout",
     "output_type": "stream",
     "text": [
      "2.0\n",
      "4.5\n",
      "Cannot divide by zero.\n",
      "one of the arguments is not an integer!\n"
     ]
    }
   ],
   "source": [
    "#3.1\n",
    "\n",
    "def divide_integers(a,b):\n",
    "    \"\"\"\n",
    "    This is a function that divides two integers.\n",
    "    Args:\n",
    "        a (int): any integer.\n",
    "        b (int): any integer (cannot be 0).\n",
    "    Returns:\n",
    "        a/b\n",
    "    \"\"\"\n",
    "    try:\n",
    "        if not type(a) != int or type(b) != int:\n",
    "            print(a/b)\n",
    "        else:\n",
    "            raise TypeError\n",
    "    except ZeroDivisionError:\n",
    "        print(\"Cannot divide by zero.\")\n",
    "    except TypeError:\n",
    "        print(\"one of the arguments is not an integer!\")\n",
    "\n",
    "\n",
    "divide_integers(10,5)\n",
    "divide_integers(9,2)\n",
    "divide_integers(10,0)\n",
    "divide_integers(10.2,6)"
   ]
  },
  {
   "cell_type": "code",
   "execution_count": 48,
   "metadata": {},
   "outputs": [],
   "source": [
    "#3.2 \n",
    "    \n",
    "def divide_integers(a: list, b:list) -> None:\n",
    "    \"\"\"\n",
    "    This is a function that divides two lists of integers. NOTE: a and b must be the same length.\n",
    "    Args:\n",
    "        a (list): list any integers.\n",
    "        b (int): any integer (cannot be 0).\n",
    "    Returns:\n",
    "        a/b\n",
    "    \"\"\"\n",
    "    if len(a) != len(b):\n",
    "        print(\"Warning: Lists are different lengths; extra elements will be ignored.\")\n",
    "    for i in range(min(len(a), len(b))):\n",
    "        try:\n",
    "            if not type(a[i]) != int or type(b[i]) != int:\n",
    "                print(a[i]/b[i])\n",
    "            else:\n",
    "                raise TypeError\n",
    "        except ZeroDivisionError:\n",
    "            print(f\"Pair {i}: Cannot divide by zero.\")\n",
    "            continue\n",
    "        except TypeError:\n",
    "            print(f\"Pair {i}: one of the arguments is not an integer!\")\n",
    "            continue\n",
    "\n",
    "\n"
   ]
  },
  {
   "cell_type": "code",
   "execution_count": 49,
   "metadata": {},
   "outputs": [
    {
     "name": "stdout",
     "output_type": "stream",
     "text": [
      "10.0\n",
      "10.0\n",
      "10.0\n"
     ]
    }
   ],
   "source": [
    "divide_integers([10,20,30], [1,2,3])"
   ]
  },
  {
   "cell_type": "code",
   "execution_count": 50,
   "metadata": {},
   "outputs": [
    {
     "name": "stdout",
     "output_type": "stream",
     "text": [
      "10.0\n",
      "Pair 1: Cannot divide by zero.\n",
      "10.0\n"
     ]
    }
   ],
   "source": [
    "divide_integers([10,20,30],[1,0,3])"
   ]
  },
  {
   "cell_type": "code",
   "execution_count": 51,
   "metadata": {},
   "outputs": [
    {
     "name": "stdout",
     "output_type": "stream",
     "text": [
      "Warning: Lists are different lengths; extra elements will be ignored.\n",
      "10.0\n",
      "Pair 1: Cannot divide by zero.\n"
     ]
    }
   ],
   "source": [
    "divide_integers([10,20],[1,0,3])"
   ]
  },
  {
   "cell_type": "code",
   "execution_count": 52,
   "metadata": {},
   "outputs": [
    {
     "name": "stdout",
     "output_type": "stream",
     "text": [
      "Pair 0: one of the arguments is not an integer!\n",
      "Pair 1: Cannot divide by zero.\n",
      "10.0\n"
     ]
    }
   ],
   "source": [
    "divide_integers([\"hello!\",20,30],[1,0,3])"
   ]
  },
  {
   "cell_type": "markdown",
   "metadata": {},
   "source": [
    "# Problem 4\n",
    "\n",
    "Given an array of ints, return True if the array contains a 2 next to a 2 somewhere.\n",
    "\n",
    "\n",
    "has22([1, 2, 2]) → True\n",
    "has22([1, 2, 1, 2]) → False\n",
    "has22([2, 1, 2]) → False\n",
    "\n",
    "**Write a docstring and use type hinting for this function as well.**"
   ]
  },
  {
   "cell_type": "code",
   "execution_count": 76,
   "metadata": {},
   "outputs": [],
   "source": [
    "#4\n",
    "\n",
    "def has22(x:list) -> bool:\n",
    "    \"\"\"\n",
    "    Checks if an array contains a 2 next to another 2 somewhere. \n",
    "\n",
    "    Args: \n",
    "        x (list): a list of integers.\n",
    "\n",
    "    Returns: \n",
    "        bool: True if there is at least one occurrence of a 2 next to a 2, otherwise False.\n",
    "    \"\"\"\n",
    "    for i in range(len(x) - 1): # stop before last element (to prevent indexing error)\n",
    "        if not (type(x[i]) == int and type(x[i + 1]) == int):\n",
    "            print(f\"Non-integer element at index {i} or {i+1}!\")\n",
    "            continue\n",
    "        if x[i] == 2 and x[i + 1] == 2:\n",
    "            return True\n",
    "    return False # only return False after checking all pairs (not triggered if True is found in the loop above)\n",
    "        \n",
    "        \n"
   ]
  },
  {
   "cell_type": "code",
   "execution_count": 77,
   "metadata": {},
   "outputs": [
    {
     "data": {
      "text/plain": [
       "True"
      ]
     },
     "execution_count": 77,
     "metadata": {},
     "output_type": "execute_result"
    }
   ],
   "source": [
    "has22([1, 2, 2])"
   ]
  },
  {
   "cell_type": "code",
   "execution_count": 78,
   "metadata": {},
   "outputs": [
    {
     "data": {
      "text/plain": [
       "False"
      ]
     },
     "execution_count": 78,
     "metadata": {},
     "output_type": "execute_result"
    }
   ],
   "source": [
    "has22([1, 2, 1, 2])"
   ]
  },
  {
   "cell_type": "code",
   "execution_count": 79,
   "metadata": {},
   "outputs": [
    {
     "data": {
      "text/plain": [
       "False"
      ]
     },
     "execution_count": 79,
     "metadata": {},
     "output_type": "execute_result"
    }
   ],
   "source": [
    "has22([2, 1, 2])"
   ]
  },
  {
   "cell_type": "code",
   "execution_count": 80,
   "metadata": {},
   "outputs": [
    {
     "name": "stdout",
     "output_type": "stream",
     "text": [
      "Non-integer element at index 0 or 1!\n"
     ]
    },
    {
     "data": {
      "text/plain": [
       "True"
      ]
     },
     "execution_count": 80,
     "metadata": {},
     "output_type": "execute_result"
    }
   ],
   "source": [
    "has22([2.2, 1, 2, 2])"
   ]
  },
  {
   "cell_type": "markdown",
   "metadata": {},
   "source": [
    "## Problem 5\n",
    "\n",
    "You and your friends are really into the newest season of some reality TV show where everyone speed-dates each other, and you are trying to think of couple names (ship names) for several pairs. A common heuristic for coming up with couple names is combining the first syllable of one person's name with the LAST syllable of the other person's name. So, for example, the couple name for `Sharon` and `Janet` would be `Shanet`, combining the first syllable `Sha` from Sharon and the last syllable `net` from `Janet`.\n",
    " \n",
    "\n",
    "Rules for syllable parsing:\n",
    "If a vowel (letters aeiou and **sometimes** y) is followed by a consonant, that vowel marks the end of the syllable. (e.g. in `Sharon`, `a` is followed by `r`, and thus, the first syllable is `Sha`). EXCEPT, if `sh` follows a vowel, then `sh` marks the end of that syllable. e.g. the first syllable of `Ashley` is `Ash`, not `As`\n",
    " \n",
    "\n",
    "However, what if you have a couple with the names `Aaron` and `Sharon`? Combining the first syllable and last syllable from those two names would yield `Aaron`, and switching the order (where we take the first syllable from Sharon, and the last syllable from Aaron) would yield `Sharon`. These are BORING couple names, because the output is the same as one of the names of the people in the couple. In these cases, you would want to combine the first syllable from `Aaron` with the first syllable from `Sharon`, thus yielding `AaSha`, a much better couple name. [If it makes it easier, I will accept `Ronron` as an answer too.]\n",
    " \n",
    "\n",
    "Write a function called `name_generator` that sets variable `couple_name` to a suitable couple name for a couple with names assigned to variables `person1` and `person2`.\n",
    "\n",
    "\n",
    "I will try AT LEAST 7 test cases when grading, but I will give you 4 of them. Pass at least 3 to get full credit for the problem. Extra credit will be assigned based on the number of test cases passed. Note that this is CASE SENSITIVE.\n",
    "1. `Mobi` and `Betsy` \n",
    "2. `Ellie` and `Kollin`\n",
    "3. `Sam` and `Justin`\n",
    "4. `Shelly` and `Yonathan`"
   ]
  },
  {
   "cell_type": "code",
   "execution_count": 119,
   "metadata": {},
   "outputs": [],
   "source": [
    "# problem 5\n",
    "\n",
    "def name_generator(person1 : str, person2 : str) -> str:\n",
    "    ##### Put your work below this line.\n",
    "    \n",
    "    vowels = \"aeiouyAEIOUY\"\n",
    "\n",
    "    # first syllable of person 1    \n",
    "    for i in range(1, len(person1)):\n",
    "        if person1[i-1] in vowels and person1[i] not in vowels: # If previous character is a vowel and current character is a consonant\n",
    "            first_syllable1 = person1[:i]\n",
    "            break\n",
    "    \n",
    "    # first syllable of person 2    \n",
    "    for i in range(1, len(person2)):\n",
    "        if person2[i-1] in vowels and person2[i] not in vowels: # If previous character is a vowel and current character is a consonant\n",
    "            first_syllable2 = person2[:i]\n",
    "            break\n",
    "    \n",
    "    # second syllable onwards for person 2\n",
    "    for i in range(1, len(person2)):\n",
    "        if person2[i-1] in vowels and person2[i] not in vowels: # If previous character is a vowel and current character is a consonant\n",
    "            first_syllable_end = i\n",
    "            break\n",
    "    # Get everything after the first syllable\n",
    "    second_syllable_onwards = person2[first_syllable_end:]\n",
    "    \n",
    "    # combine syllables of person1 and person2\n",
    "    couple_name = first_syllable1 + second_syllable_onwards\n",
    "\n",
    "    # --- check for boring case ---\n",
    "    if couple_name.lower() in (person1.lower(), person2.lower()):\n",
    "        couple_name = first_syllable1 + first_syllable2  # combine first syllables instead\n",
    "\n",
    "    #### Put your work above this line \n",
    "    return couple_name"
   ]
  },
  {
   "cell_type": "code",
   "execution_count": 120,
   "metadata": {},
   "outputs": [
    {
     "data": {
      "text/plain": [
       "'Motsy'"
      ]
     },
     "execution_count": 120,
     "metadata": {},
     "output_type": "execute_result"
    }
   ],
   "source": [
    "name_generator(\"Mobi\",\"Betsy\")"
   ]
  },
  {
   "cell_type": "code",
   "execution_count": 121,
   "metadata": {},
   "outputs": [
    {
     "data": {
      "text/plain": [
       "'Ellin'"
      ]
     },
     "execution_count": 121,
     "metadata": {},
     "output_type": "execute_result"
    }
   ],
   "source": [
    "name_generator(\"Ellie\",\"Kollin\")"
   ]
  },
  {
   "cell_type": "code",
   "execution_count": 122,
   "metadata": {},
   "outputs": [
    {
     "data": {
      "text/plain": [
       "'Sastin'"
      ]
     },
     "execution_count": 122,
     "metadata": {},
     "output_type": "execute_result"
    }
   ],
   "source": [
    "name_generator(\"Sam\",\"Justin\")"
   ]
  },
  {
   "cell_type": "code",
   "execution_count": 123,
   "metadata": {},
   "outputs": [
    {
     "data": {
      "text/plain": [
       "'Shenathan'"
      ]
     },
     "execution_count": 123,
     "metadata": {},
     "output_type": "execute_result"
    }
   ],
   "source": [
    "name_generator(\"Shelley\",\"Yonathan\")"
   ]
  },
  {
   "cell_type": "code",
   "execution_count": 124,
   "metadata": {},
   "outputs": [
    {
     "data": {
      "text/plain": [
       "'AaSha'"
      ]
     },
     "execution_count": 124,
     "metadata": {},
     "output_type": "execute_result"
    }
   ],
   "source": [
    "name_generator(\"Aaron\",\"Sharon\")"
   ]
  },
  {
   "cell_type": "code",
   "execution_count": null,
   "metadata": {},
   "outputs": [],
   "source": []
  }
 ],
 "metadata": {
  "kernelspec": {
   "display_name": "intropython",
   "language": "python",
   "name": "python3"
  },
  "language_info": {
   "codemirror_mode": {
    "name": "ipython",
    "version": 3
   },
   "file_extension": ".py",
   "mimetype": "text/x-python",
   "name": "python",
   "nbconvert_exporter": "python",
   "pygments_lexer": "ipython3",
   "version": "3.13.5"
  }
 },
 "nbformat": 4,
 "nbformat_minor": 2
}
